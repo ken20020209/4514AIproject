{
 "cells": [
  {
   "cell_type": "code",
   "execution_count": 1,
   "metadata": {},
   "outputs": [
    {
     "name": "stderr",
     "output_type": "stream",
     "text": [
      "Special tokens have been added in the vocabulary, make sure the associated word embeddings are fine-tuned or trained.\n",
      "Special tokens have been added in the vocabulary, make sure the associated word embeddings are fine-tuned or trained.\n"
     ]
    },
    {
     "data": {
      "application/vnd.jupyter.widget-view+json": {
       "model_id": "0ab206b7ccf84dab93278ff847a0822f",
       "version_major": 2,
       "version_minor": 0
      },
      "text/plain": [
       "Map:   0%|          | 0/100 [00:00<?, ? examples/s]"
      ]
     },
     "metadata": {},
     "output_type": "display_data"
    },
    {
     "name": "stderr",
     "output_type": "stream",
     "text": [
      "C:\\Users\\ken20\\AppData\\Local\\Packages\\PythonSoftwareFoundation.Python.3.11_qbz5n2kfra8p0\\LocalCache\\local-packages\\Python311\\site-packages\\transformers\\pipelines\\base.py:1101: UserWarning: You seem to be using the pipelines sequentially on GPU. In order to maximize efficiency please use a dataset\n",
      "  warnings.warn(\n"
     ]
    },
    {
     "name": "stdout",
     "output_type": "stream",
     "text": [
      "50.0\n",
      "['冇事，唔緊要', '驚佢唔搞落去', '嗰個幫我整影片嘅朋友都同我提過佢', '乜鬼嘢記憶力？', '拼音靠打詞打句可以降重', '你以為我真係咁膚淺咩？', '嗰個係因為我哋呢邊有規範嘅，請你理解下', '下一位', '識穿真相好低 B', '真唔明你想表達咩意思', '噉解散咗咩群', '所以原來你係有人性㗎喎', '兩個都係噉樣', '真係同可改造嘅人講先得囉', '夜晚我沖涼嗰陣', '呢個真係好唔方便', '每條片廿分鐘', '呢個文章寫得好中肯，但係如果畀人利用咗嘅話就唔好嘞', '冇證據嘅話，就會好似冇人做錯嘢', '應該叫拼寫串連？', '麻將之類嘅', '你有冇見到', '唔怪得不斷收到通知', '牛丸湯麵兩個 外賣 唔該', '其實已經有教程', '注音我唔打算用喇內地要求簡體字', '佢哋主要係做語音合成嘅', '佢哋都唔睬人嘅，咁冷漠', '仲有唔該大家記住', '特登用同音錯字', '邊個坐緊喺度？', '所以咪出問題囉', '有啲人隨住社會嘅開放 出嚟背住自己老婆搞搞震嘅', '擺兩個女人出來擋子彈', '我會從此就係你生命中消失', '我講先㗎', '網上查看，電腦版可以過濾生僻字', '唔識嗰個字點打', '咁夜仲未瞓覺', '好，等個常用錯字表傾掂我就發', '只係北方地區嘅人唔係咁睇得明', '又唔抵得人哋好', '你覺得自己係咪口快過腦', '你今次要坐商務咩', '你信基督？', '好，而家得啦', '噉我有太多說話未曾講', '未有更好選擇之前呢個係目前可用嘅借字', '係一個嚟自一個北加州嘅電話', '我有一段時間係大食積', '顯然唔係你想要嘅嘢', '而家難咗好多嘞', '你記憶力仲差過我', '我覺得相容碼唔好用', '你哋嗰邊幾點啊？', '試下同我哋住，你會知', '我唔中意見到啲細窿窿黐埋一齊，即刻起晒雞皮', '畫圈嘅係乜嘢意思呢？', '音韻為面目', '而家嘅表難學習', '我唔明呢句', '聽唔聽到吖女，聽唔聽到啫？', '鄉村車或者偏遠地方嘅客車你哋點叫', '好多人都問我攝親咩意思，淨係知道凍親', '古代封閉，少啲文化交流', '我朋友會，但係我一定冇', '你覺得我係打出嚟定係複製過嚟？', '等待下試試', '確實係噉樣樣', '我鍾意打機，但係我更加鍾意瞓覺，所以我唔會捱夜打機', '幾十年又一個輪迴，冇辦法', '呢本嘢有啲有錯漏', '搞死嘅意思', '任何唔屬於你嘅嘢，唔准亂喐', '而家喺常用', '佢會暈低', '至少佢都有對我坦白係咪？', '原本同加英文後嘅對比', '我用搜尋都揾唔返', '有略大差距嘅', '所以我就噉樣坐，盡量唔喐', '都算係噉喇', '佢都唔識中文嘅，不如用英文好過', '呢度嘅相片係每個人獨立上載嘅', '尋晚開會嘅內容佢知道未？', '睇唔到就錯過嘞', '思想我係新派，情感係舊派', '總結下規律', '調值調類邊有一起算嘅', '生僻字需要反查', '所以呢個女仔係邊個？', '你有冇喺舊學校畀人玩過？', '我以為啱嗰句係你講嘅', '我去食嚿包', '日日都唔見佢讀書，淨係識去玩', '雖然噉樣，但係我好關注呢件事', '可能我唔係好識表達，唔好介意', '我都係覺得用表格直觀啲', '你係咪覺得我應該要理解你？', '睇清權限就得，唔使太過潔癖']\n",
      "['冇事，唔緊要', '驚佢唔夠落去', '嗰個幫我整影片嘅朋友都同我睇過佢', '乜鬼嘢記憶力？', '拼音靠打詞打句可以講錯', '你以為我真係咁膚淺咩？', '嗰個係因為我哋呢邊有規範嘅，請你理解下', '下一位', '四川真相好低B', '真唔明你想表達咩意思', '噉解散咗咩群？', '所以原來你係有人性㗎喎', '兩個都係噉樣', '真係同學改造嘅人講先得囉', '夜晚我沖涼嗰陣', '呢個真係好唔方便', '每條片廿分鐘', '呢個文章寫得好中肯，但係如果畀人哋用咗嘅話，就唔好喇', '冇證據嘅話，就會好似冇人做錯嘢', '應該叫拼寫全聯？', '麻雀子類嘅', '你有冇見到', '唔怪得不斷收到通知', '牛軟湯麵兩個，外賣，唔該', '其實已經有教程', '注音龍唔打算用喇，內地要求簡體字', '佢哋主要係做語音合成嘅', '佢哋都唔睬人㗎，更冷漠', '仲有唔該大家記住', '特登用同音錯字', '邊個坐緊喺度？', '所以咪出問題囉', '有啲人隨住社會嘅開放，速力背住自己老婆搞搞陣嘅', '擺兩個女人出嚟擋子彈', '我會從此就喺你生命中消失', '我講先㗎', '網上查看，電腦版可以過濾新僻字', '唔識嗰個字點打', '咁夜仲未瞓覺？', '好，等我常用錯字表傾電我就返', '只係北方地區嘅人唔係咁睇得明', '又唔抵得人哋好', '你覺得自己係咪好快過老', '你今次要坐商務咩？', '你信基督', '好，而家得啦', '噉我有太多說話未曾講', '未有更好選擇之前，呢個係目前可用嘅借字', '係一個例子一個北加州嘅電話', '我有一段時間係大食職', '顯然唔係你想要嘅嘢', '而家難咗好多喇', '你記憶力仲差過我', '我覺得上用馬唔好用', '你哋嗰邊幾點啊', '試下同我哋住，你會知', '我唔鍾意見到啲細窿窿黐埋一齊，即刻起晒雞皮', '畫圈嘅係乜嘢意思呢', '音韻為面目', '而家嘅表難學習', '我唔明呢句', '聽唔聽到啊女？聽唔聽到啫？', '鄉村車或者平原地方個卡車你哋點由', '好多人都問我攝親咩意思，淨係知道凍親', '古代封閉，少啲文霸交流', '我朋友會，但係我一定冇', '你覺得我係打出嚟定係複製過嚟', '等待下試試', '確實係噉樣樣', '我鍾意打機，但係我更加鍾意瞓覺，所以我唔會捱夜打機', '幾十年有一個輪迴，冇辦法', '呢本嘢有啲有錯流', '搞死嘅意思', '任何唔屬於你嘅嘢，唔准亂用', '而家喺場用', '佢會暈低', '至少佢都有對我坦白係咪？', '原本房家英文頭嘅對比', '我用搜尋都揾唔返', '有略大差距嘅', '所以我就噉樣坐，儘量唔喐', '都算係噉啦', '佢都唔識中文嘅，不如用英文好過', '呢度嘅相片係每個人獨立上載嘅', '尋晚開會嘅內容佢知道未？', '睇唔到就錯過喇', '思想我係新派，情感係舊派', '總結下規律', '調直調類邊有一起算嘅', '新僻字需要反查', '所以呢個女仔係邊個？', '你有冇喺舊學校畀人玩過', '我以為啱嗰句係你講嘅', '我去食九包', '日日都唔見佢讀書，淨係識佢玩', '雖然噉樣，但係我好關注呢件事', '可能我唔係好識表達，唔好介意', '我都係覺得用表格習慣啲', '你係咪覺得我應該要理解你？', '睇清全限就得，唔使太過潔癖']\n"
     ]
    }
   ],
   "source": [
    "from datasets import load_dataset,Audio\n",
    "from transformers import WhisperForConditionalGeneration, WhisperProcessor,pipeline\n",
    "import torch\n",
    "from evaluate import load\n",
    "\n",
    "common_voice = load_dataset(\"mozilla-foundation/common_voice_11_0\", \"yue\", split=\"test\")\n",
    "common_voice = common_voice.cast_column(\"audio\", Audio(sampling_rate=16000))\n",
    "common_voice = common_voice.select(range(100))\n",
    "\n",
    "# processor = WhisperProcessor.from_pretrained(path)\n",
    "# model = WhisperForConditionalGeneration.from_pretrained(path).to(\"cuda\")\n",
    "pipe = pipeline(\"automatic-speech-recognition\", model=\"simonl0909/whisper-large-v2-cantonese\",device=0)\n",
    "# print(processor)\n",
    "# print(model)\n",
    "\n",
    "\n",
    "def map_to_pred(batch):\n",
    "    audio = batch[\"audio\"]\n",
    "    # input_features = processor(audio[\"array\"], sampling_rate=audio[\"sampling_rate\"], return_tensors=\"pt\").input_features\n",
    "    batch[\"reference\"] =  batch['sentence']\n",
    "\n",
    "    # with torch.no_grad():\n",
    "    #     predicted_ids = model.generate(input_features.to(\"cuda\"))[0]\n",
    "    # transcription = processor.decode(predicted_ids)\n",
    "    batch[\"prediction\"] = pipe(audio[\"path\"])[\"text\"]\n",
    "    return batch\n",
    "\n",
    "result = common_voice.map(map_to_pred)\n",
    "\n",
    "wer = load(\"wer\")\n",
    "print(100 * wer.compute(references=result[\"reference\"], predictions=result[\"prediction\"]))\n",
    "print(result[\"reference\"])\n",
    "print(result[\"prediction\"])\n"
   ]
  },
  {
   "cell_type": "code",
   "execution_count": 1,
   "metadata": {},
   "outputs": [
    {
     "name": "stderr",
     "output_type": "stream",
     "text": [
      "Special tokens have been added in the vocabulary, make sure the associated word embeddings are fine-tuned or trained.\n",
      "Special tokens have been added in the vocabulary, make sure the associated word embeddings are fine-tuned or trained.\n"
     ]
    },
    {
     "data": {
      "application/vnd.jupyter.widget-view+json": {
       "model_id": "db019d440cbb4c08b31b9d99aae43e26",
       "version_major": 2,
       "version_minor": 0
      },
      "text/plain": [
       "Map:   0%|          | 0/100 [00:00<?, ? examples/s]"
      ]
     },
     "metadata": {},
     "output_type": "display_data"
    },
    {
     "name": "stderr",
     "output_type": "stream",
     "text": [
      "C:\\Users\\ken20\\AppData\\Local\\Packages\\PythonSoftwareFoundation.Python.3.11_qbz5n2kfra8p0\\LocalCache\\local-packages\\Python311\\site-packages\\transformers\\pipelines\\base.py:1101: UserWarning: You seem to be using the pipelines sequentially on GPU. In order to maximize efficiency please use a dataset\n",
      "  warnings.warn(\n"
     ]
    },
    {
     "name": "stdout",
     "output_type": "stream",
     "text": [
      "79.0\n",
      "['杞人嘅朋友嘆咗一口氣', '聚星樓', '泥水佬開門口過得人過得自己', '嗰次喺跑馬地協和里見到有雞蛋仔格仔餅賣', '學生話佢知白沙山路係喺大棠，但係唔知有冇小巴經嗰度', '有個老人去左坪洲永安橫街食齋', '選定了心儀嘅機構先查詢個人實際年利率，咁會比較明智', '唔係', '正在做廉價勞工，收入少過做洗碗或保安員', '安哥拉', '大蝦天婦羅', '麻婆豆腐', '黃師傅去慈雲山豐華街幫個後生仔睇跌打', '八', '三', '這也是我對學生的基本要求', '有個亞伯喺元朗米蘭徑唔見左個銀包', '夏力道', '鼓勵大眾齊齊溜冰', '我才有力氣走下去', '畫虎畫皮難畫骨', '我依家喺上水衛和街，附近有停車場泊車嗎', '老友唔記得去荃灣灰窰角街參加緩步跑練習', '記得set返chrome入面香港繁體做優先', '二', '有個亞伯喺沙田窰圍街唔見左個銀包', '瘋瘋癲癲', '入左去就可以做到退休', '豉油皇雞翼', '聖克里斯多福及尼維斯', '紫荊東路', '算啦，唔好嚇親啲細侄啦', '今次真係俾你累死，水洗都唔清。', '落緊雨仲要趕住去小瀝源大老山公路打乒乓波', '枝竹豆腐飯', '好耐無去土瓜灣北帝街探舅父', '帶著微笑的活', '茂蘿街', '就算母親節當天走到街上還是會問', '所謂嘅馳名燒鵝一落台見到就唔開胃', '稟性難移', '的士喺銅鑼灣祈禮士道兜左幾個圈', '菩提街', '零', '若然未報，時辰未到！', '槐樹街', '新加坡', '好嘅唔靈醜嘅靈', '可樂', '謝謝所有香港有心的醫謢人員', '你哋快啲啦!婆婆佢哋而家喺荔景站等緊你哋', '請問你有無聽過浪茄灣附近睇魚岩頂喺邊度', '香港大會堂', '我得五十蚊喳', '返工緊要', '佢睇唔清楚', '係', '貨運道', '七', '黐線蜘蛛啲蜘蛛絲黐住支樹枝', '許多年，', '講件事你知', '四', '邊個會知道荃灣海壩街邊間雲吞麵最好食', '大嫂要去馬鞍山沙安街嗰度買啲嘢', '真係要慢慢揀花多眼亂千祈唔好催我', '如果未去過荃灣嘅兆和街就真係要搵個時間去行吓', '有無人知道荃灣海浪徑係點去㗎', '六合街', '有個老婆婆喺元朗紫荊東路等緊小巴', '因此應定期修剪腳甲', '希臘', '點解唔見左大埔大富街對開嗰個巴士站', '司機大佬唔該快啲，頭先喺馬鞍山喜泰街跌左部手機', '你知唔知點去九龍灣宏光道嗰間缽仔糕', '舊域多利軍營蒙高瑪利樓', '大嫂要去洪水橋沙洲里路嗰度買啲嘢', '其實可以再快啲', '何苦舟車勞頓', '魚香茄子飯', '落緊雨仲要趕住去天水圍天城路打乒乓波', '咖喱角', '魚香茄子煲', '經濟唔好，唯有睇餸食飯', '個條木嘴都唔得話頭醒尾嘅', '如果佢喺黃大仙金鳳街搵唔到便利店買汽水', '有個老人去左牛池灣沐翠街食齋', '你知唔知點去北角宏安道嗰間缽仔糕', '鹽燒銀雪魚骨', '唔使用劍嘅用黑旋風就得啦', '西紅杮係大陸人先咁叫', '上海豬扒粗炒', '司機大佬唔該快啲，頭先喺上水嘉富坊跌左部手機', '嗰次喺淺水灣南灣坊見到有雞蛋仔格仔餅賣', '阿拉伯聯合大公國', '要為你的行為負責', '點解唔見左大圍大埔公路沙田嶺段對開嗰個巴士站', '你哋快啲啦!大舅父佢哋而家喺調景嶺站等緊你哋', '你知唔知點去元朗宏樂街嗰間缽仔糕', '跑馬地樂天峰附近有無超級市場？']\n",
      "['杞人憂天嘅朋友嘆咗一口氣', '最星樓', '泥水路開門口過得人過得自己', '嗰次喺跑馬地協和利見到有雞蛋仔格仔餅賣', '學生話佢知白沙山路係喺大堂，但係唔知有冇小巴經嗰度', '有個老人去咗平州永安橫街食齋', '選定了心儀嘅機構先查詢個人實際年齡率噉會比較明智', '唔係', '正在做廉價勞工，收入少過組細會話報安源', '轉過拉', '大蝦天婦羅', '麻婆豆腐', '黃師傅去慈雲山風華街幫個後生仔睇鐵打', '拜拜', '三', ' [Music]', '有個阿伯喺元朗米蘭勁唔見咗個銀包', '下力度', '鼓勵大眾齊齊留兵', '', '畫畫係畫', '我而家喺上水惠禾街，附近有停車場拍車嘛', '老友唔記得去荃灣沛窈各街參加緩步跑練習', '記得設返空入面香港繁體做優先', '意，意', '有個阿伯喺沙田耀圍街唔見咗個銀包', '蹦蹦掂掂', '入到去就可以做到退休', '豉油黃雞翼', '勝克尼斯多福及利維斯', '紙荊東路', '算啦，唔好嚇親啲細隻啦', '今次真係畀你累死，水勢都唔清', '落緊雨仲要趕去小溺元大佬山公路打乒乓波', '知足豆腐飯', '好耐冇去土瓜灣畢地街探舅父', '帶着微笑的活', '茂廊街', '就算母親接當天走喺街上環事會問', '所謂嘅詞名燒我一樂台見到就唔開位', '品性辣熱', '', '陶體街', '零', '若然未報，時辰未到', '葵樹雞', '新加坡', '好嘅唔靚醜嘅嚟', '可樂', '借借所有香港有心的醫護人員', '你哋快啲啦，婆婆佢哋而家喺禮景站等緊你哋', '請問你有冇聽過狼騎灣附近睇魚鹹餅喺邊度？', '香港大回頭', '我得五十蚊咋', '反攻前右', '佢睇唔清楚', '係！', '學完頭', '拆', '黐線蜘蛛啲蜘蛛絲黐住支樹枝', '佢當年', '講件事你知', '四', '邊個唔知道全班愛拜齋 邊帶雲吞面想食', '大嫂要去馬鞍山沙漢界嗰度買啲嘢', '真係要慢慢揀花多眼亂，千萬唔好吹我', '如果未去過荃灣嘅兹禾街真係要揾個時間去行下', '有冇人知道荃灣海浪徑係點去㗎', '六合街', '有個老婆婆喺元羅慈京東路等緊照嘛', '因此已經定期收剪腳架', '希臘', '點解唔見咗大步大虎街對開嗰個巴士站', '司機大佬唔該快啲，頭先喺馬鞍山起太街跌咗部手機', '你知唔知點去九龍灣雲江度嗰間缽仔糕？', '舊域多里軍營蒙高馬里流', '大嫂要去洪水橋沙洲里路嗰度買啲嘢', '其實可以再快啲', '何苦周居勞頓', '魚香茄子飯', '落緊雨仲要趕住去天衰為天成，打畀廣播', '咖哩角', '魚香茄子煲', '經濟唔好，唯有睇餸食飯', '嗰條屋最都唔得話頭醒未嘅', '如果佢喺黃大仙金鳳街揾唔到便利店買汽水', '有個老人去咗牛池灣，木脆皆食滯', '你知唔知點去北角雲安度間缽仔糕', '鹽燒銀雪魚骨', '唔使用劍嘅，用黑雪崩就得喇', '西好似係大陸人先噉叫', '上海豬扒粗炒', '司機大佬，唔該快啲，頭先喺上水加貨方跌咗部手機', '嗰次喺淺水灣南灣方見到有雞蛋仔㗎仔病亡', '阿拉伯聯合大公國', '要為你嘅行為負責', '點解唔見咗大圍大埔公路沙田嶺段對開嗰個巴士站', '你哋快啲啦，大舅府佢哋而家喺條景靚站等緊你哋', '你知唔知點去元朗宏樂街嗰間缽仔糕', '跑馬地落天峰附近有冇超級市場']\n"
     ]
    }
   ],
   "source": [
    "from datasets import load_dataset,Audio\n",
    "from transformers import WhisperForConditionalGeneration, WhisperProcessor,pipeline\n",
    "import torch\n",
    "from evaluate import load\n",
    "\n",
    "common_voice = load_dataset(\"mozilla-foundation/common_voice_11_0\", \"zh-HK\", split=\"test\")\n",
    "common_voice = common_voice.cast_column(\"audio\", Audio(sampling_rate=16000))\n",
    "common_voice = common_voice.select(range(100))\n",
    "\n",
    "# processor = WhisperProcessor.from_pretrained(path)\n",
    "# model = WhisperForConditionalGeneration.from_pretrained(path).to(\"cuda\")\n",
    "pipe = pipeline(\"automatic-speech-recognition\", model=\"simonl0909/whisper-large-v2-cantonese\",device=0)\n",
    "# print(processor)\n",
    "# print(model)\n",
    "\n",
    "\n",
    "def map_to_pred(batch):\n",
    "    audio = batch[\"audio\"]\n",
    "    # input_features = processor(audio[\"array\"], sampling_rate=audio[\"sampling_rate\"], return_tensors=\"pt\").input_features\n",
    "    batch[\"reference\"] =  batch['sentence']\n",
    "\n",
    "    # with torch.no_grad():\n",
    "    #     predicted_ids = model.generate(input_features.to(\"cuda\"))[0]\n",
    "    # transcription = processor.decode(predicted_ids)\n",
    "    batch[\"prediction\"] = pipe(audio[\"path\"])[\"text\"]\n",
    "    return batch\n",
    "\n",
    "result = common_voice.map(map_to_pred)\n",
    "\n",
    "wer = load(\"wer\")\n",
    "print(100 * wer.compute(references=result[\"reference\"], predictions=result[\"prediction\"]))\n",
    "print(result[\"reference\"])\n",
    "print(result[\"prediction\"])\n"
   ]
  }
 ],
 "metadata": {
  "kernelspec": {
   "display_name": "Python 3",
   "language": "python",
   "name": "python3"
  },
  "language_info": {
   "codemirror_mode": {
    "name": "ipython",
    "version": 3
   },
   "file_extension": ".py",
   "mimetype": "text/x-python",
   "name": "python",
   "nbconvert_exporter": "python",
   "pygments_lexer": "ipython3",
   "version": "3.11.6"
  }
 },
 "nbformat": 4,
 "nbformat_minor": 2
}
