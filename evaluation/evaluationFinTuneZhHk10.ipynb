{
 "cells": [
  {
   "cell_type": "code",
   "execution_count": 1,
   "metadata": {},
   "outputs": [],
   "source": [
    "from datasets import load_dataset,Audio\n",
    "from transformers import WhisperForConditionalGeneration, WhisperProcessor\n",
    "import torch\n",
    "from evaluate import load\n",
    "def evaluateModel(path,v=\"\"):\n",
    "    common_voice = load_dataset(\"mozilla-foundation/common_voice_11_0\", \"zh-HK\", split=\"test\")\n",
    "    common_voice = common_voice.cast_column(\"audio\", Audio(sampling_rate=16000))\n",
    "    common_voice = common_voice.select(range(10))\n",
    "\n",
    "    processor = WhisperProcessor.from_pretrained(path)\n",
    "    model = WhisperForConditionalGeneration.from_pretrained(\"../fineTune/fineTue/\"+path+\"/checkpoint-4000\"+v).to(\"cuda\")\n",
    "\n",
    "\n",
    "\n",
    "    def map_to_pred(batch):\n",
    "        audio = batch[\"audio\"]\n",
    "        input_features = processor(audio[\"array\"], sampling_rate=audio[\"sampling_rate\"], return_tensors=\"pt\").input_features\n",
    "        batch[\"reference\"] = processor.tokenizer._normalize(batch['sentence'])\n",
    "\n",
    "        with torch.no_grad():\n",
    "            predicted_ids = model.generate(input_features.to(\"cuda\"))[0]\n",
    "        transcription = processor.decode(predicted_ids)\n",
    "        batch[\"prediction\"] = processor.tokenizer._normalize(transcription)\n",
    "        return batch\n",
    "\n",
    "    result = common_voice.map(map_to_pred)\n",
    "\n",
    "    wer = load(\"wer\")\n",
    "    print(100 * wer.compute(references=result[\"reference\"], predictions=result[\"prediction\"]))\n",
    "    print(result[\"reference\"])\n",
    "    print(result[\"prediction\"])\n"
   ]
  },
  {
   "cell_type": "code",
   "execution_count": 2,
   "metadata": {},
   "outputs": [],
   "source": [
    "whisper_path=[\"openai/whisper-tiny\",\"openai/whisper-base\",\"openai/whisper-small\",\"openai/whisper-medium\",\"openai/whisper-large\",\"openai/whisper-large-v2\",\"openai/whisper-large-v3\"]"
   ]
  },
  {
   "cell_type": "code",
   "execution_count": 4,
   "metadata": {},
   "outputs": [
    {
     "data": {
      "application/vnd.jupyter.widget-view+json": {
       "model_id": "61685ad8408e4d98a6994cbc7a65b50a",
       "version_major": 2,
       "version_minor": 0
      },
      "text/plain": [
       "Map:   0%|          | 0/10 [00:00<?, ? examples/s]"
      ]
     },
     "metadata": {},
     "output_type": "display_data"
    },
    {
     "name": "stdout",
     "output_type": "stream",
     "text": [
      "84.61538461538461\n",
      "['杞人嘅朋友嘆咗一口氣', '聚星樓', '泥水佬開門口過得人過得自己', '嗰次喺跑馬地協和里見到有雞蛋仔格仔餅賣', '學生話佢知白沙山路係喺大棠 但係唔知有冇小巴經嗰度', '有個老人去左坪洲永安橫街食齋', '選定了心儀嘅機構先查詢個人實際年利率 咁會比較明智', '唔係', '正在做廉價勞工 收入少過做洗碗或保安員', '安哥拉']\n",
      "['杞人休天嘅朋友探咗一口氣', '聚星路', '泥水路開門口過得人過得自己', '嗰次喺跑馬地鐵和里見到有雞蛋仔格仔餅民', '學生話佢知白沙山路係喺大堂但係唔知有冇小巴經嗰度', '有個老人去左坪洲永安橫街食齋', '選定了心義嘅機構先查詢個人實際連理率咁會比較明智', '唔係', '聖災做連家老公收入小歌做使碗環保安員', '噴個賴']\n"
     ]
    }
   ],
   "source": [
    "evaluateModel(whisper_path[0])"
   ]
  },
  {
   "cell_type": "code",
   "execution_count": 33,
   "metadata": {},
   "outputs": [
    {
     "data": {
      "application/vnd.jupyter.widget-view+json": {
       "model_id": "6db27ce8470748ffb20b1a388e34540a",
       "version_major": 2,
       "version_minor": 0
      },
      "text/plain": [
       "Map:   0%|          | 0/10 [00:00<?, ? examples/s]"
      ]
     },
     "metadata": {},
     "output_type": "display_data"
    },
    {
     "name": "stdout",
     "output_type": "stream",
     "text": [
      "76.92307692307693\n",
      "['杞人嘅朋友嘆咗一口氣', '聚星樓', '泥水佬開門口過得人過得自己', '嗰次喺跑馬地協和里見到有雞蛋仔格仔餅賣', '學生話佢知白沙山路係喺大棠 但係唔知有冇小巴經嗰度', '有個老人去左坪洲永安橫街食齋', '選定了心儀嘅機構先查詢個人實際年利率 咁會比較明智', '唔係', '正在做廉價勞工 收入少過做洗碗或保安員', '安哥拉']\n",
      "['幾人休天嘅朋友嘆咗一口氣', '聚星流', '泥水路開門口過得人過得自己', '嗰次喺跑馬地協和里見到有雞蛋仔格仔餅賣', '學生話佢知白沙山路係喺大堂 但係唔知有冇小巴經嗰度', '有個老人去左坪洲永安環街食齋', '選定你好心怡既機構先查詢個人實際年厘率咁會比較明智', '唔係', '正在做年加勞工收入少個做世換環保安員', '本個拉']\n"
     ]
    }
   ],
   "source": [
    "evaluateModel(whisper_path[1])"
   ]
  },
  {
   "cell_type": "code",
   "execution_count": 7,
   "metadata": {},
   "outputs": [
    {
     "data": {
      "application/vnd.jupyter.widget-view+json": {
       "model_id": "3ccf34c5f7354849980e7893dc40f3a2",
       "version_major": 2,
       "version_minor": 0
      },
      "text/plain": [
       "Map:   0%|          | 0/10 [00:00<?, ? examples/s]"
      ]
     },
     "metadata": {},
     "output_type": "display_data"
    },
    {
     "name": "stdout",
     "output_type": "stream",
     "text": [
      "1376.923076923077\n",
      "['杞人嘅朋友嘆咗一口氣', '聚星樓', '泥水佬開門口過得人過得自己', '嗰次喺跑馬地協和里見到有雞蛋仔格仔餅賣', '學生話佢知白沙山路係喺大棠 但係唔知有冇小巴經嗰度', '有個老人去左坪洲永安橫街食齋', '選定了心儀嘅機構先查詢個人實際年利率 咁會比較明智', '唔係', '正在做廉價勞工 收入少過做洗碗或保安員', '安哥拉']\n",
      "['a few people is good days friends had a good time', 'tresinglo', 'come open the door it is too much for you it is too much for yourself', '嗰次喺跑馬地協和里見到有雞蛋仔格仔餅賣', '學生話佢知白沙山路係喺大堂 但係唔知有冇小巴經嗰度', 'another老人去左坪洲永安環街食齋', '選定了心儀嘅機構先查詢個人實際年利率咁會比較明智', '唔係', 'ස ස ස ස ස ස ස ස ස ස ස ස ස ස ස ස ස ස ස ස ස ස ස ස ස ස ස ස ස ස ස ස ස ස ස ස ස ස ස ස ස ස ස ස ස ස ස ස ස ස ස ස ස ස ස ස ස ස ස ස ස ස ස ස ස ස ස ස ස ස ස ස ස ස ස ස ස ස ස ස ස ස ස ස ස ස ස ස', 'ස ස ස ස ස ස ස ස ස ස ස ස ස ස ස ස ස ස ස ස ස ස ස ස ස ස ස ස ස ස ස ස ස ස ස ස ස ස ස ස ස ස ස ස ස ස ස ස ස ස ස ස ස ස ස ස ස ස ස']\n"
     ]
    }
   ],
   "source": [
    "evaluateModel(whisper_path[2])"
   ]
  },
  {
   "cell_type": "code",
   "execution_count": 3,
   "metadata": {},
   "outputs": [
    {
     "data": {
      "application/vnd.jupyter.widget-view+json": {
       "model_id": "2530854aed4c42838ba2ced280cc6a98",
       "version_major": 2,
       "version_minor": 0
      },
      "text/plain": [
       "Map:   0%|          | 0/10 [00:00<?, ? examples/s]"
      ]
     },
     "metadata": {},
     "output_type": "display_data"
    },
    {
     "name": "stdout",
     "output_type": "stream",
     "text": [
      "130.76923076923077\n",
      "['杞人嘅朋友嘆咗一口氣', '聚星樓', '泥水佬開門口過得人過得自己', '嗰次喺跑馬地協和里見到有雞蛋仔格仔餅賣', '學生話佢知白沙山路係喺大棠 但係唔知有冇小巴經嗰度', '有個老人去左坪洲永安橫街食齋', '選定了心儀嘅機構先查詢個人實際年利率 咁會比較明智', '唔係', '正在做廉價勞工 收入少過做洗碗或保安員', '安哥拉']\n",
      "['紀人 歐天 嘅朋友 嘆咗 一口氣', 'tui xin loh', '淋水滷開門口過得人過得自己', '嗰次喺跑馬地怯和里見到有雞蛋仔格仔餅賣', '學生話佢知白沙山路係喺大堂 但係唔知有冇小巴經嗰度', '有個老人去左坪洲永安環街食齋', '選定了深怡嘅機構先查詢個人實際連利率咁會比較明智', '唔係', '星載造亂加老公收入少個早晒碗滑步安員', '一個讚']\n"
     ]
    }
   ],
   "source": [
    "evaluateModel(whisper_path[2],\"-4\")"
   ]
  },
  {
   "cell_type": "code",
   "execution_count": null,
   "metadata": {},
   "outputs": [],
   "source": [
    "evaluateModel(whisper_path[3])"
   ]
  },
  {
   "cell_type": "code",
   "execution_count": null,
   "metadata": {},
   "outputs": [],
   "source": [
    "evaluateModel(whisper_path[4])"
   ]
  },
  {
   "cell_type": "code",
   "execution_count": null,
   "metadata": {},
   "outputs": [],
   "source": [
    "evaluateModel(whisper_path[5])"
   ]
  },
  {
   "cell_type": "code",
   "execution_count": null,
   "metadata": {},
   "outputs": [],
   "source": [
    "evaluateModel(whisper_path[6])"
   ]
  }
 ],
 "metadata": {
  "kernelspec": {
   "display_name": "Python 3",
   "language": "python",
   "name": "python3"
  },
  "language_info": {
   "codemirror_mode": {
    "name": "ipython",
    "version": 3
   },
   "file_extension": ".py",
   "mimetype": "text/x-python",
   "name": "python",
   "nbconvert_exporter": "python",
   "pygments_lexer": "ipython3",
   "version": "3.11.6"
  }
 },
 "nbformat": 4,
 "nbformat_minor": 2
}
