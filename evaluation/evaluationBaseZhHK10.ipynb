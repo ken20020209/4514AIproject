{
 "cells": [
  {
   "cell_type": "code",
   "execution_count": 1,
   "metadata": {},
   "outputs": [],
   "source": [
    "from datasets import load_dataset,Audio\n",
    "from transformers import WhisperForConditionalGeneration, WhisperProcessor\n",
    "import torch\n",
    "from evaluate import load\n",
    "def evaluateModel(path):\n",
    "    common_voice = load_dataset(\"mozilla-foundation/common_voice_11_0\", \"zh-HK\", split=\"test\")\n",
    "    common_voice = common_voice.cast_column(\"audio\", Audio(sampling_rate=16000))\n",
    "    common_voice = common_voice.select(range(10))\n",
    "\n",
    "    processor = WhisperProcessor.from_pretrained(path)\n",
    "    model = WhisperForConditionalGeneration.from_pretrained(path).to(\"cuda\")\n",
    "\n",
    "\n",
    "\n",
    "    def map_to_pred(batch):\n",
    "        audio = batch[\"audio\"]\n",
    "        input_features = processor(audio[\"array\"], sampling_rate=audio[\"sampling_rate\"], return_tensors=\"pt\").input_features\n",
    "        batch[\"reference\"] = processor.tokenizer._normalize(batch['sentence'])\n",
    "\n",
    "        with torch.no_grad():\n",
    "            predicted_ids = model.generate(input_features.to(\"cuda\"))[0]\n",
    "        transcription = processor.decode(predicted_ids)\n",
    "        batch[\"prediction\"] = processor.tokenizer._normalize(transcription)\n",
    "        return batch\n",
    "\n",
    "    result = common_voice.map(map_to_pred)\n",
    "\n",
    "    wer = load(\"wer\")\n",
    "    print(100 * wer.compute(references=result[\"reference\"], predictions=result[\"prediction\"]))\n",
    "    print(result[\"reference\"])\n",
    "    print(result[\"prediction\"])\n"
   ]
  },
  {
   "cell_type": "code",
   "execution_count": 2,
   "metadata": {},
   "outputs": [],
   "source": [
    "whisper_path=[\"openai/whisper-tiny\",\"openai/whisper-base\",\"openai/whisper-small\",\"openai/whisper-medium\",\"openai/whisper-large\",\"openai/whisper-large-v2\",\"openai/whisper-large-v3\"]"
   ]
  },
  {
   "cell_type": "code",
   "execution_count": 3,
   "metadata": {},
   "outputs": [
    {
     "data": {
      "application/vnd.jupyter.widget-view+json": {
       "model_id": "594839942848463f8e0c273488e6a212",
       "version_major": 2,
       "version_minor": 0
      },
      "text/plain": [
       "Map:   0%|          | 0/10 [00:00<?, ? examples/s]"
      ]
     },
     "metadata": {},
     "output_type": "display_data"
    },
    {
     "name": "stdout",
     "output_type": "stream",
     "text": [
      "4046.153846153846\n",
      "['杞人嘅朋友嘆咗一口氣', '聚星樓', '泥水佬開門口過得人過得自己', '嗰次喺跑馬地協和里見到有雞蛋仔格仔餅賣', '學生話佢知白沙山路係喺大棠 但係唔知有冇小巴經嗰度', '有個老人去左坪洲永安橫街食齋', '選定了心儀嘅機構先查詢個人實際年利率 咁會比較明智', '唔係', '正在做廉價勞工 收入少過做洗碗或保安員', '安哥拉']\n",
      "['the other day the other day the other day the other day the other day', 'joui sing low', 'lysuy law highman high court and young court', 'in the next episode we will see you in the next episode', 'hock sanhua kheji baksa sanlu is at the bottom but not a little bit of a change', 'there was a man who was a man who was a man who was a man who was a man who was a man who was a man who was a man who was a man who was a man who was a man who was a man who was a man who was a man who was a man who was a man who was a man who was a man who was a man who was a man who was a man who was a man who was a man who was a man who was a man who was a man who was a man who was a man who was a man who was a man who was a man who was a man who was a man who was a man who was a man who was a man who was a man who was a man who was a man who was a man who was a man who was a man who was a man who was a man who was a man who was a man who was a man who was a man who was a man who was a man who was a man who was a man who was a man who was a man who was a man who was a man who was a man who was a man who was a man who was a man who was a man who was a man who was a man who was a man who was a man who was a man who was a man who was a man who was a man who was a man who was a man who was a man who was a man who was a man who was a man who was a man who was a man who was a man who was a man who was a man who was a man who was a man who was a man who was a man who was a man who was a man who was a man who was a man who was a man who was a man who was a man who was a man who was a man who was a man who was a man who was a man who was a man who was a man who was a man who was a man who was a man who was a man who was a man who was a man who was a man who was a man who was a man who was a man who was a man who was a man who was a man', 'the latest news of the new year has been announced in the year of the year', 'bye', 'please join us in the next video', 'but go lie']\n"
     ]
    }
   ],
   "source": [
    "evaluateModel(whisper_path[0])"
   ]
  },
  {
   "cell_type": "code",
   "execution_count": 4,
   "metadata": {},
   "outputs": [
    {
     "data": {
      "application/vnd.jupyter.widget-view+json": {
       "model_id": "8f5384e0380b49868ed8d9f476fc511c",
       "version_major": 2,
       "version_minor": 0
      },
      "text/plain": [
       "Map:   0%|          | 0/10 [00:00<?, ? examples/s]"
      ]
     },
     "metadata": {},
     "output_type": "display_data"
    },
    {
     "name": "stdout",
     "output_type": "stream",
     "text": [
      "6184.615384615385\n",
      "['杞人嘅朋友嘆咗一口氣', '聚星樓', '泥水佬開門口過得人過得自己', '嗰次喺跑馬地協和里見到有雞蛋仔格仔餅賣', '學生話佢知白沙山路係喺大棠 但係唔知有冇小巴經嗰度', '有個老人去左坪洲永安橫街食齋', '選定了心儀嘅機構先查詢個人實際年利率 咁會比較明智', '唔係', '正在做廉價勞工 收入少過做洗碗或保安員', '安哥拉']\n",
      "['a few people friends of the l t have been in the house for a while', 'jai xing liu', 'lai水老開門口過得人過得自己', 'that time the horse was walking around the river and saw a chicken egg a chicken egg a chicken egg a chicken egg a chicken egg a chicken egg a chicken egg a chicken egg a chicken egg a chicken egg a chicken egg a chicken egg a chicken egg a chicken egg a chicken egg a chicken egg a chicken egg a chicken egg a chicken egg a chicken egg a chicken egg a chicken egg a chicken egg a chicken egg a chicken egg a chicken egg a chicken egg a chicken egg a chicken egg a chicken egg a chicken egg a chicken egg a chicken egg a chicken egg a chicken egg a chicken egg a chicken egg a chicken egg a chicken egg a chicken egg a chicken egg a chicken egg a chicken egg a chicken egg a chicken egg a chicken egg a chicken egg a chicken egg a chicken egg a chicken egg a chicken egg a chicken egg a chicken egg a chicken egg a chicken egg a chicken egg a chicken egg a chicken egg a chicken egg a chicken egg a chicken egg a chicken egg a chicken egg a chicken egg a chicken egg a chicken egg a chicken egg a chicken egg a chicken egg a chicken egg a chicken egg a chicken egg a chicken egg a chicken egg a chicken egg a chicken egg a chicken egg a chicken egg a chicken egg a chicken egg a chicken egg a chicken egg a chicken egg a chicken egg a chicken egg a chicken egg a chicken egg a chicken egg a chicken egg a chicken egg a chicken egg a chicken egg a chicken egg a chicken egg a chicken egg a chicken egg a chicken egg a chicken egg a chicken egg a chicken egg a chicken egg a chicken egg a chicken egg a chicken egg a chicken egg a chicken egg a chicken egg a chicken egg', 'he is a student of the white sea but he is not a small town', 'there is a man who went to pingzhou to pick up the food for the family', 'the new plan is to make sure that the new plan is more popular', 'bye', 'the new building is now in the new building the new building is now in the new building the new building is now in the new building the new building is now in the new building the new building is now in the new building the new building is now in the new building the new building is now in the new building the new building is now in the new building the new building is now in the new building the new building is now in the new building the new building is now in the new building the new building is now in the new building the new building is now in the new building the new building is now in the new building the new building is now in the new building the new building is now in the new building the new building is now in the new building the new building is now in the new building the new building is now in the new building the new building is now in the new building the new building is now in the new building the new building is now in the new building the new building is now in the new building the new building is now in the new building the new building is now in the new building the new building is now in the new building the new building is now in the new building the new building is now in the new building the new building is now in the new building the new building is now in the new building the new building is now in the new building the new building is now in the new building the new building is now in the new building the new building is now in the new building the new building is now in the new building the new building is now in the new building the new building is now in the new building the new building is now in the new building the new building is now in the new building the new building is now in the new building the new building is now in the new building the new building is now in the new building the new building is now in the new building the new building is now in the new building the new building is', 'on go lie']\n"
     ]
    }
   ],
   "source": [
    "evaluateModel(whisper_path[1])"
   ]
  },
  {
   "cell_type": "code",
   "execution_count": 5,
   "metadata": {},
   "outputs": [
    {
     "data": {
      "application/vnd.jupyter.widget-view+json": {
       "model_id": "e239757f78b44ee2846c4da9130b690d",
       "version_major": 2,
       "version_minor": 0
      },
      "text/plain": [
       "Map:   0%|          | 0/10 [00:00<?, ? examples/s]"
      ]
     },
     "metadata": {},
     "output_type": "display_data"
    },
    {
     "name": "stdout",
     "output_type": "stream",
     "text": [
      "884.6153846153846\n",
      "['杞人嘅朋友嘆咗一口氣', '聚星樓', '泥水佬開門口過得人過得自己', '嗰次喺跑馬地協和里見到有雞蛋仔格仔餅賣', '學生話佢知白沙山路係喺大棠 但係唔知有冇小巴經嗰度', '有個老人去左坪洲永安橫街食齋', '選定了心儀嘅機構先查詢個人實際年利率 咁會比較明智', '唔係', '正在做廉價勞工 收入少過做洗碗或保安員', '安哥拉']\n",
      "['a few people got a little bit of a headache', 'jui xing liu', 'lai sui lu kai muen hau guo de ran guo de zi ki', 'that time at palma de xiep you saw a chicken egg and a chicken leg', 'the student said he knew that the baksa mountains are in the big sugar but he did not know if there was a small beijing there', 'a man went to pingzhou to eat in the streets of weng an', 'selecting the new agency is 1st person public private care law would be more wise', 'bye', 'now i am going to train my husband to take a small group of small painting departments', 'thank you']\n"
     ]
    }
   ],
   "source": [
    "evaluateModel(whisper_path[2])"
   ]
  },
  {
   "cell_type": "code",
   "execution_count": 6,
   "metadata": {},
   "outputs": [
    {
     "data": {
      "application/vnd.jupyter.widget-view+json": {
       "model_id": "974a7cfd4a2946d28be3e94ee4486c05",
       "version_major": 2,
       "version_minor": 0
      },
      "text/plain": [
       "Map:   0%|          | 0/10 [00:00<?, ? examples/s]"
      ]
     },
     "metadata": {},
     "output_type": "display_data"
    },
    {
     "name": "stdout",
     "output_type": "stream",
     "text": [
      "923.076923076923\n",
      "['杞人嘅朋友嘆咗一口氣', '聚星樓', '泥水佬開門口過得人過得自己', '嗰次喺跑馬地協和里見到有雞蛋仔格仔餅賣', '學生話佢知白沙山路係喺大棠 但係唔知有冇小巴經嗰度', '有個老人去左坪洲永安橫街食齋', '選定了心儀嘅機構先查詢個人實際年利率 咁會比較明智', '唔係', '正在做廉價勞工 收入少過做洗碗或保安員', '安哥拉']\n",
      "['a few friends in the sky sighed', 'jui sing lau', 'the path of the mud is open the door is open the person can pass and the person can pass', 'that time i saw a chicken egg pie shop in pau ma tei hiep wai li', 'the student said he knew the white sand road was in the main hall but he did not know if there was a small beijing', 'there was an old man who went to ping chau wing an hwan gai sik jai', 'the agency that selected sim yi 1st checked the personal experience rate which is more clear', 'no', 'i am now a husband and a housekeeper i am now a housekeeper', 'on go live']\n"
     ]
    }
   ],
   "source": [
    "evaluateModel(whisper_path[3])"
   ]
  },
  {
   "cell_type": "code",
   "execution_count": 7,
   "metadata": {},
   "outputs": [
    {
     "data": {
      "application/vnd.jupyter.widget-view+json": {
       "model_id": "b1d5b79cc5ab4feca581c747d9e3e591",
       "version_major": 2,
       "version_minor": 0
      },
      "text/plain": [
       "Map:   0%|          | 0/10 [00:00<?, ? examples/s]"
      ]
     },
     "metadata": {},
     "output_type": "display_data"
    },
    {
     "name": "stdout",
     "output_type": "stream",
     "text": [
      "923.076923076923\n",
      "['杞人嘅朋友嘆咗一口氣', '聚星樓', '泥水佬開門口過得人過得自己', '嗰次喺跑馬地協和里見到有雞蛋仔格仔餅賣', '學生話佢知白沙山路係喺大棠 但係唔知有冇小巴經嗰度', '有個老人去左坪洲永安橫街食齋', '選定了心儀嘅機構先查詢個人實際年利率 咁會比較明智', '唔係', '正在做廉價勞工 收入少過做洗碗或保安員', '安哥拉']\n",
      "['a few friends were having a good time', 'doctor stardust', 'the waterway opens the door people can pass they can pass themselves', 'that time at the poma de hiep ho li i saw a little egg and a little cake', 'the student said she knew that the white sand road is in the hall but she did not know if it was in beijing', 'an old man went to ping chau to eat vegetarian food', 'the agency that has selected the child is mind will 1st check the actual age of the individual which will be more clear', 'no', 'i am currently a housewife and a housekeeper my income is from small scale painting and painting', 'thank you for watching']\n"
     ]
    }
   ],
   "source": [
    "evaluateModel(whisper_path[4])"
   ]
  },
  {
   "cell_type": "code",
   "execution_count": 8,
   "metadata": {},
   "outputs": [
    {
     "data": {
      "application/vnd.jupyter.widget-view+json": {
       "model_id": "c006b538aac6486abb9ddbe2b4dff69c",
       "version_major": 2,
       "version_minor": 0
      },
      "text/plain": [
       "Map:   0%|          | 0/10 [00:00<?, ? examples/s]"
      ]
     },
     "metadata": {},
     "output_type": "display_data"
    },
    {
     "name": "stdout",
     "output_type": "stream",
     "text": [
      "730.7692307692307\n",
      "['杞人嘅朋友嘆咗一口氣', '聚星樓', '泥水佬開門口過得人過得自己', '嗰次喺跑馬地協和里見到有雞蛋仔格仔餅賣', '學生話佢知白沙山路係喺大棠 但係唔知有冇小巴經嗰度', '有個老人去左坪洲永安橫街食齋', '選定了心儀嘅機構先查詢個人實際年利率 咁會比較明智', '唔係', '正在做廉價勞工 收入少過做洗碗或保安員', '安哥拉']\n",
      "['a few l team friends sighed', 'drunkenly', '你在泥水路開門口過得人過得自己', 'that time i saw a little egg on the ground of the supermarket and it was stuck together', 'the student said he knew that white shark road is in the main hall but he did not know if there was a small bar near it', '有個老人去咗平洲永安橫街食齋', 'i am sure you will see me go she is a little bit of a man', 'bye', 'i am a housekeeper earning a small amount of money to make a small bowl of rice to make a wish', 'on call i']\n"
     ]
    }
   ],
   "source": [
    "evaluateModel(whisper_path[5])"
   ]
  },
  {
   "cell_type": "code",
   "execution_count": 9,
   "metadata": {},
   "outputs": [
    {
     "name": "stderr",
     "output_type": "stream",
     "text": [
      "Special tokens have been added in the vocabulary, make sure the associated word embeddings are fine-tuned or trained.\n"
     ]
    },
    {
     "data": {
      "application/vnd.jupyter.widget-view+json": {
       "model_id": "b08cffcbb66f48e9b0010b0d94478d6d",
       "version_major": 2,
       "version_minor": 0
      },
      "text/plain": [
       "Map:   0%|          | 0/10 [00:00<?, ? examples/s]"
      ]
     },
     "metadata": {},
     "output_type": "display_data"
    },
    {
     "name": "stdout",
     "output_type": "stream",
     "text": [
      "123.07692307692308\n",
      "['杞人嘅朋友嘆咗一口氣', '聚星樓', '泥水佬開門口過得人過得自己', '嗰次喺跑馬地協和里見到有雞蛋仔格仔餅賣', '學生話佢知白沙山路係喺大棠 但係唔知有冇小巴經嗰度', '有個老人去左坪洲永安橫街食齋', '選定了心儀嘅機構先查詢個人實際年利率 咁會比較明智', '唔係', '正在做廉價勞工 收入少過做洗碗或保安員', '安哥拉']\n",
      "['幾人幽聽的朋友嘆了一口氣', '聚星流', '泥水路開門口過得人過得自己', '那次在跑馬地協和里見到有雞蛋仔格仔餅賣', '學生說他知白沙山路係喺大堂 但係唔知有無小巴經嗰度', '有個老人去了平州永安橫街食齋', '選定了心儀的機構先查詢個人實際年利率 這樣會比較明智', '不是', '正在做廉價勞工收入少過做世緣華報案員', 'on god is line']\n"
     ]
    }
   ],
   "source": [
    "evaluateModel(whisper_path[6])"
   ]
  }
 ],
 "metadata": {
  "kernelspec": {
   "display_name": "Python 3",
   "language": "python",
   "name": "python3"
  },
  "language_info": {
   "codemirror_mode": {
    "name": "ipython",
    "version": 3
   },
   "file_extension": ".py",
   "mimetype": "text/x-python",
   "name": "python",
   "nbconvert_exporter": "python",
   "pygments_lexer": "ipython3",
   "version": "3.11.6"
  }
 },
 "nbformat": 4,
 "nbformat_minor": 2
}
