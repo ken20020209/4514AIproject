{
 "cells": [
  {
   "cell_type": "code",
   "execution_count": 1,
   "metadata": {},
   "outputs": [],
   "source": [
    "from datasets import load_dataset,Audio\n",
    "from transformers import WhisperForConditionalGeneration, WhisperProcessor\n",
    "import torch\n",
    "from evaluate import load\n",
    "def evaluateModel(path):\n",
    "    common_voice = load_dataset(\"mozilla-foundation/common_voice_11_0\", \"zh-HK\", split=\"test\")\n",
    "    common_voice = common_voice.cast_column(\"audio\", Audio(sampling_rate=16000))\n",
    "    common_voice = common_voice.select(range(1000))\n",
    "\n",
    "    processor = WhisperProcessor.from_pretrained(path)\n",
    "    model = WhisperForConditionalGeneration.from_pretrained(\"../fineTune/fineTue/\"+path+\"/checkpoint-4000\").to(\"cuda\")\n",
    "\n",
    "\n",
    "\n",
    "    def map_to_pred(batch):\n",
    "        audio = batch[\"audio\"]\n",
    "        input_features = processor(audio[\"array\"], sampling_rate=audio[\"sampling_rate\"], return_tensors=\"pt\").input_features\n",
    "        batch[\"reference\"] = processor.tokenizer._normalize(batch['sentence'])\n",
    "\n",
    "        with torch.no_grad():\n",
    "            predicted_ids = model.generate(input_features.to(\"cuda\"))[0]\n",
    "        transcription = processor.decode(predicted_ids)\n",
    "        batch[\"prediction\"] = processor.tokenizer._normalize(transcription)\n",
    "        return batch\n",
    "\n",
    "    result = common_voice.map(map_to_pred)\n",
    "\n",
    "    wer = load(\"wer\")\n",
    "    print(100 * wer.compute(references=result[\"reference\"], predictions=result[\"prediction\"]))\n",
    "\n"
   ]
  },
  {
   "cell_type": "code",
   "execution_count": 2,
   "metadata": {},
   "outputs": [],
   "source": [
    "whisper_path=[\"openai/whisper-tiny\",\"openai/whisper-base\",\"openai/whisper-small\",\"openai/whisper-medium\",\"openai/whisper-large\",\"openai/whisper-large-v2\",\"openai/whisper-large-v3\"]"
   ]
  },
  {
   "cell_type": "code",
   "execution_count": 3,
   "metadata": {},
   "outputs": [
    {
     "data": {
      "application/vnd.jupyter.widget-view+json": {
       "model_id": "c3d41d30fb1642c09244ca946774aca2",
       "version_major": 2,
       "version_minor": 0
      },
      "text/plain": [
       "Map:   0%|          | 0/1000 [00:00<?, ? examples/s]"
      ]
     },
     "metadata": {},
     "output_type": "display_data"
    },
    {
     "name": "stdout",
     "output_type": "stream",
     "text": [
      "169.7239536954586\n"
     ]
    }
   ],
   "source": [
    "evaluateModel(whisper_path[0])"
   ]
  },
  {
   "cell_type": "code",
   "execution_count": 4,
   "metadata": {},
   "outputs": [
    {
     "data": {
      "application/vnd.jupyter.widget-view+json": {
       "model_id": "0508dfa66eda4ad7a5d0fea742d656b3",
       "version_major": 2,
       "version_minor": 0
      },
      "text/plain": [
       "Map:   0%|          | 0/1000 [00:00<?, ? examples/s]"
      ]
     },
     "metadata": {},
     "output_type": "display_data"
    },
    {
     "name": "stdout",
     "output_type": "stream",
     "text": [
      "76.40249332146037\n"
     ]
    }
   ],
   "source": [
    "evaluateModel(whisper_path[1])"
   ]
  },
  {
   "cell_type": "code",
   "execution_count": null,
   "metadata": {},
   "outputs": [],
   "source": [
    "evaluateModel(whisper_path[2])"
   ]
  },
  {
   "cell_type": "code",
   "execution_count": null,
   "metadata": {},
   "outputs": [],
   "source": [
    "evaluateModel(whisper_path[3])"
   ]
  },
  {
   "cell_type": "code",
   "execution_count": null,
   "metadata": {},
   "outputs": [],
   "source": [
    "evaluateModel(whisper_path[4])"
   ]
  },
  {
   "cell_type": "code",
   "execution_count": null,
   "metadata": {},
   "outputs": [],
   "source": [
    "evaluateModel(whisper_path[5])"
   ]
  },
  {
   "cell_type": "code",
   "execution_count": null,
   "metadata": {},
   "outputs": [],
   "source": [
    "evaluateModel(whisper_path[6])"
   ]
  }
 ],
 "metadata": {
  "kernelspec": {
   "display_name": "Python 3",
   "language": "python",
   "name": "python3"
  },
  "language_info": {
   "codemirror_mode": {
    "name": "ipython",
    "version": 3
   },
   "file_extension": ".py",
   "mimetype": "text/x-python",
   "name": "python",
   "nbconvert_exporter": "python",
   "pygments_lexer": "ipython3",
   "version": "3.11.6"
  }
 },
 "nbformat": 4,
 "nbformat_minor": 2
}
