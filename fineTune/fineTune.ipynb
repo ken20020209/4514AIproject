{
 "cells": [
  {
   "cell_type": "code",
   "execution_count": 1,
   "metadata": {},
   "outputs": [],
   "source": [
    "import fineTune as ft\n",
    "import dataPreprocess as dp"
   ]
  },
  {
   "cell_type": "code",
   "execution_count": 2,
   "metadata": {},
   "outputs": [],
   "source": [
    "whisper_path=[\"openai/whisper-tiny\",\"openai/whisper-base\",\"openai/whisper-small\",\"openai/whisper-medium\",\"openai/whisper-large\",\"openai/whisper-large-v2\",\"openai/whisper-large-v3\"]"
   ]
  },
  {
   "cell_type": "code",
   "execution_count": 3,
   "metadata": {},
   "outputs": [],
   "source": [
    "def fineTuneWhisper(index):\n",
    "    ft.fineTune(whisper_path[index],dp.loadpreprocess(whisper_path[index]),16//(2**min(4,index)))"
   ]
  },
  {
   "cell_type": "code",
   "execution_count": 4,
   "metadata": {},
   "outputs": [
    {
     "name": "stderr",
     "output_type": "stream",
     "text": [
      "C:\\Users\\ken20\\AppData\\Local\\Packages\\PythonSoftwareFoundation.Python.3.11_qbz5n2kfra8p0\\LocalCache\\local-packages\\Python311\\site-packages\\datasets\\table.py:1421: FutureWarning: promote has been superseded by mode='default'.\n",
      "  table = cls._concat_blocks(blocks, axis=0)\n"
     ]
    },
    {
     "data": {
      "application/vnd.jupyter.widget-view+json": {
       "model_id": "35bbf12797564af4b7c395568c503778",
       "version_major": 2,
       "version_minor": 0
      },
      "text/plain": [
       "  0%|          | 0/4000 [00:00<?, ?it/s]"
      ]
     },
     "metadata": {},
     "output_type": "display_data"
    },
    {
     "name": "stderr",
     "output_type": "stream",
     "text": [
      "C:\\Users\\ken20\\AppData\\Local\\Packages\\PythonSoftwareFoundation.Python.3.11_qbz5n2kfra8p0\\LocalCache\\local-packages\\Python311\\site-packages\\torch\\utils\\checkpoint.py:429: UserWarning: torch.utils.checkpoint: please pass in use_reentrant=True or use_reentrant=False explicitly. The default value of use_reentrant will be updated to be False in the future. To maintain current behavior, pass use_reentrant=True. It is recommended that you use use_reentrant=False. Refer to docs for more details on the differences between the two variants.\n",
      "  warnings.warn(\n",
      "`use_cache = True` is incompatible with gradient checkpointing. Setting `use_cache = False`...\n"
     ]
    },
    {
     "name": "stdout",
     "output_type": "stream",
     "text": [
      "{'loss': 4.209, 'learning_rate': 3.8e-07, 'epoch': 0.03}\n",
      "{'loss': 3.554, 'learning_rate': 8.8e-07, 'epoch': 0.06}\n",
      "{'loss': 2.6739, 'learning_rate': 1.3800000000000001e-06, 'epoch': 0.09}\n",
      "{'loss': 1.9438, 'learning_rate': 1.8800000000000002e-06, 'epoch': 0.11}\n",
      "{'loss': 1.4117, 'learning_rate': 2.38e-06, 'epoch': 0.14}\n",
      "{'loss': 1.1331, 'learning_rate': 2.88e-06, 'epoch': 0.17}\n",
      "{'loss': 1.1045, 'learning_rate': 3.3800000000000007e-06, 'epoch': 0.2}\n",
      "{'loss': 1.0037, 'learning_rate': 3.88e-06, 'epoch': 0.23}\n",
      "{'loss': 0.9848, 'learning_rate': 4.38e-06, 'epoch': 0.26}\n",
      "{'loss': 0.9742, 'learning_rate': 4.880000000000001e-06, 'epoch': 0.29}\n",
      "{'loss': 0.9018, 'learning_rate': 5.380000000000001e-06, 'epoch': 0.31}\n",
      "{'loss': 0.9557, 'learning_rate': 5.8800000000000005e-06, 'epoch': 0.34}\n",
      "{'loss': 0.9333, 'learning_rate': 6.380000000000001e-06, 'epoch': 0.37}\n",
      "{'loss': 0.8688, 'learning_rate': 6.88e-06, 'epoch': 0.4}\n",
      "{'loss': 0.8428, 'learning_rate': 7.3800000000000005e-06, 'epoch': 0.43}\n",
      "{'loss': 0.8276, 'learning_rate': 7.88e-06, 'epoch': 0.46}\n",
      "{'loss': 0.8082, 'learning_rate': 8.380000000000001e-06, 'epoch': 0.49}\n",
      "{'loss': 0.8474, 'learning_rate': 8.880000000000001e-06, 'epoch': 0.51}\n",
      "{'loss': 0.807, 'learning_rate': 9.38e-06, 'epoch': 0.54}\n",
      "{'loss': 0.7747, 'learning_rate': 9.88e-06, 'epoch': 0.57}\n",
      "{'loss': 0.7788, 'learning_rate': 9.945714285714286e-06, 'epoch': 0.6}\n",
      "{'loss': 0.7758, 'learning_rate': 9.874285714285715e-06, 'epoch': 0.63}\n",
      "{'loss': 0.7571, 'learning_rate': 9.802857142857144e-06, 'epoch': 0.66}\n",
      "{'loss': 0.7266, 'learning_rate': 9.731428571428573e-06, 'epoch': 0.68}\n",
      "{'loss': 0.7677, 'learning_rate': 9.66e-06, 'epoch': 0.71}\n",
      "{'loss': 0.74, 'learning_rate': 9.58857142857143e-06, 'epoch': 0.74}\n",
      "{'loss': 0.7091, 'learning_rate': 9.517142857142859e-06, 'epoch': 0.77}\n",
      "{'loss': 0.7151, 'learning_rate': 9.445714285714288e-06, 'epoch': 0.8}\n",
      "{'loss': 0.6888, 'learning_rate': 9.374285714285715e-06, 'epoch': 0.83}\n",
      "{'loss': 0.7177, 'learning_rate': 9.302857142857144e-06, 'epoch': 0.86}\n",
      "{'loss': 0.6511, 'learning_rate': 9.231428571428573e-06, 'epoch': 0.88}\n",
      "{'loss': 0.7312, 'learning_rate': 9.16e-06, 'epoch': 0.91}\n",
      "{'loss': 0.7342, 'learning_rate': 9.08857142857143e-06, 'epoch': 0.94}\n",
      "{'loss': 0.6533, 'learning_rate': 9.017142857142858e-06, 'epoch': 0.97}\n",
      "{'loss': 0.6878, 'learning_rate': 8.945714285714286e-06, 'epoch': 1.0}\n",
      "{'loss': 0.5457, 'learning_rate': 8.874285714285715e-06, 'epoch': 1.03}\n",
      "{'loss': 0.5984, 'learning_rate': 8.802857142857144e-06, 'epoch': 1.06}\n",
      "{'loss': 0.553, 'learning_rate': 8.731428571428571e-06, 'epoch': 1.08}\n",
      "{'loss': 0.5926, 'learning_rate': 8.66e-06, 'epoch': 1.11}\n",
      "{'loss': 0.5815, 'learning_rate': 8.588571428571429e-06, 'epoch': 1.14}\n"
     ]
    },
    {
     "data": {
      "application/vnd.jupyter.widget-view+json": {
       "model_id": "7cc2416e01ab4d0d94c4b128b03a8d53",
       "version_major": 2,
       "version_minor": 0
      },
      "text/plain": [
       "  0%|          | 0/63 [00:00<?, ?it/s]"
      ]
     },
     "metadata": {},
     "output_type": "display_data"
    },
    {
     "name": "stdout",
     "output_type": "stream",
     "text": [
      "{'eval_loss': 0.6552032232284546, 'eval_wer': 104.4, 'eval_runtime': 112.9074, 'eval_samples_per_second': 4.428, 'eval_steps_per_second': 0.558, 'epoch': 1.14}\n"
     ]
    },
    {
     "name": "stderr",
     "output_type": "stream",
     "text": [
      "C:\\Users\\ken20\\AppData\\Local\\Packages\\PythonSoftwareFoundation.Python.3.11_qbz5n2kfra8p0\\LocalCache\\local-packages\\Python311\\site-packages\\torch\\utils\\checkpoint.py:429: UserWarning: torch.utils.checkpoint: please pass in use_reentrant=True or use_reentrant=False explicitly. The default value of use_reentrant will be updated to be False in the future. To maintain current behavior, pass use_reentrant=True. It is recommended that you use use_reentrant=False. Refer to docs for more details on the differences between the two variants.\n",
      "  warnings.warn(\n"
     ]
    },
    {
     "name": "stdout",
     "output_type": "stream",
     "text": [
      "{'loss': 0.5999, 'learning_rate': 8.517142857142858e-06, 'epoch': 1.17}\n",
      "{'loss': 0.557, 'learning_rate': 8.445714285714285e-06, 'epoch': 1.2}\n",
      "{'loss': 0.5567, 'learning_rate': 8.374285714285714e-06, 'epoch': 1.23}\n",
      "{'loss': 0.5427, 'learning_rate': 8.302857142857143e-06, 'epoch': 1.26}\n",
      "{'loss': 0.5579, 'learning_rate': 8.231428571428572e-06, 'epoch': 1.28}\n",
      "{'loss': 0.581, 'learning_rate': 8.16e-06, 'epoch': 1.31}\n",
      "{'loss': 0.5475, 'learning_rate': 8.088571428571429e-06, 'epoch': 1.34}\n",
      "{'loss': 0.5207, 'learning_rate': 8.017142857142858e-06, 'epoch': 1.37}\n",
      "{'loss': 0.5239, 'learning_rate': 7.945714285714287e-06, 'epoch': 1.4}\n",
      "{'loss': 0.5813, 'learning_rate': 7.874285714285716e-06, 'epoch': 1.43}\n",
      "{'loss': 0.5662, 'learning_rate': 7.802857142857143e-06, 'epoch': 1.46}\n",
      "{'loss': 0.5664, 'learning_rate': 7.731428571428572e-06, 'epoch': 1.48}\n",
      "{'loss': 0.533, 'learning_rate': 7.660000000000001e-06, 'epoch': 1.51}\n",
      "{'loss': 0.5288, 'learning_rate': 7.588571428571429e-06, 'epoch': 1.54}\n",
      "{'loss': 0.5216, 'learning_rate': 7.5171428571428575e-06, 'epoch': 1.57}\n",
      "{'loss': 0.5579, 'learning_rate': 7.445714285714286e-06, 'epoch': 1.6}\n",
      "{'loss': 0.5079, 'learning_rate': 7.374285714285715e-06, 'epoch': 1.63}\n",
      "{'loss': 0.5137, 'learning_rate': 7.302857142857144e-06, 'epoch': 1.66}\n",
      "{'loss': 0.5177, 'learning_rate': 7.231428571428573e-06, 'epoch': 1.68}\n",
      "{'loss': 0.5388, 'learning_rate': 7.16e-06, 'epoch': 1.71}\n",
      "{'loss': 0.5439, 'learning_rate': 7.088571428571429e-06, 'epoch': 1.74}\n",
      "{'loss': 0.4852, 'learning_rate': 7.017142857142858e-06, 'epoch': 1.77}\n",
      "{'loss': 0.5414, 'learning_rate': 6.945714285714287e-06, 'epoch': 1.8}\n",
      "{'loss': 0.509, 'learning_rate': 6.874285714285714e-06, 'epoch': 1.83}\n",
      "{'loss': 0.5205, 'learning_rate': 6.8028571428571434e-06, 'epoch': 1.86}\n",
      "{'loss': 0.5178, 'learning_rate': 6.7314285714285724e-06, 'epoch': 1.88}\n",
      "{'loss': 0.517, 'learning_rate': 6.660000000000001e-06, 'epoch': 1.91}\n",
      "{'loss': 0.5296, 'learning_rate': 6.588571428571429e-06, 'epoch': 1.94}\n",
      "{'loss': 0.5199, 'learning_rate': 6.517142857142858e-06, 'epoch': 1.97}\n",
      "{'loss': 0.4872, 'learning_rate': 6.445714285714286e-06, 'epoch': 2.0}\n",
      "{'loss': 0.431, 'learning_rate': 6.374285714285715e-06, 'epoch': 2.03}\n",
      "{'loss': 0.4256, 'learning_rate': 6.302857142857144e-06, 'epoch': 2.05}\n",
      "{'loss': 0.416, 'learning_rate': 6.231428571428571e-06, 'epoch': 2.08}\n",
      "{'loss': 0.3963, 'learning_rate': 6.16e-06, 'epoch': 2.11}\n",
      "{'loss': 0.3827, 'learning_rate': 6.088571428571429e-06, 'epoch': 2.14}\n",
      "{'loss': 0.4283, 'learning_rate': 6.017142857142858e-06, 'epoch': 2.17}\n",
      "{'loss': 0.4023, 'learning_rate': 5.945714285714286e-06, 'epoch': 2.2}\n",
      "{'loss': 0.4222, 'learning_rate': 5.874285714285715e-06, 'epoch': 2.23}\n",
      "{'loss': 0.4243, 'learning_rate': 5.802857142857144e-06, 'epoch': 2.25}\n",
      "{'loss': 0.4319, 'learning_rate': 5.731428571428572e-06, 'epoch': 2.28}\n"
     ]
    },
    {
     "data": {
      "application/vnd.jupyter.widget-view+json": {
       "model_id": "d77f99d43f9a4905bc6f7d834f867cce",
       "version_major": 2,
       "version_minor": 0
      },
      "text/plain": [
       "  0%|          | 0/63 [00:00<?, ?it/s]"
      ]
     },
     "metadata": {},
     "output_type": "display_data"
    },
    {
     "name": "stdout",
     "output_type": "stream",
     "text": [
      "{'eval_loss': 0.5801136493682861, 'eval_wer': 174.4, 'eval_runtime': 116.6518, 'eval_samples_per_second': 4.286, 'eval_steps_per_second': 0.54, 'epoch': 2.28}\n"
     ]
    },
    {
     "name": "stderr",
     "output_type": "stream",
     "text": [
      "C:\\Users\\ken20\\AppData\\Local\\Packages\\PythonSoftwareFoundation.Python.3.11_qbz5n2kfra8p0\\LocalCache\\local-packages\\Python311\\site-packages\\torch\\utils\\checkpoint.py:429: UserWarning: torch.utils.checkpoint: please pass in use_reentrant=True or use_reentrant=False explicitly. The default value of use_reentrant will be updated to be False in the future. To maintain current behavior, pass use_reentrant=True. It is recommended that you use use_reentrant=False. Refer to docs for more details on the differences between the two variants.\n",
      "  warnings.warn(\n"
     ]
    },
    {
     "name": "stdout",
     "output_type": "stream",
     "text": [
      "{'loss': 0.4005, 'learning_rate': 5.66e-06, 'epoch': 2.31}\n",
      "{'loss': 0.4181, 'learning_rate': 5.588571428571429e-06, 'epoch': 2.34}\n",
      "{'loss': 0.432, 'learning_rate': 5.517142857142857e-06, 'epoch': 2.37}\n",
      "{'loss': 0.4091, 'learning_rate': 5.445714285714286e-06, 'epoch': 2.4}\n",
      "{'loss': 0.4048, 'learning_rate': 5.374285714285715e-06, 'epoch': 2.43}\n",
      "{'loss': 0.3819, 'learning_rate': 5.3028571428571425e-06, 'epoch': 2.45}\n",
      "{'loss': 0.4051, 'learning_rate': 5.2314285714285716e-06, 'epoch': 2.48}\n",
      "{'loss': 0.3937, 'learning_rate': 5.1600000000000006e-06, 'epoch': 2.51}\n",
      "{'loss': 0.3967, 'learning_rate': 5.08857142857143e-06, 'epoch': 2.54}\n",
      "{'loss': 0.4108, 'learning_rate': 5.017142857142857e-06, 'epoch': 2.57}\n",
      "{'loss': 0.3705, 'learning_rate': 4.945714285714286e-06, 'epoch': 2.6}\n",
      "{'loss': 0.4054, 'learning_rate': 4.874285714285715e-06, 'epoch': 2.63}\n",
      "{'loss': 0.3838, 'learning_rate': 4.802857142857143e-06, 'epoch': 2.65}\n",
      "{'loss': 0.3902, 'learning_rate': 4.731428571428572e-06, 'epoch': 2.68}\n",
      "{'loss': 0.4161, 'learning_rate': 4.66e-06, 'epoch': 2.71}\n",
      "{'loss': 0.3739, 'learning_rate': 4.588571428571429e-06, 'epoch': 2.74}\n",
      "{'loss': 0.4346, 'learning_rate': 4.5171428571428575e-06, 'epoch': 2.77}\n",
      "{'loss': 0.4061, 'learning_rate': 4.445714285714286e-06, 'epoch': 2.8}\n",
      "{'loss': 0.4044, 'learning_rate': 4.374285714285715e-06, 'epoch': 2.83}\n",
      "{'loss': 0.3859, 'learning_rate': 4.302857142857143e-06, 'epoch': 2.85}\n",
      "{'loss': 0.4272, 'learning_rate': 4.231428571428572e-06, 'epoch': 2.88}\n",
      "{'loss': 0.3874, 'learning_rate': 4.16e-06, 'epoch': 2.91}\n",
      "{'loss': 0.403, 'learning_rate': 4.088571428571429e-06, 'epoch': 2.94}\n",
      "{'loss': 0.4518, 'learning_rate': 4.017142857142857e-06, 'epoch': 2.97}\n",
      "{'loss': 0.4138, 'learning_rate': 3.945714285714286e-06, 'epoch': 3.0}\n",
      "{'loss': 0.3327, 'learning_rate': 3.874285714285715e-06, 'epoch': 3.03}\n",
      "{'loss': 0.3132, 'learning_rate': 3.802857142857143e-06, 'epoch': 3.05}\n",
      "{'loss': 0.3191, 'learning_rate': 3.731428571428572e-06, 'epoch': 3.08}\n",
      "{'loss': 0.3184, 'learning_rate': 3.66e-06, 'epoch': 3.11}\n",
      "{'loss': 0.3336, 'learning_rate': 3.588571428571429e-06, 'epoch': 3.14}\n",
      "{'loss': 0.3227, 'learning_rate': 3.5171428571428573e-06, 'epoch': 3.17}\n",
      "{'loss': 0.3462, 'learning_rate': 3.4457142857142863e-06, 'epoch': 3.2}\n",
      "{'loss': 0.3173, 'learning_rate': 3.3742857142857145e-06, 'epoch': 3.22}\n",
      "{'loss': 0.3478, 'learning_rate': 3.302857142857143e-06, 'epoch': 3.25}\n",
      "{'loss': 0.3221, 'learning_rate': 3.2314285714285716e-06, 'epoch': 3.28}\n",
      "{'loss': 0.3138, 'learning_rate': 3.1600000000000002e-06, 'epoch': 3.31}\n",
      "{'loss': 0.3312, 'learning_rate': 3.0885714285714284e-06, 'epoch': 3.34}\n",
      "{'loss': 0.3217, 'learning_rate': 3.0171428571428574e-06, 'epoch': 3.37}\n",
      "{'loss': 0.3164, 'learning_rate': 2.945714285714286e-06, 'epoch': 3.4}\n",
      "{'loss': 0.3124, 'learning_rate': 2.8742857142857146e-06, 'epoch': 3.42}\n"
     ]
    },
    {
     "data": {
      "application/vnd.jupyter.widget-view+json": {
       "model_id": "1f5ea1b15697484a820c51bd66426b89",
       "version_major": 2,
       "version_minor": 0
      },
      "text/plain": [
       "  0%|          | 0/63 [00:00<?, ?it/s]"
      ]
     },
     "metadata": {},
     "output_type": "display_data"
    },
    {
     "name": "stdout",
     "output_type": "stream",
     "text": [
      "{'eval_loss': 0.5576956272125244, 'eval_wer': 122.6, 'eval_runtime': 115.6663, 'eval_samples_per_second': 4.323, 'eval_steps_per_second': 0.545, 'epoch': 3.42}\n"
     ]
    },
    {
     "name": "stderr",
     "output_type": "stream",
     "text": [
      "C:\\Users\\ken20\\AppData\\Local\\Packages\\PythonSoftwareFoundation.Python.3.11_qbz5n2kfra8p0\\LocalCache\\local-packages\\Python311\\site-packages\\torch\\utils\\checkpoint.py:429: UserWarning: torch.utils.checkpoint: please pass in use_reentrant=True or use_reentrant=False explicitly. The default value of use_reentrant will be updated to be False in the future. To maintain current behavior, pass use_reentrant=True. It is recommended that you use use_reentrant=False. Refer to docs for more details on the differences between the two variants.\n",
      "  warnings.warn(\n"
     ]
    },
    {
     "name": "stdout",
     "output_type": "stream",
     "text": [
      "{'loss': 0.3564, 'learning_rate': 2.802857142857143e-06, 'epoch': 3.45}\n",
      "{'loss': 0.3312, 'learning_rate': 2.7314285714285714e-06, 'epoch': 3.48}\n",
      "{'loss': 0.317, 'learning_rate': 2.6600000000000004e-06, 'epoch': 3.51}\n",
      "{'loss': 0.3392, 'learning_rate': 2.5885714285714285e-06, 'epoch': 3.54}\n",
      "{'loss': 0.3325, 'learning_rate': 2.5171428571428575e-06, 'epoch': 3.57}\n",
      "{'loss': 0.3407, 'learning_rate': 2.445714285714286e-06, 'epoch': 3.6}\n",
      "{'loss': 0.3262, 'learning_rate': 2.3742857142857147e-06, 'epoch': 3.62}\n",
      "{'loss': 0.3469, 'learning_rate': 2.302857142857143e-06, 'epoch': 3.65}\n",
      "{'loss': 0.3523, 'learning_rate': 2.2314285714285715e-06, 'epoch': 3.68}\n",
      "{'loss': 0.3286, 'learning_rate': 2.16e-06, 'epoch': 3.71}\n",
      "{'loss': 0.3499, 'learning_rate': 2.0885714285714287e-06, 'epoch': 3.74}\n",
      "{'loss': 0.3294, 'learning_rate': 2.0171428571428573e-06, 'epoch': 3.77}\n",
      "{'loss': 0.3374, 'learning_rate': 1.945714285714286e-06, 'epoch': 3.8}\n",
      "{'loss': 0.333, 'learning_rate': 1.8742857142857142e-06, 'epoch': 3.82}\n",
      "{'loss': 0.3136, 'learning_rate': 1.8028571428571432e-06, 'epoch': 3.85}\n",
      "{'loss': 0.3596, 'learning_rate': 1.7314285714285716e-06, 'epoch': 3.88}\n",
      "{'loss': 0.3258, 'learning_rate': 1.6600000000000002e-06, 'epoch': 3.91}\n",
      "{'loss': 0.3268, 'learning_rate': 1.5885714285714288e-06, 'epoch': 3.94}\n",
      "{'loss': 0.3635, 'learning_rate': 1.5171428571428574e-06, 'epoch': 3.97}\n",
      "{'loss': 0.2983, 'learning_rate': 1.4457142857142858e-06, 'epoch': 4.0}\n",
      "{'loss': 0.3074, 'learning_rate': 1.3742857142857143e-06, 'epoch': 4.02}\n",
      "{'loss': 0.2929, 'learning_rate': 1.302857142857143e-06, 'epoch': 4.05}\n",
      "{'loss': 0.2888, 'learning_rate': 1.2314285714285715e-06, 'epoch': 4.08}\n",
      "{'loss': 0.266, 'learning_rate': 1.1600000000000001e-06, 'epoch': 4.11}\n",
      "{'loss': 0.3141, 'learning_rate': 1.0885714285714287e-06, 'epoch': 4.14}\n",
      "{'loss': 0.2691, 'learning_rate': 1.0171428571428573e-06, 'epoch': 4.17}\n",
      "{'loss': 0.2769, 'learning_rate': 9.457142857142858e-07, 'epoch': 4.2}\n",
      "{'loss': 0.2996, 'learning_rate': 8.742857142857144e-07, 'epoch': 4.22}\n",
      "{'loss': 0.299, 'learning_rate': 8.028571428571429e-07, 'epoch': 4.25}\n",
      "{'loss': 0.2962, 'learning_rate': 7.314285714285715e-07, 'epoch': 4.28}\n",
      "{'loss': 0.2776, 'learning_rate': 6.6e-07, 'epoch': 4.31}\n",
      "{'loss': 0.284, 'learning_rate': 5.885714285714286e-07, 'epoch': 4.34}\n",
      "{'loss': 0.2974, 'learning_rate': 5.171428571428572e-07, 'epoch': 4.37}\n",
      "{'loss': 0.2838, 'learning_rate': 4.457142857142858e-07, 'epoch': 4.39}\n",
      "{'loss': 0.2846, 'learning_rate': 3.7428571428571434e-07, 'epoch': 4.42}\n",
      "{'loss': 0.2926, 'learning_rate': 3.028571428571429e-07, 'epoch': 4.45}\n",
      "{'loss': 0.2752, 'learning_rate': 2.3142857142857144e-07, 'epoch': 4.48}\n",
      "{'loss': 0.2911, 'learning_rate': 1.6e-07, 'epoch': 4.51}\n",
      "{'loss': 0.3176, 'learning_rate': 8.857142857142858e-08, 'epoch': 4.54}\n",
      "{'loss': 0.2756, 'learning_rate': 1.7142857142857143e-08, 'epoch': 4.57}\n"
     ]
    },
    {
     "data": {
      "application/vnd.jupyter.widget-view+json": {
       "model_id": "cb16f3b745c841c49db9853d9cc160a9",
       "version_major": 2,
       "version_minor": 0
      },
      "text/plain": [
       "  0%|          | 0/63 [00:00<?, ?it/s]"
      ]
     },
     "metadata": {},
     "output_type": "display_data"
    },
    {
     "name": "stdout",
     "output_type": "stream",
     "text": [
      "{'eval_loss': 0.5530463457107544, 'eval_wer': 118.6, 'eval_runtime': 116.7723, 'eval_samples_per_second': 4.282, 'eval_steps_per_second': 0.54, 'epoch': 4.57}\n"
     ]
    },
    {
     "name": "stderr",
     "output_type": "stream",
     "text": [
      "There were missing keys in the checkpoint model loaded: ['proj_out.weight'].\n"
     ]
    },
    {
     "name": "stdout",
     "output_type": "stream",
     "text": [
      "{'train_runtime': 10374.2966, 'train_samples_per_second': 6.169, 'train_steps_per_second': 0.386, 'train_loss': 0.556204157590866, 'epoch': 4.57}\n"
     ]
    }
   ],
   "source": [
    "fineTuneWhisper(0)"
   ]
  },
  {
   "cell_type": "code",
   "execution_count": 4,
   "metadata": {},
   "outputs": [
    {
     "name": "stderr",
     "output_type": "stream",
     "text": [
      "C:\\Users\\ken20\\AppData\\Local\\Packages\\PythonSoftwareFoundation.Python.3.11_qbz5n2kfra8p0\\LocalCache\\local-packages\\Python311\\site-packages\\datasets\\table.py:1421: FutureWarning: promote has been superseded by mode='default'.\n",
      "  table = cls._concat_blocks(blocks, axis=0)\n"
     ]
    },
    {
     "data": {
      "application/vnd.jupyter.widget-view+json": {
       "model_id": "311cd2abb1d8459ca736bf02a59e0e9c",
       "version_major": 2,
       "version_minor": 0
      },
      "text/plain": [
       "  0%|          | 0/4000 [00:00<?, ?it/s]"
      ]
     },
     "metadata": {},
     "output_type": "display_data"
    },
    {
     "name": "stderr",
     "output_type": "stream",
     "text": [
      "C:\\Users\\ken20\\AppData\\Local\\Packages\\PythonSoftwareFoundation.Python.3.11_qbz5n2kfra8p0\\LocalCache\\local-packages\\Python311\\site-packages\\torch\\utils\\checkpoint.py:429: UserWarning: torch.utils.checkpoint: please pass in use_reentrant=True or use_reentrant=False explicitly. The default value of use_reentrant will be updated to be False in the future. To maintain current behavior, pass use_reentrant=True. It is recommended that you use use_reentrant=False. Refer to docs for more details on the differences between the two variants.\n",
      "  warnings.warn(\n",
      "`use_cache = True` is incompatible with gradient checkpointing. Setting `use_cache = False`...\n"
     ]
    },
    {
     "name": "stdout",
     "output_type": "stream",
     "text": [
      "{'loss': 2.8242, 'learning_rate': 4.4e-07, 'epoch': 0.03}\n",
      "{'loss': 2.5122, 'learning_rate': 9.400000000000001e-07, 'epoch': 0.06}\n",
      "{'loss': 1.6986, 'learning_rate': 1.44e-06, 'epoch': 0.09}\n",
      "{'loss': 1.0602, 'learning_rate': 1.94e-06, 'epoch': 0.11}\n",
      "{'loss': 0.8794, 'learning_rate': 2.4400000000000004e-06, 'epoch': 0.14}\n",
      "{'loss': 0.7725, 'learning_rate': 2.9400000000000002e-06, 'epoch': 0.17}\n",
      "{'loss': 0.793, 'learning_rate': 3.44e-06, 'epoch': 0.2}\n",
      "{'loss': 0.7042, 'learning_rate': 3.94e-06, 'epoch': 0.23}\n",
      "{'loss': 0.6882, 'learning_rate': 4.440000000000001e-06, 'epoch': 0.26}\n",
      "{'loss': 0.7008, 'learning_rate': 4.94e-06, 'epoch': 0.29}\n",
      "{'loss': 0.64, 'learning_rate': 5.4400000000000004e-06, 'epoch': 0.31}\n",
      "{'loss': 0.6554, 'learning_rate': 5.94e-06, 'epoch': 0.34}\n",
      "{'loss': 0.6568, 'learning_rate': 6.440000000000001e-06, 'epoch': 0.37}\n",
      "{'loss': 0.6078, 'learning_rate': 6.9400000000000005e-06, 'epoch': 0.4}\n",
      "{'loss': 0.5922, 'learning_rate': 7.440000000000001e-06, 'epoch': 0.43}\n",
      "{'loss': 0.5826, 'learning_rate': 7.94e-06, 'epoch': 0.46}\n",
      "{'loss': 0.5702, 'learning_rate': 8.44e-06, 'epoch': 0.49}\n",
      "{'loss': 0.6071, 'learning_rate': 8.94e-06, 'epoch': 0.51}\n",
      "{'loss': 0.5777, 'learning_rate': 9.440000000000001e-06, 'epoch': 0.54}\n",
      "{'loss': 0.5706, 'learning_rate': 9.940000000000001e-06, 'epoch': 0.57}\n",
      "{'loss': 0.5576, 'learning_rate': 9.937142857142858e-06, 'epoch': 0.6}\n",
      "{'loss': 0.5665, 'learning_rate': 9.865714285714285e-06, 'epoch': 0.63}\n",
      "{'loss': 0.5424, 'learning_rate': 9.794285714285714e-06, 'epoch': 0.66}\n",
      "{'loss': 0.5087, 'learning_rate': 9.722857142857143e-06, 'epoch': 0.68}\n",
      "{'loss': 0.5602, 'learning_rate': 9.651428571428572e-06, 'epoch': 0.71}\n",
      "{'loss': 0.5199, 'learning_rate': 9.58e-06, 'epoch': 0.74}\n",
      "{'loss': 0.5302, 'learning_rate': 9.508571428571429e-06, 'epoch': 0.77}\n",
      "{'loss': 0.5256, 'learning_rate': 9.437142857142858e-06, 'epoch': 0.8}\n",
      "{'loss': 0.4911, 'learning_rate': 9.365714285714287e-06, 'epoch': 0.83}\n",
      "{'loss': 0.5154, 'learning_rate': 9.294285714285714e-06, 'epoch': 0.86}\n",
      "{'loss': 0.4673, 'learning_rate': 9.222857142857143e-06, 'epoch': 0.88}\n",
      "{'loss': 0.5416, 'learning_rate': 9.151428571428572e-06, 'epoch': 0.91}\n",
      "{'loss': 0.5359, 'learning_rate': 9.080000000000001e-06, 'epoch': 0.94}\n",
      "{'loss': 0.4713, 'learning_rate': 9.00857142857143e-06, 'epoch': 0.97}\n",
      "{'loss': 0.5131, 'learning_rate': 8.937142857142857e-06, 'epoch': 1.0}\n",
      "{'loss': 0.3934, 'learning_rate': 8.865714285714287e-06, 'epoch': 1.03}\n",
      "{'loss': 0.3869, 'learning_rate': 8.794285714285716e-06, 'epoch': 1.06}\n",
      "{'loss': 0.3661, 'learning_rate': 8.722857142857145e-06, 'epoch': 1.08}\n",
      "{'loss': 0.3778, 'learning_rate': 8.651428571428572e-06, 'epoch': 1.11}\n",
      "{'loss': 0.3742, 'learning_rate': 8.580000000000001e-06, 'epoch': 1.14}\n"
     ]
    },
    {
     "data": {
      "application/vnd.jupyter.widget-view+json": {
       "model_id": "7b817c690eca47fdb608da3504ff925c",
       "version_major": 2,
       "version_minor": 0
      },
      "text/plain": [
       "  0%|          | 0/125 [00:00<?, ?it/s]"
      ]
     },
     "metadata": {},
     "output_type": "display_data"
    },
    {
     "name": "stdout",
     "output_type": "stream",
     "text": [
      "{'eval_loss': 0.4899166226387024, 'eval_wer': 77.8, 'eval_runtime': 170.1606, 'eval_samples_per_second': 2.938, 'eval_steps_per_second': 0.735, 'epoch': 1.14}\n"
     ]
    },
    {
     "name": "stderr",
     "output_type": "stream",
     "text": [
      "C:\\Users\\ken20\\AppData\\Local\\Packages\\PythonSoftwareFoundation.Python.3.11_qbz5n2kfra8p0\\LocalCache\\local-packages\\Python311\\site-packages\\torch\\utils\\checkpoint.py:429: UserWarning: torch.utils.checkpoint: please pass in use_reentrant=True or use_reentrant=False explicitly. The default value of use_reentrant will be updated to be False in the future. To maintain current behavior, pass use_reentrant=True. It is recommended that you use use_reentrant=False. Refer to docs for more details on the differences between the two variants.\n",
      "  warnings.warn(\n"
     ]
    },
    {
     "name": "stdout",
     "output_type": "stream",
     "text": [
      "{'loss': 0.41, 'learning_rate': 8.50857142857143e-06, 'epoch': 1.17}\n",
      "{'loss': 0.3611, 'learning_rate': 8.437142857142859e-06, 'epoch': 1.2}\n",
      "{'loss': 0.3858, 'learning_rate': 8.365714285714286e-06, 'epoch': 1.23}\n",
      "{'loss': 0.3412, 'learning_rate': 8.294285714285715e-06, 'epoch': 1.26}\n",
      "{'loss': 0.3442, 'learning_rate': 8.222857142857144e-06, 'epoch': 1.28}\n",
      "{'loss': 0.3907, 'learning_rate': 8.151428571428572e-06, 'epoch': 1.31}\n",
      "{'loss': 0.3647, 'learning_rate': 8.08e-06, 'epoch': 1.34}\n",
      "{'loss': 0.383, 'learning_rate': 8.00857142857143e-06, 'epoch': 1.37}\n",
      "{'loss': 0.4249, 'learning_rate': 7.937142857142857e-06, 'epoch': 1.4}\n",
      "{'loss': 0.3863, 'learning_rate': 7.865714285714286e-06, 'epoch': 1.43}\n",
      "{'loss': 0.3446, 'learning_rate': 7.794285714285715e-06, 'epoch': 1.46}\n",
      "{'loss': 0.4014, 'learning_rate': 7.722857142857142e-06, 'epoch': 1.48}\n",
      "{'loss': 0.3406, 'learning_rate': 7.651428571428571e-06, 'epoch': 1.51}\n",
      "{'loss': 0.4027, 'learning_rate': 7.58e-06, 'epoch': 1.54}\n",
      "{'loss': 0.3765, 'learning_rate': 7.508571428571429e-06, 'epoch': 1.57}\n",
      "{'loss': 0.3598, 'learning_rate': 7.4371428571428575e-06, 'epoch': 1.6}\n",
      "{'loss': 0.3607, 'learning_rate': 7.365714285714286e-06, 'epoch': 1.63}\n",
      "{'loss': 0.3978, 'learning_rate': 7.294285714285715e-06, 'epoch': 1.66}\n",
      "{'loss': 0.3654, 'learning_rate': 7.222857142857144e-06, 'epoch': 1.68}\n",
      "{'loss': 0.3603, 'learning_rate': 7.151428571428573e-06, 'epoch': 1.71}\n",
      "{'loss': 0.3503, 'learning_rate': 7.08e-06, 'epoch': 1.74}\n",
      "{'loss': 0.3589, 'learning_rate': 7.008571428571429e-06, 'epoch': 1.77}\n",
      "{'loss': 0.3399, 'learning_rate': 6.937142857142858e-06, 'epoch': 1.8}\n",
      "{'loss': 0.3423, 'learning_rate': 6.865714285714287e-06, 'epoch': 1.83}\n",
      "{'loss': 0.3584, 'learning_rate': 6.794285714285714e-06, 'epoch': 1.86}\n",
      "{'loss': 0.3292, 'learning_rate': 6.722857142857143e-06, 'epoch': 1.88}\n",
      "{'loss': 0.348, 'learning_rate': 6.651428571428572e-06, 'epoch': 1.91}\n",
      "{'loss': 0.3776, 'learning_rate': 6.5800000000000005e-06, 'epoch': 1.94}\n",
      "{'loss': 0.3752, 'learning_rate': 6.5085714285714295e-06, 'epoch': 1.97}\n",
      "{'loss': 0.3738, 'learning_rate': 6.437142857142858e-06, 'epoch': 2.0}\n",
      "{'loss': 0.2325, 'learning_rate': 6.365714285714286e-06, 'epoch': 2.03}\n",
      "{'loss': 0.2291, 'learning_rate': 6.294285714285715e-06, 'epoch': 2.05}\n",
      "{'loss': 0.2507, 'learning_rate': 6.222857142857144e-06, 'epoch': 2.08}\n",
      "{'loss': 0.2676, 'learning_rate': 6.151428571428571e-06, 'epoch': 2.11}\n",
      "{'loss': 0.2374, 'learning_rate': 6.08e-06, 'epoch': 2.14}\n",
      "{'loss': 0.237, 'learning_rate': 6.008571428571429e-06, 'epoch': 2.17}\n",
      "{'loss': 0.2655, 'learning_rate': 5.937142857142858e-06, 'epoch': 2.2}\n",
      "{'loss': 0.2568, 'learning_rate': 5.865714285714286e-06, 'epoch': 2.23}\n",
      "{'loss': 0.2475, 'learning_rate': 5.794285714285715e-06, 'epoch': 2.25}\n",
      "{'loss': 0.2477, 'learning_rate': 5.722857142857144e-06, 'epoch': 2.28}\n"
     ]
    },
    {
     "data": {
      "application/vnd.jupyter.widget-view+json": {
       "model_id": "85f96eb5776b4c88aa53b558dbcf7419",
       "version_major": 2,
       "version_minor": 0
      },
      "text/plain": [
       "  0%|          | 0/125 [00:00<?, ?it/s]"
      ]
     },
     "metadata": {},
     "output_type": "display_data"
    },
    {
     "name": "stdout",
     "output_type": "stream",
     "text": [
      "{'eval_loss': 0.4471377432346344, 'eval_wer': 74.0, 'eval_runtime': 172.4616, 'eval_samples_per_second': 2.899, 'eval_steps_per_second': 0.725, 'epoch': 2.28}\n"
     ]
    },
    {
     "name": "stderr",
     "output_type": "stream",
     "text": [
      "C:\\Users\\ken20\\AppData\\Local\\Packages\\PythonSoftwareFoundation.Python.3.11_qbz5n2kfra8p0\\LocalCache\\local-packages\\Python311\\site-packages\\torch\\utils\\checkpoint.py:429: UserWarning: torch.utils.checkpoint: please pass in use_reentrant=True or use_reentrant=False explicitly. The default value of use_reentrant will be updated to be False in the future. To maintain current behavior, pass use_reentrant=True. It is recommended that you use use_reentrant=False. Refer to docs for more details on the differences between the two variants.\n",
      "  warnings.warn(\n"
     ]
    },
    {
     "name": "stdout",
     "output_type": "stream",
     "text": [
      "{'loss': 0.2601, 'learning_rate': 5.651428571428572e-06, 'epoch': 2.31}\n",
      "{'loss': 0.2461, 'learning_rate': 5.580000000000001e-06, 'epoch': 2.34}\n",
      "{'loss': 0.2078, 'learning_rate': 5.508571428571429e-06, 'epoch': 2.37}\n",
      "{'loss': 0.2523, 'learning_rate': 5.437142857142857e-06, 'epoch': 2.4}\n",
      "{'loss': 0.2512, 'learning_rate': 5.365714285714286e-06, 'epoch': 2.43}\n",
      "{'loss': 0.2517, 'learning_rate': 5.294285714285715e-06, 'epoch': 2.45}\n",
      "{'loss': 0.2412, 'learning_rate': 5.2228571428571425e-06, 'epoch': 2.48}\n",
      "{'loss': 0.2258, 'learning_rate': 5.1514285714285715e-06, 'epoch': 2.51}\n",
      "{'loss': 0.2521, 'learning_rate': 5.0800000000000005e-06, 'epoch': 2.54}\n",
      "{'loss': 0.251, 'learning_rate': 5.0085714285714295e-06, 'epoch': 2.57}\n",
      "{'loss': 0.2383, 'learning_rate': 4.937142857142858e-06, 'epoch': 2.6}\n",
      "{'loss': 0.2575, 'learning_rate': 4.865714285714287e-06, 'epoch': 2.63}\n",
      "{'loss': 0.2091, 'learning_rate': 4.794285714285715e-06, 'epoch': 2.65}\n",
      "{'loss': 0.2411, 'learning_rate': 4.722857142857144e-06, 'epoch': 2.68}\n",
      "{'loss': 0.2465, 'learning_rate': 4.651428571428572e-06, 'epoch': 2.71}\n",
      "{'loss': 0.2399, 'learning_rate': 4.58e-06, 'epoch': 2.74}\n",
      "{'loss': 0.2578, 'learning_rate': 4.508571428571429e-06, 'epoch': 2.77}\n",
      "{'loss': 0.2598, 'learning_rate': 4.437142857142857e-06, 'epoch': 2.8}\n",
      "{'loss': 0.2465, 'learning_rate': 4.3657142857142855e-06, 'epoch': 2.83}\n",
      "{'loss': 0.252, 'learning_rate': 4.2942857142857146e-06, 'epoch': 2.85}\n",
      "{'loss': 0.2434, 'learning_rate': 4.222857142857143e-06, 'epoch': 2.88}\n",
      "{'loss': 0.2566, 'learning_rate': 4.151428571428572e-06, 'epoch': 2.91}\n",
      "{'loss': 0.2325, 'learning_rate': 4.08e-06, 'epoch': 2.94}\n",
      "{'loss': 0.2328, 'learning_rate': 4.008571428571429e-06, 'epoch': 2.97}\n",
      "{'loss': 0.2465, 'learning_rate': 3.937142857142858e-06, 'epoch': 3.0}\n",
      "{'loss': 0.2017, 'learning_rate': 3.865714285714286e-06, 'epoch': 3.03}\n",
      "{'loss': 0.1575, 'learning_rate': 3.7942857142857147e-06, 'epoch': 3.05}\n",
      "{'loss': 0.1735, 'learning_rate': 3.722857142857143e-06, 'epoch': 3.08}\n",
      "{'loss': 0.1652, 'learning_rate': 3.651428571428572e-06, 'epoch': 3.11}\n",
      "{'loss': 0.1495, 'learning_rate': 3.58e-06, 'epoch': 3.14}\n",
      "{'loss': 0.1612, 'learning_rate': 3.508571428571429e-06, 'epoch': 3.17}\n",
      "{'loss': 0.1931, 'learning_rate': 3.437142857142857e-06, 'epoch': 3.2}\n",
      "{'loss': 0.1753, 'learning_rate': 3.3657142857142862e-06, 'epoch': 3.22}\n",
      "{'loss': 0.1715, 'learning_rate': 3.2942857142857144e-06, 'epoch': 3.25}\n",
      "{'loss': 0.1657, 'learning_rate': 3.222857142857143e-06, 'epoch': 3.28}\n",
      "{'loss': 0.1764, 'learning_rate': 3.151428571428572e-06, 'epoch': 3.31}\n",
      "{'loss': 0.1803, 'learning_rate': 3.08e-06, 'epoch': 3.34}\n",
      "{'loss': 0.172, 'learning_rate': 3.008571428571429e-06, 'epoch': 3.37}\n",
      "{'loss': 0.1827, 'learning_rate': 2.9371428571428573e-06, 'epoch': 3.4}\n",
      "{'loss': 0.1729, 'learning_rate': 2.865714285714286e-06, 'epoch': 3.42}\n"
     ]
    },
    {
     "data": {
      "application/vnd.jupyter.widget-view+json": {
       "model_id": "ef1c3d327c6647d885cb74d6acc5bf4b",
       "version_major": 2,
       "version_minor": 0
      },
      "text/plain": [
       "  0%|          | 0/125 [00:00<?, ?it/s]"
      ]
     },
     "metadata": {},
     "output_type": "display_data"
    },
    {
     "name": "stdout",
     "output_type": "stream",
     "text": [
      "{'eval_loss': 0.4314173460006714, 'eval_wer': 72.0, 'eval_runtime': 169.9836, 'eval_samples_per_second': 2.941, 'eval_steps_per_second': 0.735, 'epoch': 3.42}\n"
     ]
    },
    {
     "name": "stderr",
     "output_type": "stream",
     "text": [
      "C:\\Users\\ken20\\AppData\\Local\\Packages\\PythonSoftwareFoundation.Python.3.11_qbz5n2kfra8p0\\LocalCache\\local-packages\\Python311\\site-packages\\torch\\utils\\checkpoint.py:429: UserWarning: torch.utils.checkpoint: please pass in use_reentrant=True or use_reentrant=False explicitly. The default value of use_reentrant will be updated to be False in the future. To maintain current behavior, pass use_reentrant=True. It is recommended that you use use_reentrant=False. Refer to docs for more details on the differences between the two variants.\n",
      "  warnings.warn(\n"
     ]
    },
    {
     "name": "stdout",
     "output_type": "stream",
     "text": [
      "{'loss': 0.1918, 'learning_rate': 2.7942857142857145e-06, 'epoch': 3.45}\n",
      "{'loss': 0.1979, 'learning_rate': 2.722857142857143e-06, 'epoch': 3.48}\n",
      "{'loss': 0.1736, 'learning_rate': 2.6514285714285713e-06, 'epoch': 3.51}\n",
      "{'loss': 0.1722, 'learning_rate': 2.582857142857143e-06, 'epoch': 3.54}\n",
      "{'loss': 0.1842, 'learning_rate': 2.5114285714285718e-06, 'epoch': 3.57}\n",
      "{'loss': 0.1692, 'learning_rate': 2.4400000000000004e-06, 'epoch': 3.6}\n",
      "{'loss': 0.1721, 'learning_rate': 2.3685714285714285e-06, 'epoch': 3.62}\n",
      "{'loss': 0.1922, 'learning_rate': 2.297142857142857e-06, 'epoch': 3.65}\n",
      "{'loss': 0.1833, 'learning_rate': 2.2257142857142857e-06, 'epoch': 3.68}\n",
      "{'loss': 0.1873, 'learning_rate': 2.1542857142857147e-06, 'epoch': 3.71}\n",
      "{'loss': 0.1769, 'learning_rate': 2.0828571428571433e-06, 'epoch': 3.74}\n",
      "{'loss': 0.1535, 'learning_rate': 2.0114285714285715e-06, 'epoch': 3.77}\n",
      "{'loss': 0.1673, 'learning_rate': 1.94e-06, 'epoch': 3.8}\n",
      "{'loss': 0.1715, 'learning_rate': 1.8685714285714289e-06, 'epoch': 3.82}\n",
      "{'loss': 0.1771, 'learning_rate': 1.7971428571428572e-06, 'epoch': 3.85}\n",
      "{'loss': 0.1727, 'learning_rate': 1.7257142857142858e-06, 'epoch': 3.88}\n",
      "{'loss': 0.1516, 'learning_rate': 1.6542857142857144e-06, 'epoch': 3.91}\n",
      "{'loss': 0.1945, 'learning_rate': 1.582857142857143e-06, 'epoch': 3.94}\n",
      "{'loss': 0.1575, 'learning_rate': 1.5114285714285714e-06, 'epoch': 3.97}\n",
      "{'loss': 0.1754, 'learning_rate': 1.44e-06, 'epoch': 4.0}\n",
      "{'loss': 0.1339, 'learning_rate': 1.3685714285714286e-06, 'epoch': 4.02}\n",
      "{'loss': 0.1411, 'learning_rate': 1.2971428571428574e-06, 'epoch': 4.05}\n",
      "{'loss': 0.1435, 'learning_rate': 1.2257142857142857e-06, 'epoch': 4.08}\n",
      "{'loss': 0.1192, 'learning_rate': 1.1542857142857143e-06, 'epoch': 4.11}\n",
      "{'loss': 0.1334, 'learning_rate': 1.082857142857143e-06, 'epoch': 4.14}\n",
      "{'loss': 0.1448, 'learning_rate': 1.0114285714285715e-06, 'epoch': 4.17}\n",
      "{'loss': 0.1515, 'learning_rate': 9.400000000000001e-07, 'epoch': 4.2}\n",
      "{'loss': 0.145, 'learning_rate': 8.685714285714286e-07, 'epoch': 4.22}\n",
      "{'loss': 0.1454, 'learning_rate': 7.971428571428572e-07, 'epoch': 4.25}\n",
      "{'loss': 0.1244, 'learning_rate': 7.257142857142857e-07, 'epoch': 4.28}\n",
      "{'loss': 0.1365, 'learning_rate': 6.542857142857144e-07, 'epoch': 4.31}\n",
      "{'loss': 0.1447, 'learning_rate': 5.82857142857143e-07, 'epoch': 4.34}\n",
      "{'loss': 0.1303, 'learning_rate': 5.114285714285714e-07, 'epoch': 4.37}\n",
      "{'loss': 0.1289, 'learning_rate': 4.4e-07, 'epoch': 4.39}\n",
      "{'loss': 0.1372, 'learning_rate': 3.685714285714286e-07, 'epoch': 4.42}\n",
      "{'loss': 0.1338, 'learning_rate': 2.9714285714285715e-07, 'epoch': 4.45}\n",
      "{'loss': 0.1291, 'learning_rate': 2.2571428571428574e-07, 'epoch': 4.48}\n",
      "{'loss': 0.1322, 'learning_rate': 1.542857142857143e-07, 'epoch': 4.51}\n",
      "{'loss': 0.139, 'learning_rate': 8.285714285714285e-08, 'epoch': 4.54}\n",
      "{'loss': 0.1414, 'learning_rate': 1.142857142857143e-08, 'epoch': 4.57}\n"
     ]
    },
    {
     "data": {
      "application/vnd.jupyter.widget-view+json": {
       "model_id": "48f519f381a7486487cd3ff1153a9df4",
       "version_major": 2,
       "version_minor": 0
      },
      "text/plain": [
       "  0%|          | 0/125 [00:00<?, ?it/s]"
      ]
     },
     "metadata": {},
     "output_type": "display_data"
    },
    {
     "name": "stdout",
     "output_type": "stream",
     "text": [
      "{'eval_loss': 0.4306756556034088, 'eval_wer': 71.8, 'eval_runtime': 170.3945, 'eval_samples_per_second': 2.934, 'eval_steps_per_second': 0.734, 'epoch': 4.57}\n"
     ]
    },
    {
     "name": "stderr",
     "output_type": "stream",
     "text": [
      "There were missing keys in the checkpoint model loaded: ['proj_out.weight'].\n"
     ]
    },
    {
     "name": "stdout",
     "output_type": "stream",
     "text": [
      "{'train_runtime': 12435.0813, 'train_samples_per_second': 5.147, 'train_steps_per_second': 0.322, 'train_loss': 0.3557612931728363, 'epoch': 4.57}\n"
     ]
    }
   ],
   "source": [
    "fineTuneWhisper(1)"
   ]
  },
  {
   "cell_type": "code",
   "execution_count": 4,
   "metadata": {},
   "outputs": [
    {
     "name": "stderr",
     "output_type": "stream",
     "text": [
      "C:\\Users\\ken20\\AppData\\Local\\Packages\\PythonSoftwareFoundation.Python.3.11_qbz5n2kfra8p0\\LocalCache\\local-packages\\Python311\\site-packages\\datasets\\table.py:1421: FutureWarning: promote has been superseded by mode='default'.\n",
      "  table = cls._concat_blocks(blocks, axis=0)\n"
     ]
    },
    {
     "data": {
      "application/vnd.jupyter.widget-view+json": {
       "model_id": "30ce9c19ce894e908182f8a0138d02a8",
       "version_major": 2,
       "version_minor": 0
      },
      "text/plain": [
       "  0%|          | 0/4000 [00:00<?, ?it/s]"
      ]
     },
     "metadata": {},
     "output_type": "display_data"
    },
    {
     "name": "stderr",
     "output_type": "stream",
     "text": [
      "C:\\Users\\ken20\\AppData\\Local\\Packages\\PythonSoftwareFoundation.Python.3.11_qbz5n2kfra8p0\\LocalCache\\local-packages\\Python311\\site-packages\\torch\\utils\\checkpoint.py:429: UserWarning: torch.utils.checkpoint: please pass in use_reentrant=True or use_reentrant=False explicitly. The default value of use_reentrant will be updated to be False in the future. To maintain current behavior, pass use_reentrant=True. It is recommended that you use use_reentrant=False. Refer to docs for more details on the differences between the two variants.\n",
      "  warnings.warn(\n",
      "`use_cache = True` is incompatible with gradient checkpointing. Setting `use_cache = False`...\n"
     ]
    },
    {
     "name": "stdout",
     "output_type": "stream",
     "text": [
      "{'loss': 4.1329, 'learning_rate': 4.6000000000000004e-07, 'epoch': 0.11}\n",
      "{'loss': 2.9377, 'learning_rate': 9.600000000000001e-07, 'epoch': 0.23}\n",
      "{'loss': 1.8432, 'learning_rate': 1.46e-06, 'epoch': 0.34}\n",
      "{'loss': 1.009, 'learning_rate': 1.9600000000000003e-06, 'epoch': 0.46}\n",
      "{'loss': 0.8146, 'learning_rate': 2.46e-06, 'epoch': 0.57}\n",
      "{'loss': 0.6837, 'learning_rate': 2.96e-06, 'epoch': 0.68}\n",
      "{'loss': 0.5505, 'learning_rate': 3.46e-06, 'epoch': 0.8}\n",
      "{'loss': 0.4404, 'learning_rate': 3.96e-06, 'epoch': 0.91}\n",
      "{'loss': 0.3785, 'learning_rate': 4.4600000000000005e-06, 'epoch': 1.03}\n",
      "{'loss': 0.3137, 'learning_rate': 4.960000000000001e-06, 'epoch': 1.14}\n",
      "{'loss': 0.3002, 'learning_rate': 5.460000000000001e-06, 'epoch': 1.26}\n",
      "{'loss': 0.3024, 'learning_rate': 5.9600000000000005e-06, 'epoch': 1.37}\n",
      "{'loss': 0.3074, 'learning_rate': 6.460000000000001e-06, 'epoch': 1.48}\n",
      "{'loss': 0.2895, 'learning_rate': 6.96e-06, 'epoch': 1.6}\n",
      "{'loss': 0.3031, 'learning_rate': 7.4600000000000006e-06, 'epoch': 1.71}\n",
      "{'loss': 0.2992, 'learning_rate': 7.960000000000002e-06, 'epoch': 1.83}\n",
      "{'loss': 0.2903, 'learning_rate': 8.46e-06, 'epoch': 1.94}\n",
      "{'loss': 0.2423, 'learning_rate': 8.96e-06, 'epoch': 2.05}\n",
      "{'loss': 0.1877, 'learning_rate': 9.460000000000001e-06, 'epoch': 2.17}\n",
      "{'loss': 0.1787, 'learning_rate': 9.960000000000001e-06, 'epoch': 2.28}\n",
      "{'loss': 0.1856, 'learning_rate': 9.934285714285715e-06, 'epoch': 2.4}\n",
      "{'loss': 0.185, 'learning_rate': 9.862857142857144e-06, 'epoch': 2.51}\n",
      "{'loss': 0.1774, 'learning_rate': 9.791428571428571e-06, 'epoch': 2.63}\n",
      "{'loss': 0.1849, 'learning_rate': 9.72e-06, 'epoch': 2.74}\n",
      "{'loss': 0.1858, 'learning_rate': 9.648571428571429e-06, 'epoch': 2.85}\n",
      "{'loss': 0.1822, 'learning_rate': 9.577142857142858e-06, 'epoch': 2.97}\n",
      "{'loss': 0.122, 'learning_rate': 9.505714285714287e-06, 'epoch': 3.08}\n",
      "{'loss': 0.0976, 'learning_rate': 9.434285714285714e-06, 'epoch': 3.2}\n",
      "{'loss': 0.1021, 'learning_rate': 9.362857142857143e-06, 'epoch': 3.31}\n",
      "{'loss': 0.093, 'learning_rate': 9.291428571428572e-06, 'epoch': 3.42}\n",
      "{'loss': 0.0969, 'learning_rate': 9.220000000000002e-06, 'epoch': 3.54}\n",
      "{'loss': 0.0974, 'learning_rate': 9.148571428571429e-06, 'epoch': 3.65}\n",
      "{'loss': 0.099, 'learning_rate': 9.077142857142858e-06, 'epoch': 3.77}\n",
      "{'loss': 0.1029, 'learning_rate': 9.005714285714287e-06, 'epoch': 3.88}\n",
      "{'loss': 0.102, 'learning_rate': 8.934285714285716e-06, 'epoch': 4.0}\n",
      "{'loss': 0.0518, 'learning_rate': 8.862857142857143e-06, 'epoch': 4.11}\n",
      "{'loss': 0.0514, 'learning_rate': 8.791428571428572e-06, 'epoch': 4.22}\n",
      "{'loss': 0.0507, 'learning_rate': 8.720000000000001e-06, 'epoch': 4.34}\n",
      "{'loss': 0.0473, 'learning_rate': 8.64857142857143e-06, 'epoch': 4.45}\n",
      "{'loss': 0.0556, 'learning_rate': 8.577142857142858e-06, 'epoch': 4.57}\n"
     ]
    },
    {
     "data": {
      "application/vnd.jupyter.widget-view+json": {
       "model_id": "be292988974d45dd9bd8a8e6e4082154",
       "version_major": 2,
       "version_minor": 0
      },
      "text/plain": [
       "  0%|          | 0/250 [00:00<?, ?it/s]"
      ]
     },
     "metadata": {},
     "output_type": "display_data"
    },
    {
     "name": "stdout",
     "output_type": "stream",
     "text": [
      "{'eval_loss': 0.33825379610061646, 'eval_wer': 212.0, 'eval_runtime': 366.0653, 'eval_samples_per_second': 1.366, 'eval_steps_per_second': 0.683, 'epoch': 4.57}\n"
     ]
    },
    {
     "name": "stderr",
     "output_type": "stream",
     "text": [
      "C:\\Users\\ken20\\AppData\\Local\\Packages\\PythonSoftwareFoundation.Python.3.11_qbz5n2kfra8p0\\LocalCache\\local-packages\\Python311\\site-packages\\torch\\utils\\checkpoint.py:429: UserWarning: torch.utils.checkpoint: please pass in use_reentrant=True or use_reentrant=False explicitly. The default value of use_reentrant will be updated to be False in the future. To maintain current behavior, pass use_reentrant=True. It is recommended that you use use_reentrant=False. Refer to docs for more details on the differences between the two variants.\n",
      "  warnings.warn(\n"
     ]
    },
    {
     "name": "stdout",
     "output_type": "stream",
     "text": [
      "{'loss': 0.0487, 'learning_rate': 8.505714285714287e-06, 'epoch': 4.68}\n",
      "{'loss': 0.051, 'learning_rate': 8.434285714285716e-06, 'epoch': 4.79}\n",
      "{'loss': 0.055, 'learning_rate': 8.362857142857143e-06, 'epoch': 4.91}\n",
      "{'loss': 0.0509, 'learning_rate': 8.291428571428572e-06, 'epoch': 5.02}\n",
      "{'loss': 0.0268, 'learning_rate': 8.220000000000001e-06, 'epoch': 5.14}\n",
      "{'loss': 0.026, 'learning_rate': 8.148571428571428e-06, 'epoch': 5.25}\n",
      "{'loss': 0.0246, 'learning_rate': 8.077142857142857e-06, 'epoch': 5.37}\n",
      "{'loss': 0.0253, 'learning_rate': 8.005714285714286e-06, 'epoch': 5.48}\n",
      "{'loss': 0.0247, 'learning_rate': 7.934285714285715e-06, 'epoch': 5.59}\n",
      "{'loss': 0.0246, 'learning_rate': 7.862857142857143e-06, 'epoch': 5.71}\n",
      "{'loss': 0.0267, 'learning_rate': 7.791428571428572e-06, 'epoch': 5.82}\n",
      "{'loss': 0.0272, 'learning_rate': 7.72e-06, 'epoch': 5.94}\n",
      "{'loss': 0.0197, 'learning_rate': 7.64857142857143e-06, 'epoch': 6.05}\n",
      "{'loss': 0.0134, 'learning_rate': 7.577142857142857e-06, 'epoch': 6.16}\n",
      "{'loss': 0.0127, 'learning_rate': 7.505714285714286e-06, 'epoch': 6.28}\n",
      "{'loss': 0.0138, 'learning_rate': 7.434285714285715e-06, 'epoch': 6.39}\n",
      "{'loss': 0.0139, 'learning_rate': 7.362857142857144e-06, 'epoch': 6.51}\n",
      "{'loss': 0.015, 'learning_rate': 7.291428571428571e-06, 'epoch': 6.62}\n",
      "{'loss': 0.0138, 'learning_rate': 7.22e-06, 'epoch': 6.74}\n",
      "{'loss': 0.0125, 'learning_rate': 7.148571428571429e-06, 'epoch': 6.85}\n",
      "{'loss': 0.0131, 'learning_rate': 7.077142857142858e-06, 'epoch': 6.96}\n",
      "{'loss': 0.0102, 'learning_rate': 7.0057142857142865e-06, 'epoch': 7.08}\n",
      "{'loss': 0.0068, 'learning_rate': 6.934285714285715e-06, 'epoch': 7.19}\n",
      "{'loss': 0.0079, 'learning_rate': 6.862857142857144e-06, 'epoch': 7.31}\n",
      "{'loss': 0.0077, 'learning_rate': 6.791428571428572e-06, 'epoch': 7.42}\n",
      "{'loss': 0.0074, 'learning_rate': 6.720000000000001e-06, 'epoch': 7.53}\n",
      "{'loss': 0.0062, 'learning_rate': 6.648571428571429e-06, 'epoch': 7.65}\n",
      "{'loss': 0.0062, 'learning_rate': 6.577142857142857e-06, 'epoch': 7.76}\n",
      "{'loss': 0.0074, 'learning_rate': 6.505714285714286e-06, 'epoch': 7.88}\n",
      "{'loss': 0.007, 'learning_rate': 6.434285714285715e-06, 'epoch': 7.99}\n",
      "{'loss': 0.0044, 'learning_rate': 6.3628571428571426e-06, 'epoch': 8.11}\n",
      "{'loss': 0.0049, 'learning_rate': 6.2914285714285716e-06, 'epoch': 8.22}\n",
      "{'loss': 0.0044, 'learning_rate': 6.220000000000001e-06, 'epoch': 8.33}\n",
      "{'loss': 0.0049, 'learning_rate': 6.14857142857143e-06, 'epoch': 8.45}\n",
      "{'loss': 0.0041, 'learning_rate': 6.077142857142858e-06, 'epoch': 8.56}\n",
      "{'loss': 0.0048, 'learning_rate': 6.005714285714286e-06, 'epoch': 8.68}\n",
      "{'loss': 0.005, 'learning_rate': 5.934285714285715e-06, 'epoch': 8.79}\n",
      "{'loss': 0.0055, 'learning_rate': 5.862857142857143e-06, 'epoch': 8.9}\n",
      "{'loss': 0.0046, 'learning_rate': 5.791428571428572e-06, 'epoch': 9.02}\n",
      "{'loss': 0.0042, 'learning_rate': 5.72e-06, 'epoch': 9.13}\n"
     ]
    },
    {
     "data": {
      "application/vnd.jupyter.widget-view+json": {
       "model_id": "99671818bdfe4cd7ab709a2b96c81e91",
       "version_major": 2,
       "version_minor": 0
      },
      "text/plain": [
       "  0%|          | 0/250 [00:00<?, ?it/s]"
      ]
     },
     "metadata": {},
     "output_type": "display_data"
    },
    {
     "name": "stdout",
     "output_type": "stream",
     "text": [
      "{'eval_loss': 0.36252716183662415, 'eval_wer': 217.79999999999998, 'eval_runtime': 368.3247, 'eval_samples_per_second': 1.357, 'eval_steps_per_second': 0.679, 'epoch': 9.13}\n"
     ]
    },
    {
     "name": "stderr",
     "output_type": "stream",
     "text": [
      "C:\\Users\\ken20\\AppData\\Local\\Packages\\PythonSoftwareFoundation.Python.3.11_qbz5n2kfra8p0\\LocalCache\\local-packages\\Python311\\site-packages\\torch\\utils\\checkpoint.py:429: UserWarning: torch.utils.checkpoint: please pass in use_reentrant=True or use_reentrant=False explicitly. The default value of use_reentrant will be updated to be False in the future. To maintain current behavior, pass use_reentrant=True. It is recommended that you use use_reentrant=False. Refer to docs for more details on the differences between the two variants.\n",
      "  warnings.warn(\n"
     ]
    },
    {
     "name": "stdout",
     "output_type": "stream",
     "text": [
      "{'loss': 0.003, 'learning_rate': 5.6485714285714285e-06, 'epoch': 9.25}\n",
      "{'loss': 0.0033, 'learning_rate': 5.5771428571428575e-06, 'epoch': 9.36}\n",
      "{'loss': 0.0031, 'learning_rate': 5.5057142857142865e-06, 'epoch': 9.47}\n",
      "{'loss': 0.0032, 'learning_rate': 5.4342857142857155e-06, 'epoch': 9.59}\n",
      "{'loss': 0.0029, 'learning_rate': 5.362857142857143e-06, 'epoch': 9.7}\n",
      "{'loss': 0.0028, 'learning_rate': 5.291428571428572e-06, 'epoch': 9.82}\n",
      "{'loss': 0.0031, 'learning_rate': 5.220000000000001e-06, 'epoch': 9.93}\n",
      "{'loss': 0.0028, 'learning_rate': 5.14857142857143e-06, 'epoch': 10.05}\n",
      "{'loss': 0.0027, 'learning_rate': 5.077142857142857e-06, 'epoch': 10.16}\n",
      "{'loss': 0.0023, 'learning_rate': 5.005714285714286e-06, 'epoch': 10.27}\n",
      "{'loss': 0.0022, 'learning_rate': 4.934285714285715e-06, 'epoch': 10.39}\n",
      "{'loss': 0.0024, 'learning_rate': 4.862857142857143e-06, 'epoch': 10.5}\n",
      "{'loss': 0.0021, 'learning_rate': 4.7914285714285715e-06, 'epoch': 10.62}\n",
      "{'loss': 0.002, 'learning_rate': 4.7200000000000005e-06, 'epoch': 10.73}\n",
      "{'loss': 0.0021, 'learning_rate': 4.648571428571429e-06, 'epoch': 10.84}\n",
      "{'loss': 0.0021, 'learning_rate': 4.577142857142858e-06, 'epoch': 10.96}\n",
      "{'loss': 0.0024, 'learning_rate': 4.505714285714286e-06, 'epoch': 11.07}\n",
      "{'loss': 0.0018, 'learning_rate': 4.434285714285715e-06, 'epoch': 11.19}\n",
      "{'loss': 0.0017, 'learning_rate': 4.362857142857143e-06, 'epoch': 11.3}\n",
      "{'loss': 0.0017, 'learning_rate': 4.291428571428572e-06, 'epoch': 11.42}\n",
      "{'loss': 0.0019, 'learning_rate': 4.22e-06, 'epoch': 11.53}\n",
      "{'loss': 0.0017, 'learning_rate': 4.148571428571429e-06, 'epoch': 11.64}\n",
      "{'loss': 0.0018, 'learning_rate': 4.0771428571428574e-06, 'epoch': 11.76}\n",
      "{'loss': 0.0018, 'learning_rate': 4.0057142857142864e-06, 'epoch': 11.87}\n",
      "{'loss': 0.0016, 'learning_rate': 3.934285714285715e-06, 'epoch': 11.99}\n",
      "{'loss': 0.0015, 'learning_rate': 3.862857142857143e-06, 'epoch': 12.1}\n",
      "{'loss': 0.0015, 'learning_rate': 3.7914285714285722e-06, 'epoch': 12.21}\n",
      "{'loss': 0.0014, 'learning_rate': 3.7200000000000004e-06, 'epoch': 12.33}\n",
      "{'loss': 0.0014, 'learning_rate': 3.648571428571429e-06, 'epoch': 12.44}\n",
      "{'loss': 0.0021, 'learning_rate': 3.5771428571428576e-06, 'epoch': 12.56}\n",
      "{'loss': 0.0014, 'learning_rate': 3.505714285714286e-06, 'epoch': 12.67}\n",
      "{'loss': 0.0015, 'learning_rate': 3.4342857142857143e-06, 'epoch': 12.79}\n",
      "{'loss': 0.0015, 'learning_rate': 3.3628571428571433e-06, 'epoch': 12.9}\n",
      "{'loss': 0.0015, 'learning_rate': 3.2914285714285715e-06, 'epoch': 13.01}\n",
      "{'loss': 0.002, 'learning_rate': 3.2200000000000005e-06, 'epoch': 13.13}\n",
      "{'loss': 0.0014, 'learning_rate': 3.1485714285714287e-06, 'epoch': 13.24}\n",
      "{'loss': 0.0013, 'learning_rate': 3.0771428571428573e-06, 'epoch': 13.36}\n",
      "{'loss': 0.0013, 'learning_rate': 3.005714285714286e-06, 'epoch': 13.47}\n",
      "{'loss': 0.0013, 'learning_rate': 2.9342857142857144e-06, 'epoch': 13.58}\n",
      "{'loss': 0.0014, 'learning_rate': 2.8628571428571435e-06, 'epoch': 13.7}\n"
     ]
    },
    {
     "data": {
      "application/vnd.jupyter.widget-view+json": {
       "model_id": "6d4d185ab24a4aca8f68450ec8881b02",
       "version_major": 2,
       "version_minor": 0
      },
      "text/plain": [
       "  0%|          | 0/250 [00:00<?, ?it/s]"
      ]
     },
     "metadata": {},
     "output_type": "display_data"
    },
    {
     "name": "stdout",
     "output_type": "stream",
     "text": [
      "{'eval_loss': 0.37668663263320923, 'eval_wer': 163.6, 'eval_runtime': 360.7275, 'eval_samples_per_second': 1.386, 'eval_steps_per_second': 0.693, 'epoch': 13.7}\n"
     ]
    },
    {
     "name": "stderr",
     "output_type": "stream",
     "text": [
      "C:\\Users\\ken20\\AppData\\Local\\Packages\\PythonSoftwareFoundation.Python.3.11_qbz5n2kfra8p0\\LocalCache\\local-packages\\Python311\\site-packages\\torch\\utils\\checkpoint.py:429: UserWarning: torch.utils.checkpoint: please pass in use_reentrant=True or use_reentrant=False explicitly. The default value of use_reentrant will be updated to be False in the future. To maintain current behavior, pass use_reentrant=True. It is recommended that you use use_reentrant=False. Refer to docs for more details on the differences between the two variants.\n",
      "  warnings.warn(\n"
     ]
    },
    {
     "name": "stdout",
     "output_type": "stream",
     "text": [
      "{'loss': 0.0013, 'learning_rate': 2.7914285714285716e-06, 'epoch': 13.81}\n",
      "{'loss': 0.0013, 'learning_rate': 2.7200000000000002e-06, 'epoch': 13.93}\n",
      "{'loss': 0.0013, 'learning_rate': 2.648571428571429e-06, 'epoch': 14.04}\n",
      "{'loss': 0.0012, 'learning_rate': 2.5771428571428574e-06, 'epoch': 14.16}\n",
      "{'loss': 0.0012, 'learning_rate': 2.5057142857142856e-06, 'epoch': 14.27}\n",
      "{'loss': 0.0016, 'learning_rate': 2.4342857142857146e-06, 'epoch': 14.38}\n",
      "{'loss': 0.0012, 'learning_rate': 2.362857142857143e-06, 'epoch': 14.5}\n",
      "{'loss': 0.0011, 'learning_rate': 2.2914285714285718e-06, 'epoch': 14.61}\n",
      "{'loss': 0.0013, 'learning_rate': 2.2200000000000003e-06, 'epoch': 14.73}\n",
      "{'loss': 0.0012, 'learning_rate': 2.148571428571429e-06, 'epoch': 14.84}\n",
      "{'loss': 0.0012, 'learning_rate': 2.077142857142857e-06, 'epoch': 14.95}\n",
      "{'loss': 0.0011, 'learning_rate': 2.0057142857142857e-06, 'epoch': 15.07}\n",
      "{'loss': 0.0011, 'learning_rate': 1.9342857142857143e-06, 'epoch': 15.18}\n",
      "{'loss': 0.0011, 'learning_rate': 1.8628571428571429e-06, 'epoch': 15.3}\n",
      "{'loss': 0.0011, 'learning_rate': 1.7914285714285715e-06, 'epoch': 15.41}\n",
      "{'loss': 0.0011, 'learning_rate': 1.72e-06, 'epoch': 15.53}\n",
      "{'loss': 0.0011, 'learning_rate': 1.6485714285714289e-06, 'epoch': 15.64}\n",
      "{'loss': 0.0011, 'learning_rate': 1.5771428571428574e-06, 'epoch': 15.75}\n",
      "{'loss': 0.0012, 'learning_rate': 1.5057142857142858e-06, 'epoch': 15.87}\n",
      "{'loss': 0.0011, 'learning_rate': 1.4342857142857144e-06, 'epoch': 15.98}\n",
      "{'loss': 0.0011, 'learning_rate': 1.362857142857143e-06, 'epoch': 16.1}\n",
      "{'loss': 0.001, 'learning_rate': 1.2914285714285716e-06, 'epoch': 16.21}\n",
      "{'loss': 0.001, 'learning_rate': 1.2200000000000002e-06, 'epoch': 16.32}\n",
      "{'loss': 0.0011, 'learning_rate': 1.1485714285714286e-06, 'epoch': 16.44}\n",
      "{'loss': 0.001, 'learning_rate': 1.0771428571428574e-06, 'epoch': 16.55}\n",
      "{'loss': 0.001, 'learning_rate': 1.0057142857142857e-06, 'epoch': 16.67}\n",
      "{'loss': 0.001, 'learning_rate': 9.342857142857144e-07, 'epoch': 16.78}\n",
      "{'loss': 0.0011, 'learning_rate': 8.628571428571429e-07, 'epoch': 16.89}\n",
      "{'loss': 0.001, 'learning_rate': 7.914285714285715e-07, 'epoch': 17.01}\n",
      "{'loss': 0.001, 'learning_rate': 7.2e-07, 'epoch': 17.12}\n",
      "{'loss': 0.001, 'learning_rate': 6.485714285714287e-07, 'epoch': 17.24}\n",
      "{'loss': 0.001, 'learning_rate': 5.771428571428572e-07, 'epoch': 17.35}\n",
      "{'loss': 0.001, 'learning_rate': 5.057142857142858e-07, 'epoch': 17.47}\n",
      "{'loss': 0.001, 'learning_rate': 4.342857142857143e-07, 'epoch': 17.58}\n",
      "{'loss': 0.001, 'learning_rate': 3.6285714285714283e-07, 'epoch': 17.69}\n",
      "{'loss': 0.001, 'learning_rate': 2.914285714285715e-07, 'epoch': 17.81}\n",
      "{'loss': 0.001, 'learning_rate': 2.2e-07, 'epoch': 17.92}\n",
      "{'loss': 0.001, 'learning_rate': 1.4857142857142857e-07, 'epoch': 18.04}\n",
      "{'loss': 0.001, 'learning_rate': 7.714285714285715e-08, 'epoch': 18.15}\n",
      "{'loss': 0.001, 'learning_rate': 5.714285714285715e-09, 'epoch': 18.26}\n"
     ]
    },
    {
     "data": {
      "application/vnd.jupyter.widget-view+json": {
       "model_id": "0f9cfb8ca9444ac68262aac876c505ac",
       "version_major": 2,
       "version_minor": 0
      },
      "text/plain": [
       "  0%|          | 0/250 [00:00<?, ?it/s]"
      ]
     },
     "metadata": {},
     "output_type": "display_data"
    },
    {
     "name": "stdout",
     "output_type": "stream",
     "text": [
      "{'eval_loss': 0.38287055492401123, 'eval_wer': 172.6, 'eval_runtime': 363.4757, 'eval_samples_per_second': 1.376, 'eval_steps_per_second': 0.688, 'epoch': 18.26}\n"
     ]
    },
    {
     "name": "stderr",
     "output_type": "stream",
     "text": [
      "There were missing keys in the checkpoint model loaded: ['proj_out.weight'].\n"
     ]
    },
    {
     "name": "stdout",
     "output_type": "stream",
     "text": [
      "{'train_runtime': 57041.7924, 'train_samples_per_second': 4.488, 'train_steps_per_second': 0.07, 'train_loss': 0.11783317534532398, 'epoch': 18.26}\n"
     ]
    }
   ],
   "source": [
    "fineTuneWhisper(2)"
   ]
  },
  {
   "cell_type": "code",
   "execution_count": 4,
   "metadata": {},
   "outputs": [
    {
     "name": "stderr",
     "output_type": "stream",
     "text": [
      "C:\\Users\\ken20\\AppData\\Local\\Packages\\PythonSoftwareFoundation.Python.3.11_qbz5n2kfra8p0\\LocalCache\\local-packages\\Python311\\site-packages\\datasets\\table.py:1421: FutureWarning: promote has been superseded by mode='default'.\n",
      "  table = cls._concat_blocks(blocks, axis=0)\n"
     ]
    },
    {
     "data": {
      "application/vnd.jupyter.widget-view+json": {
       "model_id": "e4a3012c47e14fceb2f3f8588b4306e6",
       "version_major": 2,
       "version_minor": 0
      },
      "text/plain": [
       "  0%|          | 0/4000 [00:00<?, ?it/s]"
      ]
     },
     "metadata": {},
     "output_type": "display_data"
    },
    {
     "name": "stderr",
     "output_type": "stream",
     "text": [
      "C:\\Users\\ken20\\AppData\\Local\\Packages\\PythonSoftwareFoundation.Python.3.11_qbz5n2kfra8p0\\LocalCache\\local-packages\\Python311\\site-packages\\torch\\utils\\checkpoint.py:429: UserWarning: torch.utils.checkpoint: please pass in use_reentrant=True or use_reentrant=False explicitly. The default value of use_reentrant will be updated to be False in the future. To maintain current behavior, pass use_reentrant=True. It is recommended that you use use_reentrant=False. Refer to docs for more details on the differences between the two variants.\n",
      "  warnings.warn(\n",
      "`use_cache = True` is incompatible with gradient checkpointing. Setting `use_cache = False`...\n"
     ]
    }
   ],
   "source": [
    "fineTuneWhisper(3)"
   ]
  },
  {
   "cell_type": "code",
   "execution_count": null,
   "metadata": {},
   "outputs": [],
   "source": [
    "fineTuneWhisper(4)"
   ]
  },
  {
   "cell_type": "code",
   "execution_count": null,
   "metadata": {},
   "outputs": [],
   "source": [
    "fineTuneWhisper(5)"
   ]
  },
  {
   "cell_type": "code",
   "execution_count": null,
   "metadata": {},
   "outputs": [],
   "source": [
    "fineTuneWhisper(6)"
   ]
  }
 ],
 "metadata": {
  "kernelspec": {
   "display_name": "Python 3",
   "language": "python",
   "name": "python3"
  },
  "language_info": {
   "codemirror_mode": {
    "name": "ipython",
    "version": 3
   },
   "file_extension": ".py",
   "mimetype": "text/x-python",
   "name": "python",
   "nbconvert_exporter": "python",
   "pygments_lexer": "ipython3",
   "version": "3.11.6"
  }
 },
 "nbformat": 4,
 "nbformat_minor": 2
}
