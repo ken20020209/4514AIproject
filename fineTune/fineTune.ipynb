{
 "cells": [
  {
   "cell_type": "code",
   "execution_count": 2,
   "metadata": {},
   "outputs": [],
   "source": [
    "import fineTune as ft\n",
    "import dataPreprocess as dp"
   ]
  },
  {
   "cell_type": "code",
   "execution_count": 3,
   "metadata": {},
   "outputs": [],
   "source": [
    "whisper_path=[\"openai/whisper-tiny\",\"openai/whisper-base\",\"openai/whisper-small\",\"openai/whisper-medium\",\"openai/whisper-large\",\"openai/whisper-large-v2\",\"openai/whisper-large-v3\"]"
   ]
  },
  {
   "cell_type": "code",
   "execution_count": 4,
   "metadata": {},
   "outputs": [],
   "source": [
    "def fineTuneWhisper(index):\n",
    "    ft.fineTune(whisper_path[index],dp.loadpreprocess(whisper_path[index]),16//(2**min(4,index)))"
   ]
  },
  {
   "cell_type": "code",
   "execution_count": 4,
   "metadata": {},
   "outputs": [
    {
     "name": "stderr",
     "output_type": "stream",
     "text": [
      "C:\\Users\\ken20\\AppData\\Local\\Packages\\PythonSoftwareFoundation.Python.3.11_qbz5n2kfra8p0\\LocalCache\\local-packages\\Python311\\site-packages\\datasets\\table.py:1421: FutureWarning: promote has been superseded by mode='default'.\n",
      "  table = cls._concat_blocks(blocks, axis=0)\n"
     ]
    },
    {
     "data": {
      "application/vnd.jupyter.widget-view+json": {
       "model_id": "35bbf12797564af4b7c395568c503778",
       "version_major": 2,
       "version_minor": 0
      },
      "text/plain": [
       "  0%|          | 0/4000 [00:00<?, ?it/s]"
      ]
     },
     "metadata": {},
     "output_type": "display_data"
    },
    {
     "name": "stderr",
     "output_type": "stream",
     "text": [
      "C:\\Users\\ken20\\AppData\\Local\\Packages\\PythonSoftwareFoundation.Python.3.11_qbz5n2kfra8p0\\LocalCache\\local-packages\\Python311\\site-packages\\torch\\utils\\checkpoint.py:429: UserWarning: torch.utils.checkpoint: please pass in use_reentrant=True or use_reentrant=False explicitly. The default value of use_reentrant will be updated to be False in the future. To maintain current behavior, pass use_reentrant=True. It is recommended that you use use_reentrant=False. Refer to docs for more details on the differences between the two variants.\n",
      "  warnings.warn(\n",
      "`use_cache = True` is incompatible with gradient checkpointing. Setting `use_cache = False`...\n"
     ]
    },
    {
     "name": "stdout",
     "output_type": "stream",
     "text": [
      "{'loss': 4.209, 'learning_rate': 3.8e-07, 'epoch': 0.03}\n",
      "{'loss': 3.554, 'learning_rate': 8.8e-07, 'epoch': 0.06}\n",
      "{'loss': 2.6739, 'learning_rate': 1.3800000000000001e-06, 'epoch': 0.09}\n",
      "{'loss': 1.9438, 'learning_rate': 1.8800000000000002e-06, 'epoch': 0.11}\n",
      "{'loss': 1.4117, 'learning_rate': 2.38e-06, 'epoch': 0.14}\n",
      "{'loss': 1.1331, 'learning_rate': 2.88e-06, 'epoch': 0.17}\n",
      "{'loss': 1.1045, 'learning_rate': 3.3800000000000007e-06, 'epoch': 0.2}\n",
      "{'loss': 1.0037, 'learning_rate': 3.88e-06, 'epoch': 0.23}\n",
      "{'loss': 0.9848, 'learning_rate': 4.38e-06, 'epoch': 0.26}\n",
      "{'loss': 0.9742, 'learning_rate': 4.880000000000001e-06, 'epoch': 0.29}\n",
      "{'loss': 0.9018, 'learning_rate': 5.380000000000001e-06, 'epoch': 0.31}\n",
      "{'loss': 0.9557, 'learning_rate': 5.8800000000000005e-06, 'epoch': 0.34}\n",
      "{'loss': 0.9333, 'learning_rate': 6.380000000000001e-06, 'epoch': 0.37}\n",
      "{'loss': 0.8688, 'learning_rate': 6.88e-06, 'epoch': 0.4}\n",
      "{'loss': 0.8428, 'learning_rate': 7.3800000000000005e-06, 'epoch': 0.43}\n",
      "{'loss': 0.8276, 'learning_rate': 7.88e-06, 'epoch': 0.46}\n",
      "{'loss': 0.8082, 'learning_rate': 8.380000000000001e-06, 'epoch': 0.49}\n",
      "{'loss': 0.8474, 'learning_rate': 8.880000000000001e-06, 'epoch': 0.51}\n",
      "{'loss': 0.807, 'learning_rate': 9.38e-06, 'epoch': 0.54}\n",
      "{'loss': 0.7747, 'learning_rate': 9.88e-06, 'epoch': 0.57}\n",
      "{'loss': 0.7788, 'learning_rate': 9.945714285714286e-06, 'epoch': 0.6}\n",
      "{'loss': 0.7758, 'learning_rate': 9.874285714285715e-06, 'epoch': 0.63}\n",
      "{'loss': 0.7571, 'learning_rate': 9.802857142857144e-06, 'epoch': 0.66}\n",
      "{'loss': 0.7266, 'learning_rate': 9.731428571428573e-06, 'epoch': 0.68}\n",
      "{'loss': 0.7677, 'learning_rate': 9.66e-06, 'epoch': 0.71}\n",
      "{'loss': 0.74, 'learning_rate': 9.58857142857143e-06, 'epoch': 0.74}\n",
      "{'loss': 0.7091, 'learning_rate': 9.517142857142859e-06, 'epoch': 0.77}\n",
      "{'loss': 0.7151, 'learning_rate': 9.445714285714288e-06, 'epoch': 0.8}\n",
      "{'loss': 0.6888, 'learning_rate': 9.374285714285715e-06, 'epoch': 0.83}\n",
      "{'loss': 0.7177, 'learning_rate': 9.302857142857144e-06, 'epoch': 0.86}\n",
      "{'loss': 0.6511, 'learning_rate': 9.231428571428573e-06, 'epoch': 0.88}\n",
      "{'loss': 0.7312, 'learning_rate': 9.16e-06, 'epoch': 0.91}\n",
      "{'loss': 0.7342, 'learning_rate': 9.08857142857143e-06, 'epoch': 0.94}\n",
      "{'loss': 0.6533, 'learning_rate': 9.017142857142858e-06, 'epoch': 0.97}\n",
      "{'loss': 0.6878, 'learning_rate': 8.945714285714286e-06, 'epoch': 1.0}\n",
      "{'loss': 0.5457, 'learning_rate': 8.874285714285715e-06, 'epoch': 1.03}\n",
      "{'loss': 0.5984, 'learning_rate': 8.802857142857144e-06, 'epoch': 1.06}\n",
      "{'loss': 0.553, 'learning_rate': 8.731428571428571e-06, 'epoch': 1.08}\n",
      "{'loss': 0.5926, 'learning_rate': 8.66e-06, 'epoch': 1.11}\n",
      "{'loss': 0.5815, 'learning_rate': 8.588571428571429e-06, 'epoch': 1.14}\n"
     ]
    },
    {
     "data": {
      "application/vnd.jupyter.widget-view+json": {
       "model_id": "7cc2416e01ab4d0d94c4b128b03a8d53",
       "version_major": 2,
       "version_minor": 0
      },
      "text/plain": [
       "  0%|          | 0/63 [00:00<?, ?it/s]"
      ]
     },
     "metadata": {},
     "output_type": "display_data"
    },
    {
     "name": "stdout",
     "output_type": "stream",
     "text": [
      "{'eval_loss': 0.6552032232284546, 'eval_wer': 104.4, 'eval_runtime': 112.9074, 'eval_samples_per_second': 4.428, 'eval_steps_per_second': 0.558, 'epoch': 1.14}\n"
     ]
    },
    {
     "name": "stderr",
     "output_type": "stream",
     "text": [
      "C:\\Users\\ken20\\AppData\\Local\\Packages\\PythonSoftwareFoundation.Python.3.11_qbz5n2kfra8p0\\LocalCache\\local-packages\\Python311\\site-packages\\torch\\utils\\checkpoint.py:429: UserWarning: torch.utils.checkpoint: please pass in use_reentrant=True or use_reentrant=False explicitly. The default value of use_reentrant will be updated to be False in the future. To maintain current behavior, pass use_reentrant=True. It is recommended that you use use_reentrant=False. Refer to docs for more details on the differences between the two variants.\n",
      "  warnings.warn(\n"
     ]
    },
    {
     "name": "stdout",
     "output_type": "stream",
     "text": [
      "{'loss': 0.5999, 'learning_rate': 8.517142857142858e-06, 'epoch': 1.17}\n",
      "{'loss': 0.557, 'learning_rate': 8.445714285714285e-06, 'epoch': 1.2}\n",
      "{'loss': 0.5567, 'learning_rate': 8.374285714285714e-06, 'epoch': 1.23}\n",
      "{'loss': 0.5427, 'learning_rate': 8.302857142857143e-06, 'epoch': 1.26}\n",
      "{'loss': 0.5579, 'learning_rate': 8.231428571428572e-06, 'epoch': 1.28}\n",
      "{'loss': 0.581, 'learning_rate': 8.16e-06, 'epoch': 1.31}\n",
      "{'loss': 0.5475, 'learning_rate': 8.088571428571429e-06, 'epoch': 1.34}\n",
      "{'loss': 0.5207, 'learning_rate': 8.017142857142858e-06, 'epoch': 1.37}\n",
      "{'loss': 0.5239, 'learning_rate': 7.945714285714287e-06, 'epoch': 1.4}\n",
      "{'loss': 0.5813, 'learning_rate': 7.874285714285716e-06, 'epoch': 1.43}\n",
      "{'loss': 0.5662, 'learning_rate': 7.802857142857143e-06, 'epoch': 1.46}\n",
      "{'loss': 0.5664, 'learning_rate': 7.731428571428572e-06, 'epoch': 1.48}\n",
      "{'loss': 0.533, 'learning_rate': 7.660000000000001e-06, 'epoch': 1.51}\n",
      "{'loss': 0.5288, 'learning_rate': 7.588571428571429e-06, 'epoch': 1.54}\n",
      "{'loss': 0.5216, 'learning_rate': 7.5171428571428575e-06, 'epoch': 1.57}\n",
      "{'loss': 0.5579, 'learning_rate': 7.445714285714286e-06, 'epoch': 1.6}\n",
      "{'loss': 0.5079, 'learning_rate': 7.374285714285715e-06, 'epoch': 1.63}\n",
      "{'loss': 0.5137, 'learning_rate': 7.302857142857144e-06, 'epoch': 1.66}\n",
      "{'loss': 0.5177, 'learning_rate': 7.231428571428573e-06, 'epoch': 1.68}\n",
      "{'loss': 0.5388, 'learning_rate': 7.16e-06, 'epoch': 1.71}\n",
      "{'loss': 0.5439, 'learning_rate': 7.088571428571429e-06, 'epoch': 1.74}\n",
      "{'loss': 0.4852, 'learning_rate': 7.017142857142858e-06, 'epoch': 1.77}\n",
      "{'loss': 0.5414, 'learning_rate': 6.945714285714287e-06, 'epoch': 1.8}\n",
      "{'loss': 0.509, 'learning_rate': 6.874285714285714e-06, 'epoch': 1.83}\n",
      "{'loss': 0.5205, 'learning_rate': 6.8028571428571434e-06, 'epoch': 1.86}\n",
      "{'loss': 0.5178, 'learning_rate': 6.7314285714285724e-06, 'epoch': 1.88}\n",
      "{'loss': 0.517, 'learning_rate': 6.660000000000001e-06, 'epoch': 1.91}\n",
      "{'loss': 0.5296, 'learning_rate': 6.588571428571429e-06, 'epoch': 1.94}\n",
      "{'loss': 0.5199, 'learning_rate': 6.517142857142858e-06, 'epoch': 1.97}\n",
      "{'loss': 0.4872, 'learning_rate': 6.445714285714286e-06, 'epoch': 2.0}\n",
      "{'loss': 0.431, 'learning_rate': 6.374285714285715e-06, 'epoch': 2.03}\n",
      "{'loss': 0.4256, 'learning_rate': 6.302857142857144e-06, 'epoch': 2.05}\n",
      "{'loss': 0.416, 'learning_rate': 6.231428571428571e-06, 'epoch': 2.08}\n",
      "{'loss': 0.3963, 'learning_rate': 6.16e-06, 'epoch': 2.11}\n",
      "{'loss': 0.3827, 'learning_rate': 6.088571428571429e-06, 'epoch': 2.14}\n",
      "{'loss': 0.4283, 'learning_rate': 6.017142857142858e-06, 'epoch': 2.17}\n",
      "{'loss': 0.4023, 'learning_rate': 5.945714285714286e-06, 'epoch': 2.2}\n",
      "{'loss': 0.4222, 'learning_rate': 5.874285714285715e-06, 'epoch': 2.23}\n",
      "{'loss': 0.4243, 'learning_rate': 5.802857142857144e-06, 'epoch': 2.25}\n",
      "{'loss': 0.4319, 'learning_rate': 5.731428571428572e-06, 'epoch': 2.28}\n"
     ]
    },
    {
     "data": {
      "application/vnd.jupyter.widget-view+json": {
       "model_id": "d77f99d43f9a4905bc6f7d834f867cce",
       "version_major": 2,
       "version_minor": 0
      },
      "text/plain": [
       "  0%|          | 0/63 [00:00<?, ?it/s]"
      ]
     },
     "metadata": {},
     "output_type": "display_data"
    },
    {
     "name": "stdout",
     "output_type": "stream",
     "text": [
      "{'eval_loss': 0.5801136493682861, 'eval_wer': 174.4, 'eval_runtime': 116.6518, 'eval_samples_per_second': 4.286, 'eval_steps_per_second': 0.54, 'epoch': 2.28}\n"
     ]
    },
    {
     "name": "stderr",
     "output_type": "stream",
     "text": [
      "C:\\Users\\ken20\\AppData\\Local\\Packages\\PythonSoftwareFoundation.Python.3.11_qbz5n2kfra8p0\\LocalCache\\local-packages\\Python311\\site-packages\\torch\\utils\\checkpoint.py:429: UserWarning: torch.utils.checkpoint: please pass in use_reentrant=True or use_reentrant=False explicitly. The default value of use_reentrant will be updated to be False in the future. To maintain current behavior, pass use_reentrant=True. It is recommended that you use use_reentrant=False. Refer to docs for more details on the differences between the two variants.\n",
      "  warnings.warn(\n"
     ]
    },
    {
     "name": "stdout",
     "output_type": "stream",
     "text": [
      "{'loss': 0.4005, 'learning_rate': 5.66e-06, 'epoch': 2.31}\n",
      "{'loss': 0.4181, 'learning_rate': 5.588571428571429e-06, 'epoch': 2.34}\n",
      "{'loss': 0.432, 'learning_rate': 5.517142857142857e-06, 'epoch': 2.37}\n",
      "{'loss': 0.4091, 'learning_rate': 5.445714285714286e-06, 'epoch': 2.4}\n",
      "{'loss': 0.4048, 'learning_rate': 5.374285714285715e-06, 'epoch': 2.43}\n",
      "{'loss': 0.3819, 'learning_rate': 5.3028571428571425e-06, 'epoch': 2.45}\n",
      "{'loss': 0.4051, 'learning_rate': 5.2314285714285716e-06, 'epoch': 2.48}\n",
      "{'loss': 0.3937, 'learning_rate': 5.1600000000000006e-06, 'epoch': 2.51}\n",
      "{'loss': 0.3967, 'learning_rate': 5.08857142857143e-06, 'epoch': 2.54}\n",
      "{'loss': 0.4108, 'learning_rate': 5.017142857142857e-06, 'epoch': 2.57}\n",
      "{'loss': 0.3705, 'learning_rate': 4.945714285714286e-06, 'epoch': 2.6}\n",
      "{'loss': 0.4054, 'learning_rate': 4.874285714285715e-06, 'epoch': 2.63}\n",
      "{'loss': 0.3838, 'learning_rate': 4.802857142857143e-06, 'epoch': 2.65}\n",
      "{'loss': 0.3902, 'learning_rate': 4.731428571428572e-06, 'epoch': 2.68}\n",
      "{'loss': 0.4161, 'learning_rate': 4.66e-06, 'epoch': 2.71}\n",
      "{'loss': 0.3739, 'learning_rate': 4.588571428571429e-06, 'epoch': 2.74}\n",
      "{'loss': 0.4346, 'learning_rate': 4.5171428571428575e-06, 'epoch': 2.77}\n",
      "{'loss': 0.4061, 'learning_rate': 4.445714285714286e-06, 'epoch': 2.8}\n",
      "{'loss': 0.4044, 'learning_rate': 4.374285714285715e-06, 'epoch': 2.83}\n",
      "{'loss': 0.3859, 'learning_rate': 4.302857142857143e-06, 'epoch': 2.85}\n",
      "{'loss': 0.4272, 'learning_rate': 4.231428571428572e-06, 'epoch': 2.88}\n",
      "{'loss': 0.3874, 'learning_rate': 4.16e-06, 'epoch': 2.91}\n",
      "{'loss': 0.403, 'learning_rate': 4.088571428571429e-06, 'epoch': 2.94}\n",
      "{'loss': 0.4518, 'learning_rate': 4.017142857142857e-06, 'epoch': 2.97}\n",
      "{'loss': 0.4138, 'learning_rate': 3.945714285714286e-06, 'epoch': 3.0}\n",
      "{'loss': 0.3327, 'learning_rate': 3.874285714285715e-06, 'epoch': 3.03}\n",
      "{'loss': 0.3132, 'learning_rate': 3.802857142857143e-06, 'epoch': 3.05}\n",
      "{'loss': 0.3191, 'learning_rate': 3.731428571428572e-06, 'epoch': 3.08}\n",
      "{'loss': 0.3184, 'learning_rate': 3.66e-06, 'epoch': 3.11}\n",
      "{'loss': 0.3336, 'learning_rate': 3.588571428571429e-06, 'epoch': 3.14}\n",
      "{'loss': 0.3227, 'learning_rate': 3.5171428571428573e-06, 'epoch': 3.17}\n",
      "{'loss': 0.3462, 'learning_rate': 3.4457142857142863e-06, 'epoch': 3.2}\n",
      "{'loss': 0.3173, 'learning_rate': 3.3742857142857145e-06, 'epoch': 3.22}\n",
      "{'loss': 0.3478, 'learning_rate': 3.302857142857143e-06, 'epoch': 3.25}\n",
      "{'loss': 0.3221, 'learning_rate': 3.2314285714285716e-06, 'epoch': 3.28}\n",
      "{'loss': 0.3138, 'learning_rate': 3.1600000000000002e-06, 'epoch': 3.31}\n",
      "{'loss': 0.3312, 'learning_rate': 3.0885714285714284e-06, 'epoch': 3.34}\n",
      "{'loss': 0.3217, 'learning_rate': 3.0171428571428574e-06, 'epoch': 3.37}\n",
      "{'loss': 0.3164, 'learning_rate': 2.945714285714286e-06, 'epoch': 3.4}\n",
      "{'loss': 0.3124, 'learning_rate': 2.8742857142857146e-06, 'epoch': 3.42}\n"
     ]
    },
    {
     "data": {
      "application/vnd.jupyter.widget-view+json": {
       "model_id": "1f5ea1b15697484a820c51bd66426b89",
       "version_major": 2,
       "version_minor": 0
      },
      "text/plain": [
       "  0%|          | 0/63 [00:00<?, ?it/s]"
      ]
     },
     "metadata": {},
     "output_type": "display_data"
    },
    {
     "name": "stdout",
     "output_type": "stream",
     "text": [
      "{'eval_loss': 0.5576956272125244, 'eval_wer': 122.6, 'eval_runtime': 115.6663, 'eval_samples_per_second': 4.323, 'eval_steps_per_second': 0.545, 'epoch': 3.42}\n"
     ]
    },
    {
     "name": "stderr",
     "output_type": "stream",
     "text": [
      "C:\\Users\\ken20\\AppData\\Local\\Packages\\PythonSoftwareFoundation.Python.3.11_qbz5n2kfra8p0\\LocalCache\\local-packages\\Python311\\site-packages\\torch\\utils\\checkpoint.py:429: UserWarning: torch.utils.checkpoint: please pass in use_reentrant=True or use_reentrant=False explicitly. The default value of use_reentrant will be updated to be False in the future. To maintain current behavior, pass use_reentrant=True. It is recommended that you use use_reentrant=False. Refer to docs for more details on the differences between the two variants.\n",
      "  warnings.warn(\n"
     ]
    },
    {
     "name": "stdout",
     "output_type": "stream",
     "text": [
      "{'loss': 0.3564, 'learning_rate': 2.802857142857143e-06, 'epoch': 3.45}\n",
      "{'loss': 0.3312, 'learning_rate': 2.7314285714285714e-06, 'epoch': 3.48}\n",
      "{'loss': 0.317, 'learning_rate': 2.6600000000000004e-06, 'epoch': 3.51}\n",
      "{'loss': 0.3392, 'learning_rate': 2.5885714285714285e-06, 'epoch': 3.54}\n",
      "{'loss': 0.3325, 'learning_rate': 2.5171428571428575e-06, 'epoch': 3.57}\n",
      "{'loss': 0.3407, 'learning_rate': 2.445714285714286e-06, 'epoch': 3.6}\n",
      "{'loss': 0.3262, 'learning_rate': 2.3742857142857147e-06, 'epoch': 3.62}\n",
      "{'loss': 0.3469, 'learning_rate': 2.302857142857143e-06, 'epoch': 3.65}\n",
      "{'loss': 0.3523, 'learning_rate': 2.2314285714285715e-06, 'epoch': 3.68}\n",
      "{'loss': 0.3286, 'learning_rate': 2.16e-06, 'epoch': 3.71}\n",
      "{'loss': 0.3499, 'learning_rate': 2.0885714285714287e-06, 'epoch': 3.74}\n",
      "{'loss': 0.3294, 'learning_rate': 2.0171428571428573e-06, 'epoch': 3.77}\n",
      "{'loss': 0.3374, 'learning_rate': 1.945714285714286e-06, 'epoch': 3.8}\n",
      "{'loss': 0.333, 'learning_rate': 1.8742857142857142e-06, 'epoch': 3.82}\n",
      "{'loss': 0.3136, 'learning_rate': 1.8028571428571432e-06, 'epoch': 3.85}\n",
      "{'loss': 0.3596, 'learning_rate': 1.7314285714285716e-06, 'epoch': 3.88}\n",
      "{'loss': 0.3258, 'learning_rate': 1.6600000000000002e-06, 'epoch': 3.91}\n",
      "{'loss': 0.3268, 'learning_rate': 1.5885714285714288e-06, 'epoch': 3.94}\n",
      "{'loss': 0.3635, 'learning_rate': 1.5171428571428574e-06, 'epoch': 3.97}\n",
      "{'loss': 0.2983, 'learning_rate': 1.4457142857142858e-06, 'epoch': 4.0}\n",
      "{'loss': 0.3074, 'learning_rate': 1.3742857142857143e-06, 'epoch': 4.02}\n",
      "{'loss': 0.2929, 'learning_rate': 1.302857142857143e-06, 'epoch': 4.05}\n",
      "{'loss': 0.2888, 'learning_rate': 1.2314285714285715e-06, 'epoch': 4.08}\n",
      "{'loss': 0.266, 'learning_rate': 1.1600000000000001e-06, 'epoch': 4.11}\n",
      "{'loss': 0.3141, 'learning_rate': 1.0885714285714287e-06, 'epoch': 4.14}\n",
      "{'loss': 0.2691, 'learning_rate': 1.0171428571428573e-06, 'epoch': 4.17}\n",
      "{'loss': 0.2769, 'learning_rate': 9.457142857142858e-07, 'epoch': 4.2}\n",
      "{'loss': 0.2996, 'learning_rate': 8.742857142857144e-07, 'epoch': 4.22}\n",
      "{'loss': 0.299, 'learning_rate': 8.028571428571429e-07, 'epoch': 4.25}\n",
      "{'loss': 0.2962, 'learning_rate': 7.314285714285715e-07, 'epoch': 4.28}\n",
      "{'loss': 0.2776, 'learning_rate': 6.6e-07, 'epoch': 4.31}\n",
      "{'loss': 0.284, 'learning_rate': 5.885714285714286e-07, 'epoch': 4.34}\n",
      "{'loss': 0.2974, 'learning_rate': 5.171428571428572e-07, 'epoch': 4.37}\n",
      "{'loss': 0.2838, 'learning_rate': 4.457142857142858e-07, 'epoch': 4.39}\n",
      "{'loss': 0.2846, 'learning_rate': 3.7428571428571434e-07, 'epoch': 4.42}\n",
      "{'loss': 0.2926, 'learning_rate': 3.028571428571429e-07, 'epoch': 4.45}\n",
      "{'loss': 0.2752, 'learning_rate': 2.3142857142857144e-07, 'epoch': 4.48}\n",
      "{'loss': 0.2911, 'learning_rate': 1.6e-07, 'epoch': 4.51}\n",
      "{'loss': 0.3176, 'learning_rate': 8.857142857142858e-08, 'epoch': 4.54}\n",
      "{'loss': 0.2756, 'learning_rate': 1.7142857142857143e-08, 'epoch': 4.57}\n"
     ]
    },
    {
     "data": {
      "application/vnd.jupyter.widget-view+json": {
       "model_id": "cb16f3b745c841c49db9853d9cc160a9",
       "version_major": 2,
       "version_minor": 0
      },
      "text/plain": [
       "  0%|          | 0/63 [00:00<?, ?it/s]"
      ]
     },
     "metadata": {},
     "output_type": "display_data"
    },
    {
     "name": "stdout",
     "output_type": "stream",
     "text": [
      "{'eval_loss': 0.5530463457107544, 'eval_wer': 118.6, 'eval_runtime': 116.7723, 'eval_samples_per_second': 4.282, 'eval_steps_per_second': 0.54, 'epoch': 4.57}\n"
     ]
    },
    {
     "name": "stderr",
     "output_type": "stream",
     "text": [
      "There were missing keys in the checkpoint model loaded: ['proj_out.weight'].\n"
     ]
    },
    {
     "name": "stdout",
     "output_type": "stream",
     "text": [
      "{'train_runtime': 10374.2966, 'train_samples_per_second': 6.169, 'train_steps_per_second': 0.386, 'train_loss': 0.556204157590866, 'epoch': 4.57}\n"
     ]
    }
   ],
   "source": [
    "fineTuneWhisper(0)"
   ]
  },
  {
   "cell_type": "code",
   "execution_count": 4,
   "metadata": {},
   "outputs": [
    {
     "name": "stderr",
     "output_type": "stream",
     "text": [
      "C:\\Users\\ken20\\AppData\\Local\\Packages\\PythonSoftwareFoundation.Python.3.11_qbz5n2kfra8p0\\LocalCache\\local-packages\\Python311\\site-packages\\datasets\\table.py:1421: FutureWarning: promote has been superseded by mode='default'.\n",
      "  table = cls._concat_blocks(blocks, axis=0)\n"
     ]
    },
    {
     "data": {
      "application/vnd.jupyter.widget-view+json": {
       "model_id": "311cd2abb1d8459ca736bf02a59e0e9c",
       "version_major": 2,
       "version_minor": 0
      },
      "text/plain": [
       "  0%|          | 0/4000 [00:00<?, ?it/s]"
      ]
     },
     "metadata": {},
     "output_type": "display_data"
    },
    {
     "name": "stderr",
     "output_type": "stream",
     "text": [
      "C:\\Users\\ken20\\AppData\\Local\\Packages\\PythonSoftwareFoundation.Python.3.11_qbz5n2kfra8p0\\LocalCache\\local-packages\\Python311\\site-packages\\torch\\utils\\checkpoint.py:429: UserWarning: torch.utils.checkpoint: please pass in use_reentrant=True or use_reentrant=False explicitly. The default value of use_reentrant will be updated to be False in the future. To maintain current behavior, pass use_reentrant=True. It is recommended that you use use_reentrant=False. Refer to docs for more details on the differences between the two variants.\n",
      "  warnings.warn(\n",
      "`use_cache = True` is incompatible with gradient checkpointing. Setting `use_cache = False`...\n"
     ]
    },
    {
     "name": "stdout",
     "output_type": "stream",
     "text": [
      "{'loss': 2.8242, 'learning_rate': 4.4e-07, 'epoch': 0.03}\n",
      "{'loss': 2.5122, 'learning_rate': 9.400000000000001e-07, 'epoch': 0.06}\n",
      "{'loss': 1.6986, 'learning_rate': 1.44e-06, 'epoch': 0.09}\n",
      "{'loss': 1.0602, 'learning_rate': 1.94e-06, 'epoch': 0.11}\n",
      "{'loss': 0.8794, 'learning_rate': 2.4400000000000004e-06, 'epoch': 0.14}\n",
      "{'loss': 0.7725, 'learning_rate': 2.9400000000000002e-06, 'epoch': 0.17}\n",
      "{'loss': 0.793, 'learning_rate': 3.44e-06, 'epoch': 0.2}\n",
      "{'loss': 0.7042, 'learning_rate': 3.94e-06, 'epoch': 0.23}\n",
      "{'loss': 0.6882, 'learning_rate': 4.440000000000001e-06, 'epoch': 0.26}\n",
      "{'loss': 0.7008, 'learning_rate': 4.94e-06, 'epoch': 0.29}\n",
      "{'loss': 0.64, 'learning_rate': 5.4400000000000004e-06, 'epoch': 0.31}\n",
      "{'loss': 0.6554, 'learning_rate': 5.94e-06, 'epoch': 0.34}\n",
      "{'loss': 0.6568, 'learning_rate': 6.440000000000001e-06, 'epoch': 0.37}\n",
      "{'loss': 0.6078, 'learning_rate': 6.9400000000000005e-06, 'epoch': 0.4}\n",
      "{'loss': 0.5922, 'learning_rate': 7.440000000000001e-06, 'epoch': 0.43}\n",
      "{'loss': 0.5826, 'learning_rate': 7.94e-06, 'epoch': 0.46}\n",
      "{'loss': 0.5702, 'learning_rate': 8.44e-06, 'epoch': 0.49}\n",
      "{'loss': 0.6071, 'learning_rate': 8.94e-06, 'epoch': 0.51}\n",
      "{'loss': 0.5777, 'learning_rate': 9.440000000000001e-06, 'epoch': 0.54}\n",
      "{'loss': 0.5706, 'learning_rate': 9.940000000000001e-06, 'epoch': 0.57}\n",
      "{'loss': 0.5576, 'learning_rate': 9.937142857142858e-06, 'epoch': 0.6}\n",
      "{'loss': 0.5665, 'learning_rate': 9.865714285714285e-06, 'epoch': 0.63}\n",
      "{'loss': 0.5424, 'learning_rate': 9.794285714285714e-06, 'epoch': 0.66}\n",
      "{'loss': 0.5087, 'learning_rate': 9.722857142857143e-06, 'epoch': 0.68}\n",
      "{'loss': 0.5602, 'learning_rate': 9.651428571428572e-06, 'epoch': 0.71}\n",
      "{'loss': 0.5199, 'learning_rate': 9.58e-06, 'epoch': 0.74}\n",
      "{'loss': 0.5302, 'learning_rate': 9.508571428571429e-06, 'epoch': 0.77}\n",
      "{'loss': 0.5256, 'learning_rate': 9.437142857142858e-06, 'epoch': 0.8}\n",
      "{'loss': 0.4911, 'learning_rate': 9.365714285714287e-06, 'epoch': 0.83}\n",
      "{'loss': 0.5154, 'learning_rate': 9.294285714285714e-06, 'epoch': 0.86}\n",
      "{'loss': 0.4673, 'learning_rate': 9.222857142857143e-06, 'epoch': 0.88}\n",
      "{'loss': 0.5416, 'learning_rate': 9.151428571428572e-06, 'epoch': 0.91}\n",
      "{'loss': 0.5359, 'learning_rate': 9.080000000000001e-06, 'epoch': 0.94}\n",
      "{'loss': 0.4713, 'learning_rate': 9.00857142857143e-06, 'epoch': 0.97}\n",
      "{'loss': 0.5131, 'learning_rate': 8.937142857142857e-06, 'epoch': 1.0}\n",
      "{'loss': 0.3934, 'learning_rate': 8.865714285714287e-06, 'epoch': 1.03}\n",
      "{'loss': 0.3869, 'learning_rate': 8.794285714285716e-06, 'epoch': 1.06}\n",
      "{'loss': 0.3661, 'learning_rate': 8.722857142857145e-06, 'epoch': 1.08}\n",
      "{'loss': 0.3778, 'learning_rate': 8.651428571428572e-06, 'epoch': 1.11}\n",
      "{'loss': 0.3742, 'learning_rate': 8.580000000000001e-06, 'epoch': 1.14}\n"
     ]
    },
    {
     "data": {
      "application/vnd.jupyter.widget-view+json": {
       "model_id": "7b817c690eca47fdb608da3504ff925c",
       "version_major": 2,
       "version_minor": 0
      },
      "text/plain": [
       "  0%|          | 0/125 [00:00<?, ?it/s]"
      ]
     },
     "metadata": {},
     "output_type": "display_data"
    },
    {
     "name": "stdout",
     "output_type": "stream",
     "text": [
      "{'eval_loss': 0.4899166226387024, 'eval_wer': 77.8, 'eval_runtime': 170.1606, 'eval_samples_per_second': 2.938, 'eval_steps_per_second': 0.735, 'epoch': 1.14}\n"
     ]
    },
    {
     "name": "stderr",
     "output_type": "stream",
     "text": [
      "C:\\Users\\ken20\\AppData\\Local\\Packages\\PythonSoftwareFoundation.Python.3.11_qbz5n2kfra8p0\\LocalCache\\local-packages\\Python311\\site-packages\\torch\\utils\\checkpoint.py:429: UserWarning: torch.utils.checkpoint: please pass in use_reentrant=True or use_reentrant=False explicitly. The default value of use_reentrant will be updated to be False in the future. To maintain current behavior, pass use_reentrant=True. It is recommended that you use use_reentrant=False. Refer to docs for more details on the differences between the two variants.\n",
      "  warnings.warn(\n"
     ]
    },
    {
     "name": "stdout",
     "output_type": "stream",
     "text": [
      "{'loss': 0.41, 'learning_rate': 8.50857142857143e-06, 'epoch': 1.17}\n",
      "{'loss': 0.3611, 'learning_rate': 8.437142857142859e-06, 'epoch': 1.2}\n",
      "{'loss': 0.3858, 'learning_rate': 8.365714285714286e-06, 'epoch': 1.23}\n",
      "{'loss': 0.3412, 'learning_rate': 8.294285714285715e-06, 'epoch': 1.26}\n",
      "{'loss': 0.3442, 'learning_rate': 8.222857142857144e-06, 'epoch': 1.28}\n",
      "{'loss': 0.3907, 'learning_rate': 8.151428571428572e-06, 'epoch': 1.31}\n",
      "{'loss': 0.3647, 'learning_rate': 8.08e-06, 'epoch': 1.34}\n",
      "{'loss': 0.383, 'learning_rate': 8.00857142857143e-06, 'epoch': 1.37}\n",
      "{'loss': 0.4249, 'learning_rate': 7.937142857142857e-06, 'epoch': 1.4}\n",
      "{'loss': 0.3863, 'learning_rate': 7.865714285714286e-06, 'epoch': 1.43}\n",
      "{'loss': 0.3446, 'learning_rate': 7.794285714285715e-06, 'epoch': 1.46}\n",
      "{'loss': 0.4014, 'learning_rate': 7.722857142857142e-06, 'epoch': 1.48}\n",
      "{'loss': 0.3406, 'learning_rate': 7.651428571428571e-06, 'epoch': 1.51}\n",
      "{'loss': 0.4027, 'learning_rate': 7.58e-06, 'epoch': 1.54}\n",
      "{'loss': 0.3765, 'learning_rate': 7.508571428571429e-06, 'epoch': 1.57}\n",
      "{'loss': 0.3598, 'learning_rate': 7.4371428571428575e-06, 'epoch': 1.6}\n",
      "{'loss': 0.3607, 'learning_rate': 7.365714285714286e-06, 'epoch': 1.63}\n",
      "{'loss': 0.3978, 'learning_rate': 7.294285714285715e-06, 'epoch': 1.66}\n",
      "{'loss': 0.3654, 'learning_rate': 7.222857142857144e-06, 'epoch': 1.68}\n",
      "{'loss': 0.3603, 'learning_rate': 7.151428571428573e-06, 'epoch': 1.71}\n",
      "{'loss': 0.3503, 'learning_rate': 7.08e-06, 'epoch': 1.74}\n",
      "{'loss': 0.3589, 'learning_rate': 7.008571428571429e-06, 'epoch': 1.77}\n",
      "{'loss': 0.3399, 'learning_rate': 6.937142857142858e-06, 'epoch': 1.8}\n",
      "{'loss': 0.3423, 'learning_rate': 6.865714285714287e-06, 'epoch': 1.83}\n",
      "{'loss': 0.3584, 'learning_rate': 6.794285714285714e-06, 'epoch': 1.86}\n",
      "{'loss': 0.3292, 'learning_rate': 6.722857142857143e-06, 'epoch': 1.88}\n",
      "{'loss': 0.348, 'learning_rate': 6.651428571428572e-06, 'epoch': 1.91}\n",
      "{'loss': 0.3776, 'learning_rate': 6.5800000000000005e-06, 'epoch': 1.94}\n",
      "{'loss': 0.3752, 'learning_rate': 6.5085714285714295e-06, 'epoch': 1.97}\n",
      "{'loss': 0.3738, 'learning_rate': 6.437142857142858e-06, 'epoch': 2.0}\n",
      "{'loss': 0.2325, 'learning_rate': 6.365714285714286e-06, 'epoch': 2.03}\n",
      "{'loss': 0.2291, 'learning_rate': 6.294285714285715e-06, 'epoch': 2.05}\n",
      "{'loss': 0.2507, 'learning_rate': 6.222857142857144e-06, 'epoch': 2.08}\n",
      "{'loss': 0.2676, 'learning_rate': 6.151428571428571e-06, 'epoch': 2.11}\n",
      "{'loss': 0.2374, 'learning_rate': 6.08e-06, 'epoch': 2.14}\n",
      "{'loss': 0.237, 'learning_rate': 6.008571428571429e-06, 'epoch': 2.17}\n",
      "{'loss': 0.2655, 'learning_rate': 5.937142857142858e-06, 'epoch': 2.2}\n",
      "{'loss': 0.2568, 'learning_rate': 5.865714285714286e-06, 'epoch': 2.23}\n",
      "{'loss': 0.2475, 'learning_rate': 5.794285714285715e-06, 'epoch': 2.25}\n",
      "{'loss': 0.2477, 'learning_rate': 5.722857142857144e-06, 'epoch': 2.28}\n"
     ]
    },
    {
     "data": {
      "application/vnd.jupyter.widget-view+json": {
       "model_id": "85f96eb5776b4c88aa53b558dbcf7419",
       "version_major": 2,
       "version_minor": 0
      },
      "text/plain": [
       "  0%|          | 0/125 [00:00<?, ?it/s]"
      ]
     },
     "metadata": {},
     "output_type": "display_data"
    },
    {
     "name": "stdout",
     "output_type": "stream",
     "text": [
      "{'eval_loss': 0.4471377432346344, 'eval_wer': 74.0, 'eval_runtime': 172.4616, 'eval_samples_per_second': 2.899, 'eval_steps_per_second': 0.725, 'epoch': 2.28}\n"
     ]
    },
    {
     "name": "stderr",
     "output_type": "stream",
     "text": [
      "C:\\Users\\ken20\\AppData\\Local\\Packages\\PythonSoftwareFoundation.Python.3.11_qbz5n2kfra8p0\\LocalCache\\local-packages\\Python311\\site-packages\\torch\\utils\\checkpoint.py:429: UserWarning: torch.utils.checkpoint: please pass in use_reentrant=True or use_reentrant=False explicitly. The default value of use_reentrant will be updated to be False in the future. To maintain current behavior, pass use_reentrant=True. It is recommended that you use use_reentrant=False. Refer to docs for more details on the differences between the two variants.\n",
      "  warnings.warn(\n"
     ]
    },
    {
     "name": "stdout",
     "output_type": "stream",
     "text": [
      "{'loss': 0.2601, 'learning_rate': 5.651428571428572e-06, 'epoch': 2.31}\n",
      "{'loss': 0.2461, 'learning_rate': 5.580000000000001e-06, 'epoch': 2.34}\n",
      "{'loss': 0.2078, 'learning_rate': 5.508571428571429e-06, 'epoch': 2.37}\n",
      "{'loss': 0.2523, 'learning_rate': 5.437142857142857e-06, 'epoch': 2.4}\n",
      "{'loss': 0.2512, 'learning_rate': 5.365714285714286e-06, 'epoch': 2.43}\n",
      "{'loss': 0.2517, 'learning_rate': 5.294285714285715e-06, 'epoch': 2.45}\n",
      "{'loss': 0.2412, 'learning_rate': 5.2228571428571425e-06, 'epoch': 2.48}\n",
      "{'loss': 0.2258, 'learning_rate': 5.1514285714285715e-06, 'epoch': 2.51}\n",
      "{'loss': 0.2521, 'learning_rate': 5.0800000000000005e-06, 'epoch': 2.54}\n",
      "{'loss': 0.251, 'learning_rate': 5.0085714285714295e-06, 'epoch': 2.57}\n",
      "{'loss': 0.2383, 'learning_rate': 4.937142857142858e-06, 'epoch': 2.6}\n",
      "{'loss': 0.2575, 'learning_rate': 4.865714285714287e-06, 'epoch': 2.63}\n",
      "{'loss': 0.2091, 'learning_rate': 4.794285714285715e-06, 'epoch': 2.65}\n",
      "{'loss': 0.2411, 'learning_rate': 4.722857142857144e-06, 'epoch': 2.68}\n",
      "{'loss': 0.2465, 'learning_rate': 4.651428571428572e-06, 'epoch': 2.71}\n",
      "{'loss': 0.2399, 'learning_rate': 4.58e-06, 'epoch': 2.74}\n",
      "{'loss': 0.2578, 'learning_rate': 4.508571428571429e-06, 'epoch': 2.77}\n",
      "{'loss': 0.2598, 'learning_rate': 4.437142857142857e-06, 'epoch': 2.8}\n",
      "{'loss': 0.2465, 'learning_rate': 4.3657142857142855e-06, 'epoch': 2.83}\n",
      "{'loss': 0.252, 'learning_rate': 4.2942857142857146e-06, 'epoch': 2.85}\n",
      "{'loss': 0.2434, 'learning_rate': 4.222857142857143e-06, 'epoch': 2.88}\n",
      "{'loss': 0.2566, 'learning_rate': 4.151428571428572e-06, 'epoch': 2.91}\n",
      "{'loss': 0.2325, 'learning_rate': 4.08e-06, 'epoch': 2.94}\n",
      "{'loss': 0.2328, 'learning_rate': 4.008571428571429e-06, 'epoch': 2.97}\n",
      "{'loss': 0.2465, 'learning_rate': 3.937142857142858e-06, 'epoch': 3.0}\n",
      "{'loss': 0.2017, 'learning_rate': 3.865714285714286e-06, 'epoch': 3.03}\n",
      "{'loss': 0.1575, 'learning_rate': 3.7942857142857147e-06, 'epoch': 3.05}\n",
      "{'loss': 0.1735, 'learning_rate': 3.722857142857143e-06, 'epoch': 3.08}\n",
      "{'loss': 0.1652, 'learning_rate': 3.651428571428572e-06, 'epoch': 3.11}\n",
      "{'loss': 0.1495, 'learning_rate': 3.58e-06, 'epoch': 3.14}\n",
      "{'loss': 0.1612, 'learning_rate': 3.508571428571429e-06, 'epoch': 3.17}\n",
      "{'loss': 0.1931, 'learning_rate': 3.437142857142857e-06, 'epoch': 3.2}\n",
      "{'loss': 0.1753, 'learning_rate': 3.3657142857142862e-06, 'epoch': 3.22}\n",
      "{'loss': 0.1715, 'learning_rate': 3.2942857142857144e-06, 'epoch': 3.25}\n",
      "{'loss': 0.1657, 'learning_rate': 3.222857142857143e-06, 'epoch': 3.28}\n",
      "{'loss': 0.1764, 'learning_rate': 3.151428571428572e-06, 'epoch': 3.31}\n",
      "{'loss': 0.1803, 'learning_rate': 3.08e-06, 'epoch': 3.34}\n",
      "{'loss': 0.172, 'learning_rate': 3.008571428571429e-06, 'epoch': 3.37}\n",
      "{'loss': 0.1827, 'learning_rate': 2.9371428571428573e-06, 'epoch': 3.4}\n",
      "{'loss': 0.1729, 'learning_rate': 2.865714285714286e-06, 'epoch': 3.42}\n"
     ]
    },
    {
     "data": {
      "application/vnd.jupyter.widget-view+json": {
       "model_id": "ef1c3d327c6647d885cb74d6acc5bf4b",
       "version_major": 2,
       "version_minor": 0
      },
      "text/plain": [
       "  0%|          | 0/125 [00:00<?, ?it/s]"
      ]
     },
     "metadata": {},
     "output_type": "display_data"
    },
    {
     "name": "stdout",
     "output_type": "stream",
     "text": [
      "{'eval_loss': 0.4314173460006714, 'eval_wer': 72.0, 'eval_runtime': 169.9836, 'eval_samples_per_second': 2.941, 'eval_steps_per_second': 0.735, 'epoch': 3.42}\n"
     ]
    },
    {
     "name": "stderr",
     "output_type": "stream",
     "text": [
      "C:\\Users\\ken20\\AppData\\Local\\Packages\\PythonSoftwareFoundation.Python.3.11_qbz5n2kfra8p0\\LocalCache\\local-packages\\Python311\\site-packages\\torch\\utils\\checkpoint.py:429: UserWarning: torch.utils.checkpoint: please pass in use_reentrant=True or use_reentrant=False explicitly. The default value of use_reentrant will be updated to be False in the future. To maintain current behavior, pass use_reentrant=True. It is recommended that you use use_reentrant=False. Refer to docs for more details on the differences between the two variants.\n",
      "  warnings.warn(\n"
     ]
    },
    {
     "name": "stdout",
     "output_type": "stream",
     "text": [
      "{'loss': 0.1918, 'learning_rate': 2.7942857142857145e-06, 'epoch': 3.45}\n",
      "{'loss': 0.1979, 'learning_rate': 2.722857142857143e-06, 'epoch': 3.48}\n",
      "{'loss': 0.1736, 'learning_rate': 2.6514285714285713e-06, 'epoch': 3.51}\n",
      "{'loss': 0.1722, 'learning_rate': 2.582857142857143e-06, 'epoch': 3.54}\n",
      "{'loss': 0.1842, 'learning_rate': 2.5114285714285718e-06, 'epoch': 3.57}\n",
      "{'loss': 0.1692, 'learning_rate': 2.4400000000000004e-06, 'epoch': 3.6}\n",
      "{'loss': 0.1721, 'learning_rate': 2.3685714285714285e-06, 'epoch': 3.62}\n",
      "{'loss': 0.1922, 'learning_rate': 2.297142857142857e-06, 'epoch': 3.65}\n",
      "{'loss': 0.1833, 'learning_rate': 2.2257142857142857e-06, 'epoch': 3.68}\n",
      "{'loss': 0.1873, 'learning_rate': 2.1542857142857147e-06, 'epoch': 3.71}\n",
      "{'loss': 0.1769, 'learning_rate': 2.0828571428571433e-06, 'epoch': 3.74}\n",
      "{'loss': 0.1535, 'learning_rate': 2.0114285714285715e-06, 'epoch': 3.77}\n",
      "{'loss': 0.1673, 'learning_rate': 1.94e-06, 'epoch': 3.8}\n",
      "{'loss': 0.1715, 'learning_rate': 1.8685714285714289e-06, 'epoch': 3.82}\n",
      "{'loss': 0.1771, 'learning_rate': 1.7971428571428572e-06, 'epoch': 3.85}\n",
      "{'loss': 0.1727, 'learning_rate': 1.7257142857142858e-06, 'epoch': 3.88}\n",
      "{'loss': 0.1516, 'learning_rate': 1.6542857142857144e-06, 'epoch': 3.91}\n",
      "{'loss': 0.1945, 'learning_rate': 1.582857142857143e-06, 'epoch': 3.94}\n",
      "{'loss': 0.1575, 'learning_rate': 1.5114285714285714e-06, 'epoch': 3.97}\n",
      "{'loss': 0.1754, 'learning_rate': 1.44e-06, 'epoch': 4.0}\n",
      "{'loss': 0.1339, 'learning_rate': 1.3685714285714286e-06, 'epoch': 4.02}\n",
      "{'loss': 0.1411, 'learning_rate': 1.2971428571428574e-06, 'epoch': 4.05}\n",
      "{'loss': 0.1435, 'learning_rate': 1.2257142857142857e-06, 'epoch': 4.08}\n",
      "{'loss': 0.1192, 'learning_rate': 1.1542857142857143e-06, 'epoch': 4.11}\n",
      "{'loss': 0.1334, 'learning_rate': 1.082857142857143e-06, 'epoch': 4.14}\n",
      "{'loss': 0.1448, 'learning_rate': 1.0114285714285715e-06, 'epoch': 4.17}\n",
      "{'loss': 0.1515, 'learning_rate': 9.400000000000001e-07, 'epoch': 4.2}\n",
      "{'loss': 0.145, 'learning_rate': 8.685714285714286e-07, 'epoch': 4.22}\n",
      "{'loss': 0.1454, 'learning_rate': 7.971428571428572e-07, 'epoch': 4.25}\n",
      "{'loss': 0.1244, 'learning_rate': 7.257142857142857e-07, 'epoch': 4.28}\n",
      "{'loss': 0.1365, 'learning_rate': 6.542857142857144e-07, 'epoch': 4.31}\n",
      "{'loss': 0.1447, 'learning_rate': 5.82857142857143e-07, 'epoch': 4.34}\n",
      "{'loss': 0.1303, 'learning_rate': 5.114285714285714e-07, 'epoch': 4.37}\n",
      "{'loss': 0.1289, 'learning_rate': 4.4e-07, 'epoch': 4.39}\n",
      "{'loss': 0.1372, 'learning_rate': 3.685714285714286e-07, 'epoch': 4.42}\n",
      "{'loss': 0.1338, 'learning_rate': 2.9714285714285715e-07, 'epoch': 4.45}\n",
      "{'loss': 0.1291, 'learning_rate': 2.2571428571428574e-07, 'epoch': 4.48}\n",
      "{'loss': 0.1322, 'learning_rate': 1.542857142857143e-07, 'epoch': 4.51}\n",
      "{'loss': 0.139, 'learning_rate': 8.285714285714285e-08, 'epoch': 4.54}\n",
      "{'loss': 0.1414, 'learning_rate': 1.142857142857143e-08, 'epoch': 4.57}\n"
     ]
    },
    {
     "data": {
      "application/vnd.jupyter.widget-view+json": {
       "model_id": "48f519f381a7486487cd3ff1153a9df4",
       "version_major": 2,
       "version_minor": 0
      },
      "text/plain": [
       "  0%|          | 0/125 [00:00<?, ?it/s]"
      ]
     },
     "metadata": {},
     "output_type": "display_data"
    },
    {
     "name": "stdout",
     "output_type": "stream",
     "text": [
      "{'eval_loss': 0.4306756556034088, 'eval_wer': 71.8, 'eval_runtime': 170.3945, 'eval_samples_per_second': 2.934, 'eval_steps_per_second': 0.734, 'epoch': 4.57}\n"
     ]
    },
    {
     "name": "stderr",
     "output_type": "stream",
     "text": [
      "There were missing keys in the checkpoint model loaded: ['proj_out.weight'].\n"
     ]
    },
    {
     "name": "stdout",
     "output_type": "stream",
     "text": [
      "{'train_runtime': 12435.0813, 'train_samples_per_second': 5.147, 'train_steps_per_second': 0.322, 'train_loss': 0.3557612931728363, 'epoch': 4.57}\n"
     ]
    }
   ],
   "source": [
    "fineTuneWhisper(1)"
   ]
  },
  {
   "cell_type": "code",
   "execution_count": 5,
   "metadata": {},
   "outputs": [
    {
     "name": "stderr",
     "output_type": "stream",
     "text": [
      "C:\\Users\\ken20\\AppData\\Local\\Packages\\PythonSoftwareFoundation.Python.3.11_qbz5n2kfra8p0\\LocalCache\\local-packages\\Python311\\site-packages\\datasets\\table.py:1421: FutureWarning: promote has been superseded by mode='default'.\n",
      "  table = cls._concat_blocks(blocks, axis=0)\n"
     ]
    },
    {
     "data": {
      "application/vnd.jupyter.widget-view+json": {
       "model_id": "604bc41705874fa0899298473c63dfc4",
       "version_major": 2,
       "version_minor": 0
      },
      "text/plain": [
       "  0%|          | 0/4000 [00:00<?, ?it/s]"
      ]
     },
     "metadata": {},
     "output_type": "display_data"
    },
    {
     "name": "stderr",
     "output_type": "stream",
     "text": [
      "C:\\Users\\ken20\\AppData\\Local\\Packages\\PythonSoftwareFoundation.Python.3.11_qbz5n2kfra8p0\\LocalCache\\local-packages\\Python311\\site-packages\\torch\\utils\\checkpoint.py:429: UserWarning: torch.utils.checkpoint: please pass in use_reentrant=True or use_reentrant=False explicitly. The default value of use_reentrant will be updated to be False in the future. To maintain current behavior, pass use_reentrant=True. It is recommended that you use use_reentrant=False. Refer to docs for more details on the differences between the two variants.\n",
      "  warnings.warn(\n",
      "`use_cache = True` is incompatible with gradient checkpointing. Setting `use_cache = False`...\n"
     ]
    },
    {
     "name": "stdout",
     "output_type": "stream",
     "text": [
      "{'loss': 4.1783, 'learning_rate': 4.4e-07, 'epoch': 0.03}\n",
      "{'loss': 3.138, 'learning_rate': 9.400000000000001e-07, 'epoch': 0.06}\n",
      "{'loss': 2.093, 'learning_rate': 1.44e-06, 'epoch': 0.09}\n",
      "{'loss': 1.1557, 'learning_rate': 1.94e-06, 'epoch': 0.11}\n",
      "{'loss': 0.8793, 'learning_rate': 2.4400000000000004e-06, 'epoch': 0.14}\n",
      "{'loss': 0.758, 'learning_rate': 2.9400000000000002e-06, 'epoch': 0.17}\n",
      "{'loss': 0.671, 'learning_rate': 3.44e-06, 'epoch': 0.2}\n",
      "{'loss': 0.5331, 'learning_rate': 3.94e-06, 'epoch': 0.23}\n",
      "{'loss': 0.4536, 'learning_rate': 4.440000000000001e-06, 'epoch': 0.26}\n",
      "{'loss': 0.441, 'learning_rate': 4.94e-06, 'epoch': 0.29}\n",
      "{'loss': 0.3923, 'learning_rate': 5.4400000000000004e-06, 'epoch': 0.31}\n",
      "{'loss': 0.4149, 'learning_rate': 5.94e-06, 'epoch': 0.34}\n",
      "{'loss': 0.4172, 'learning_rate': 6.440000000000001e-06, 'epoch': 0.37}\n",
      "{'loss': 0.3851, 'learning_rate': 6.9400000000000005e-06, 'epoch': 0.4}\n",
      "{'loss': 0.3922, 'learning_rate': 7.440000000000001e-06, 'epoch': 0.43}\n",
      "{'loss': 0.3724, 'learning_rate': 7.94e-06, 'epoch': 0.46}\n",
      "{'loss': 0.3739, 'learning_rate': 8.44e-06, 'epoch': 0.49}\n",
      "{'loss': 0.4093, 'learning_rate': 8.94e-06, 'epoch': 0.51}\n",
      "{'loss': 0.3766, 'learning_rate': 9.440000000000001e-06, 'epoch': 0.54}\n",
      "{'loss': 0.3542, 'learning_rate': 9.940000000000001e-06, 'epoch': 0.57}\n",
      "{'loss': 0.3758, 'learning_rate': 9.937142857142858e-06, 'epoch': 0.6}\n",
      "{'loss': 0.3799, 'learning_rate': 9.865714285714285e-06, 'epoch': 0.63}\n",
      "{'loss': 0.372, 'learning_rate': 9.794285714285714e-06, 'epoch': 0.66}\n",
      "{'loss': 0.3191, 'learning_rate': 9.722857142857143e-06, 'epoch': 0.68}\n",
      "{'loss': 0.398, 'learning_rate': 9.651428571428572e-06, 'epoch': 0.71}\n",
      "{'loss': 0.3499, 'learning_rate': 9.58e-06, 'epoch': 0.74}\n",
      "{'loss': 0.3427, 'learning_rate': 9.508571428571429e-06, 'epoch': 0.77}\n",
      "{'loss': 0.3485, 'learning_rate': 9.437142857142858e-06, 'epoch': 0.8}\n",
      "{'loss': 0.3322, 'learning_rate': 9.365714285714287e-06, 'epoch': 0.83}\n",
      "{'loss': 0.3468, 'learning_rate': 9.294285714285714e-06, 'epoch': 0.86}\n",
      "{'loss': 0.3123, 'learning_rate': 9.222857142857143e-06, 'epoch': 0.88}\n",
      "{'loss': 0.3597, 'learning_rate': 9.151428571428572e-06, 'epoch': 0.91}\n",
      "{'loss': 0.3678, 'learning_rate': 9.080000000000001e-06, 'epoch': 0.94}\n",
      "{'loss': 0.3281, 'learning_rate': 9.00857142857143e-06, 'epoch': 0.97}\n",
      "{'loss': 0.3422, 'learning_rate': 8.937142857142857e-06, 'epoch': 1.0}\n",
      "{'loss': 0.2016, 'learning_rate': 8.865714285714287e-06, 'epoch': 1.03}\n",
      "{'loss': 0.2022, 'learning_rate': 8.794285714285716e-06, 'epoch': 1.06}\n",
      "{'loss': 0.2098, 'learning_rate': 8.722857142857145e-06, 'epoch': 1.08}\n",
      "{'loss': 0.202, 'learning_rate': 8.651428571428572e-06, 'epoch': 1.11}\n",
      "{'loss': 0.2233, 'learning_rate': 8.580000000000001e-06, 'epoch': 1.14}\n"
     ]
    },
    {
     "data": {
      "application/vnd.jupyter.widget-view+json": {
       "model_id": "d56f29d88f7b46b4bfab57608b213644",
       "version_major": 2,
       "version_minor": 0
      },
      "text/plain": [
       "  0%|          | 0/250 [00:00<?, ?it/s]"
      ]
     },
     "metadata": {},
     "output_type": "display_data"
    },
    {
     "name": "stdout",
     "output_type": "stream",
     "text": [
      "{'eval_loss': 0.33686575293540955, 'eval_wer': 165.79999999999998, 'eval_runtime': 314.8013, 'eval_samples_per_second': 1.588, 'eval_steps_per_second': 0.794, 'epoch': 1.14}\n"
     ]
    },
    {
     "name": "stderr",
     "output_type": "stream",
     "text": [
      "C:\\Users\\ken20\\AppData\\Local\\Packages\\PythonSoftwareFoundation.Python.3.11_qbz5n2kfra8p0\\LocalCache\\local-packages\\Python311\\site-packages\\torch\\utils\\checkpoint.py:429: UserWarning: torch.utils.checkpoint: please pass in use_reentrant=True or use_reentrant=False explicitly. The default value of use_reentrant will be updated to be False in the future. To maintain current behavior, pass use_reentrant=True. It is recommended that you use use_reentrant=False. Refer to docs for more details on the differences between the two variants.\n",
      "  warnings.warn(\n"
     ]
    },
    {
     "name": "stdout",
     "output_type": "stream",
     "text": [
      "{'loss': 0.1845, 'learning_rate': 8.50857142857143e-06, 'epoch': 1.17}\n",
      "{'loss': 0.1954, 'learning_rate': 8.437142857142859e-06, 'epoch': 1.2}\n",
      "{'loss': 0.2065, 'learning_rate': 8.365714285714286e-06, 'epoch': 1.23}\n",
      "{'loss': 0.1815, 'learning_rate': 8.294285714285715e-06, 'epoch': 1.26}\n",
      "{'loss': 0.1882, 'learning_rate': 8.222857142857144e-06, 'epoch': 1.28}\n",
      "{'loss': 0.2124, 'learning_rate': 8.151428571428572e-06, 'epoch': 1.31}\n",
      "{'loss': 0.2201, 'learning_rate': 8.08e-06, 'epoch': 1.34}\n",
      "{'loss': 0.1739, 'learning_rate': 8.00857142857143e-06, 'epoch': 1.37}\n",
      "{'loss': 0.1747, 'learning_rate': 7.937142857142857e-06, 'epoch': 1.4}\n",
      "{'loss': 0.2078, 'learning_rate': 7.865714285714286e-06, 'epoch': 1.43}\n",
      "{'loss': 0.1929, 'learning_rate': 7.794285714285715e-06, 'epoch': 1.46}\n",
      "{'loss': 0.2158, 'learning_rate': 7.722857142857142e-06, 'epoch': 1.48}\n",
      "{'loss': 0.1971, 'learning_rate': 7.651428571428571e-06, 'epoch': 1.51}\n",
      "{'loss': 0.2046, 'learning_rate': 7.58e-06, 'epoch': 1.54}\n",
      "{'loss': 0.1858, 'learning_rate': 7.508571428571429e-06, 'epoch': 1.57}\n",
      "{'loss': 0.1831, 'learning_rate': 7.4371428571428575e-06, 'epoch': 1.6}\n",
      "{'loss': 0.217, 'learning_rate': 7.365714285714286e-06, 'epoch': 1.63}\n",
      "{'loss': 0.2073, 'learning_rate': 7.294285714285715e-06, 'epoch': 1.66}\n",
      "{'loss': 0.179, 'learning_rate': 7.222857142857144e-06, 'epoch': 1.68}\n",
      "{'loss': 0.1854, 'learning_rate': 7.151428571428573e-06, 'epoch': 1.71}\n",
      "{'loss': 0.1957, 'learning_rate': 7.08e-06, 'epoch': 1.74}\n",
      "{'loss': 0.1945, 'learning_rate': 7.008571428571429e-06, 'epoch': 1.77}\n",
      "{'loss': 0.2201, 'learning_rate': 6.937142857142858e-06, 'epoch': 1.8}\n",
      "{'loss': 0.2057, 'learning_rate': 6.865714285714287e-06, 'epoch': 1.83}\n",
      "{'loss': 0.1952, 'learning_rate': 6.794285714285714e-06, 'epoch': 1.86}\n",
      "{'loss': 0.1953, 'learning_rate': 6.722857142857143e-06, 'epoch': 1.88}\n",
      "{'loss': 0.1731, 'learning_rate': 6.651428571428572e-06, 'epoch': 1.91}\n",
      "{'loss': 0.1843, 'learning_rate': 6.5800000000000005e-06, 'epoch': 1.94}\n",
      "{'loss': 0.198, 'learning_rate': 6.5085714285714295e-06, 'epoch': 1.97}\n",
      "{'loss': 0.181, 'learning_rate': 6.437142857142858e-06, 'epoch': 2.0}\n",
      "{'loss': 0.1101, 'learning_rate': 6.365714285714286e-06, 'epoch': 2.03}\n",
      "{'loss': 0.0853, 'learning_rate': 6.294285714285715e-06, 'epoch': 2.05}\n",
      "{'loss': 0.0773, 'learning_rate': 6.222857142857144e-06, 'epoch': 2.08}\n",
      "{'loss': 0.1075, 'learning_rate': 6.151428571428571e-06, 'epoch': 2.11}\n",
      "{'loss': 0.0839, 'learning_rate': 6.08e-06, 'epoch': 2.14}\n",
      "{'loss': 0.0993, 'learning_rate': 6.008571428571429e-06, 'epoch': 2.17}\n",
      "{'loss': 0.0917, 'learning_rate': 5.937142857142858e-06, 'epoch': 2.2}\n",
      "{'loss': 0.1004, 'learning_rate': 5.865714285714286e-06, 'epoch': 2.23}\n",
      "{'loss': 0.1033, 'learning_rate': 5.794285714285715e-06, 'epoch': 2.25}\n",
      "{'loss': 0.0766, 'learning_rate': 5.722857142857144e-06, 'epoch': 2.28}\n"
     ]
    },
    {
     "data": {
      "application/vnd.jupyter.widget-view+json": {
       "model_id": "98b0b33f09da41f18da23c82b2aa9f8a",
       "version_major": 2,
       "version_minor": 0
      },
      "text/plain": [
       "  0%|          | 0/250 [00:00<?, ?it/s]"
      ]
     },
     "metadata": {},
     "output_type": "display_data"
    },
    {
     "name": "stdout",
     "output_type": "stream",
     "text": [
      "{'eval_loss': 0.3105296194553375, 'eval_wer': 155.4, 'eval_runtime': 351.6213, 'eval_samples_per_second': 1.422, 'eval_steps_per_second': 0.711, 'epoch': 2.28}\n"
     ]
    },
    {
     "name": "stderr",
     "output_type": "stream",
     "text": [
      "C:\\Users\\ken20\\AppData\\Local\\Packages\\PythonSoftwareFoundation.Python.3.11_qbz5n2kfra8p0\\LocalCache\\local-packages\\Python311\\site-packages\\torch\\utils\\checkpoint.py:429: UserWarning: torch.utils.checkpoint: please pass in use_reentrant=True or use_reentrant=False explicitly. The default value of use_reentrant will be updated to be False in the future. To maintain current behavior, pass use_reentrant=True. It is recommended that you use use_reentrant=False. Refer to docs for more details on the differences between the two variants.\n",
      "  warnings.warn(\n"
     ]
    },
    {
     "name": "stdout",
     "output_type": "stream",
     "text": [
      "{'loss': 0.108, 'learning_rate': 5.651428571428572e-06, 'epoch': 2.31}\n",
      "{'loss': 0.0932, 'learning_rate': 5.580000000000001e-06, 'epoch': 2.34}\n",
      "{'loss': 0.0908, 'learning_rate': 5.508571428571429e-06, 'epoch': 2.37}\n",
      "{'loss': 0.0952, 'learning_rate': 5.437142857142857e-06, 'epoch': 2.4}\n",
      "{'loss': 0.0843, 'learning_rate': 5.365714285714286e-06, 'epoch': 2.43}\n",
      "{'loss': 0.0857, 'learning_rate': 5.294285714285715e-06, 'epoch': 2.45}\n",
      "{'loss': 0.1044, 'learning_rate': 5.2228571428571425e-06, 'epoch': 2.48}\n",
      "{'loss': 0.0894, 'learning_rate': 5.1514285714285715e-06, 'epoch': 2.51}\n",
      "{'loss': 0.0812, 'learning_rate': 5.0800000000000005e-06, 'epoch': 2.54}\n",
      "{'loss': 0.0956, 'learning_rate': 5.0085714285714295e-06, 'epoch': 2.57}\n",
      "{'loss': 0.0818, 'learning_rate': 4.937142857142858e-06, 'epoch': 2.6}\n",
      "{'loss': 0.0869, 'learning_rate': 4.865714285714287e-06, 'epoch': 2.63}\n",
      "{'loss': 0.0928, 'learning_rate': 4.794285714285715e-06, 'epoch': 2.65}\n",
      "{'loss': 0.0979, 'learning_rate': 4.722857142857144e-06, 'epoch': 2.68}\n",
      "{'loss': 0.101, 'learning_rate': 4.651428571428572e-06, 'epoch': 2.71}\n",
      "{'loss': 0.0841, 'learning_rate': 4.58e-06, 'epoch': 2.74}\n",
      "{'loss': 0.0906, 'learning_rate': 4.508571428571429e-06, 'epoch': 2.77}\n",
      "{'loss': 0.0961, 'learning_rate': 4.437142857142857e-06, 'epoch': 2.8}\n",
      "{'loss': 0.0944, 'learning_rate': 4.3657142857142855e-06, 'epoch': 2.83}\n",
      "{'loss': 0.0844, 'learning_rate': 4.2942857142857146e-06, 'epoch': 2.85}\n",
      "{'loss': 0.0728, 'learning_rate': 4.222857142857143e-06, 'epoch': 2.88}\n",
      "{'loss': 0.0854, 'learning_rate': 4.151428571428572e-06, 'epoch': 2.91}\n",
      "{'loss': 0.0844, 'learning_rate': 4.08e-06, 'epoch': 2.94}\n",
      "{'loss': 0.0814, 'learning_rate': 4.008571428571429e-06, 'epoch': 2.97}\n",
      "{'loss': 0.0715, 'learning_rate': 3.937142857142858e-06, 'epoch': 3.0}\n",
      "{'loss': 0.0446, 'learning_rate': 3.865714285714286e-06, 'epoch': 3.03}\n",
      "{'loss': 0.0349, 'learning_rate': 3.7942857142857147e-06, 'epoch': 3.05}\n",
      "{'loss': 0.0467, 'learning_rate': 3.722857142857143e-06, 'epoch': 3.08}\n",
      "{'loss': 0.0494, 'learning_rate': 3.651428571428572e-06, 'epoch': 3.11}\n",
      "{'loss': 0.043, 'learning_rate': 3.58e-06, 'epoch': 3.14}\n",
      "{'loss': 0.0463, 'learning_rate': 3.508571428571429e-06, 'epoch': 3.17}\n",
      "{'loss': 0.0318, 'learning_rate': 3.437142857142857e-06, 'epoch': 3.2}\n",
      "{'loss': 0.0358, 'learning_rate': 3.3657142857142862e-06, 'epoch': 3.22}\n",
      "{'loss': 0.0373, 'learning_rate': 3.2942857142857144e-06, 'epoch': 3.25}\n",
      "{'loss': 0.0501, 'learning_rate': 3.222857142857143e-06, 'epoch': 3.28}\n",
      "{'loss': 0.0407, 'learning_rate': 3.151428571428572e-06, 'epoch': 3.31}\n",
      "{'loss': 0.0453, 'learning_rate': 3.08e-06, 'epoch': 3.34}\n",
      "{'loss': 0.0362, 'learning_rate': 3.008571428571429e-06, 'epoch': 3.37}\n",
      "{'loss': 0.0403, 'learning_rate': 2.9371428571428573e-06, 'epoch': 3.4}\n",
      "{'loss': 0.0382, 'learning_rate': 2.865714285714286e-06, 'epoch': 3.42}\n"
     ]
    },
    {
     "data": {
      "application/vnd.jupyter.widget-view+json": {
       "model_id": "63622c44fda649e2bbb2cca7d2708b15",
       "version_major": 2,
       "version_minor": 0
      },
      "text/plain": [
       "  0%|          | 0/250 [00:00<?, ?it/s]"
      ]
     },
     "metadata": {},
     "output_type": "display_data"
    },
    {
     "name": "stdout",
     "output_type": "stream",
     "text": [
      "{'eval_loss': 0.3200981914997101, 'eval_wer': 273.8, 'eval_runtime': 465.1474, 'eval_samples_per_second': 1.075, 'eval_steps_per_second': 0.537, 'epoch': 3.42}\n"
     ]
    },
    {
     "name": "stderr",
     "output_type": "stream",
     "text": [
      "C:\\Users\\ken20\\AppData\\Local\\Packages\\PythonSoftwareFoundation.Python.3.11_qbz5n2kfra8p0\\LocalCache\\local-packages\\Python311\\site-packages\\torch\\utils\\checkpoint.py:429: UserWarning: torch.utils.checkpoint: please pass in use_reentrant=True or use_reentrant=False explicitly. The default value of use_reentrant will be updated to be False in the future. To maintain current behavior, pass use_reentrant=True. It is recommended that you use use_reentrant=False. Refer to docs for more details on the differences between the two variants.\n",
      "  warnings.warn(\n"
     ]
    },
    {
     "name": "stdout",
     "output_type": "stream",
     "text": [
      "{'loss': 0.0484, 'learning_rate': 2.7942857142857145e-06, 'epoch': 3.45}\n",
      "{'loss': 0.0383, 'learning_rate': 2.722857142857143e-06, 'epoch': 3.48}\n",
      "{'loss': 0.0396, 'learning_rate': 2.6514285714285713e-06, 'epoch': 3.51}\n",
      "{'loss': 0.0389, 'learning_rate': 2.5800000000000003e-06, 'epoch': 3.54}\n",
      "{'loss': 0.0428, 'learning_rate': 2.5085714285714285e-06, 'epoch': 3.57}\n",
      "{'loss': 0.0446, 'learning_rate': 2.4371428571428575e-06, 'epoch': 3.6}\n",
      "{'loss': 0.0371, 'learning_rate': 2.365714285714286e-06, 'epoch': 3.62}\n",
      "{'loss': 0.0384, 'learning_rate': 2.2942857142857146e-06, 'epoch': 3.65}\n",
      "{'loss': 0.0483, 'learning_rate': 2.222857142857143e-06, 'epoch': 3.68}\n",
      "{'loss': 0.0359, 'learning_rate': 2.1514285714285714e-06, 'epoch': 3.71}\n",
      "{'loss': 0.0448, 'learning_rate': 2.08e-06, 'epoch': 3.74}\n",
      "{'loss': 0.0415, 'learning_rate': 2.0085714285714286e-06, 'epoch': 3.77}\n",
      "{'loss': 0.0311, 'learning_rate': 1.9371428571428576e-06, 'epoch': 3.8}\n",
      "{'loss': 0.0369, 'learning_rate': 1.865714285714286e-06, 'epoch': 3.82}\n",
      "{'loss': 0.0353, 'learning_rate': 1.7942857142857146e-06, 'epoch': 3.85}\n",
      "{'loss': 0.0384, 'learning_rate': 1.7228571428571432e-06, 'epoch': 3.88}\n",
      "{'loss': 0.047, 'learning_rate': 1.6514285714285715e-06, 'epoch': 3.91}\n",
      "{'loss': 0.042, 'learning_rate': 1.5800000000000001e-06, 'epoch': 3.94}\n",
      "{'loss': 0.0325, 'learning_rate': 1.5085714285714287e-06, 'epoch': 3.97}\n",
      "{'loss': 0.0365, 'learning_rate': 1.4371428571428573e-06, 'epoch': 4.0}\n",
      "{'loss': 0.0228, 'learning_rate': 1.3657142857142857e-06, 'epoch': 4.02}\n",
      "{'loss': 0.0264, 'learning_rate': 1.2942857142857143e-06, 'epoch': 4.05}\n",
      "{'loss': 0.0274, 'learning_rate': 1.222857142857143e-06, 'epoch': 4.08}\n",
      "{'loss': 0.018, 'learning_rate': 1.1514285714285714e-06, 'epoch': 4.11}\n",
      "{'loss': 0.0156, 'learning_rate': 1.08e-06, 'epoch': 4.14}\n",
      "{'loss': 0.017, 'learning_rate': 1.0085714285714286e-06, 'epoch': 4.17}\n",
      "{'loss': 0.0238, 'learning_rate': 9.371428571428571e-07, 'epoch': 4.2}\n",
      "{'loss': 0.0226, 'learning_rate': 8.657142857142858e-07, 'epoch': 4.22}\n",
      "{'loss': 0.0192, 'learning_rate': 7.942857142857144e-07, 'epoch': 4.25}\n",
      "{'loss': 0.0144, 'learning_rate': 7.228571428571429e-07, 'epoch': 4.28}\n",
      "{'loss': 0.0308, 'learning_rate': 6.514285714285715e-07, 'epoch': 4.31}\n",
      "{'loss': 0.0139, 'learning_rate': 5.800000000000001e-07, 'epoch': 4.34}\n",
      "{'loss': 0.0149, 'learning_rate': 5.085714285714286e-07, 'epoch': 4.37}\n",
      "{'loss': 0.0235, 'learning_rate': 4.371428571428572e-07, 'epoch': 4.39}\n",
      "{'loss': 0.0177, 'learning_rate': 3.657142857142858e-07, 'epoch': 4.42}\n",
      "{'loss': 0.0183, 'learning_rate': 2.942857142857143e-07, 'epoch': 4.45}\n",
      "{'loss': 0.0244, 'learning_rate': 2.228571428571429e-07, 'epoch': 4.48}\n",
      "{'loss': 0.0203, 'learning_rate': 1.5142857142857144e-07, 'epoch': 4.51}\n",
      "{'loss': 0.0169, 'learning_rate': 8e-08, 'epoch': 4.54}\n",
      "{'loss': 0.023, 'learning_rate': 8.571428571428572e-09, 'epoch': 4.57}\n"
     ]
    },
    {
     "data": {
      "application/vnd.jupyter.widget-view+json": {
       "model_id": "274f0b122acb476391be7bc144a477f1",
       "version_major": 2,
       "version_minor": 0
      },
      "text/plain": [
       "  0%|          | 0/250 [00:00<?, ?it/s]"
      ]
     },
     "metadata": {},
     "output_type": "display_data"
    },
    {
     "name": "stdout",
     "output_type": "stream",
     "text": [
      "{'eval_loss': 0.3267483413219452, 'eval_wer': 324.2, 'eval_runtime': 471.7479, 'eval_samples_per_second': 1.06, 'eval_steps_per_second': 0.53, 'epoch': 4.57}\n"
     ]
    },
    {
     "name": "stderr",
     "output_type": "stream",
     "text": [
      "There were missing keys in the checkpoint model loaded: ['proj_out.weight'].\n"
     ]
    },
    {
     "name": "stdout",
     "output_type": "stream",
     "text": [
      "{'train_runtime': 16213.1574, 'train_samples_per_second': 3.947, 'train_steps_per_second': 0.247, 'train_loss': 0.22098379553109407, 'epoch': 4.57}\n"
     ]
    }
   ],
   "source": [
    "fineTuneWhisper(2)"
   ]
  },
  {
   "cell_type": "code",
   "execution_count": 6,
   "metadata": {},
   "outputs": [
    {
     "name": "stderr",
     "output_type": "stream",
     "text": [
      "C:\\Users\\ken20\\AppData\\Local\\Packages\\PythonSoftwareFoundation.Python.3.11_qbz5n2kfra8p0\\LocalCache\\local-packages\\Python311\\site-packages\\datasets\\table.py:1421: FutureWarning: promote has been superseded by mode='default'.\n",
      "  table = cls._concat_blocks(blocks, axis=0)\n"
     ]
    },
    {
     "data": {
      "application/vnd.jupyter.widget-view+json": {
       "model_id": "c0e31002b94246d0b9ca5d6c3078ee1c",
       "version_major": 2,
       "version_minor": 0
      },
      "text/plain": [
       "  0%|          | 0/4000 [00:00<?, ?it/s]"
      ]
     },
     "metadata": {},
     "output_type": "display_data"
    },
    {
     "name": "stderr",
     "output_type": "stream",
     "text": [
      "C:\\Users\\ken20\\AppData\\Local\\Packages\\PythonSoftwareFoundation.Python.3.11_qbz5n2kfra8p0\\LocalCache\\local-packages\\Python311\\site-packages\\torch\\utils\\checkpoint.py:429: UserWarning: torch.utils.checkpoint: please pass in use_reentrant=True or use_reentrant=False explicitly. The default value of use_reentrant will be updated to be False in the future. To maintain current behavior, pass use_reentrant=True. It is recommended that you use use_reentrant=False. Refer to docs for more details on the differences between the two variants.\n",
      "  warnings.warn(\n"
     ]
    }
   ],
   "source": [
    "fineTuneWhisper(3)"
   ]
  },
  {
   "cell_type": "code",
   "execution_count": null,
   "metadata": {},
   "outputs": [],
   "source": [
    "fineTuneWhisper(4)"
   ]
  },
  {
   "cell_type": "code",
   "execution_count": null,
   "metadata": {},
   "outputs": [],
   "source": [
    "fineTuneWhisper(5)"
   ]
  },
  {
   "cell_type": "code",
   "execution_count": null,
   "metadata": {},
   "outputs": [],
   "source": [
    "fineTuneWhisper(6)"
   ]
  }
 ],
 "metadata": {
  "kernelspec": {
   "display_name": "Python 3",
   "language": "python",
   "name": "python3"
  },
  "language_info": {
   "codemirror_mode": {
    "name": "ipython",
    "version": 3
   },
   "file_extension": ".py",
   "mimetype": "text/x-python",
   "name": "python",
   "nbconvert_exporter": "python",
   "pygments_lexer": "ipython3",
   "version": "3.11.6"
  }
 },
 "nbformat": 4,
 "nbformat_minor": 2
}
